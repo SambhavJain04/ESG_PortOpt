{
 "cells": [
  {
   "cell_type": "markdown",
   "metadata": {},
   "source": [
    "# Portfolio Optimisation for Net Zero Emission Portfolio"
   ]
  },
  {
   "cell_type": "code",
   "execution_count": 52,
   "metadata": {},
   "outputs": [
    {
     "name": "stdout",
     "output_type": "stream",
     "text": [
      "Requirement already satisfied: nbformat in ./.conda/lib/python3.11/site-packages (5.10.4)\n",
      "Requirement already satisfied: fastjsonschema>=2.15 in ./.conda/lib/python3.11/site-packages (from nbformat) (2.19.1)\n",
      "Requirement already satisfied: jsonschema>=2.6 in ./.conda/lib/python3.11/site-packages (from nbformat) (4.22.0)\n",
      "Requirement already satisfied: jupyter-core!=5.0.*,>=4.12 in ./.conda/lib/python3.11/site-packages (from nbformat) (5.5.0)\n",
      "Requirement already satisfied: traitlets>=5.1 in ./.conda/lib/python3.11/site-packages (from nbformat) (5.14.3)\n",
      "Requirement already satisfied: attrs>=22.2.0 in ./.conda/lib/python3.11/site-packages (from jsonschema>=2.6->nbformat) (23.2.0)\n",
      "Requirement already satisfied: jsonschema-specifications>=2023.03.6 in ./.conda/lib/python3.11/site-packages (from jsonschema>=2.6->nbformat) (2023.12.1)\n",
      "Requirement already satisfied: referencing>=0.28.4 in ./.conda/lib/python3.11/site-packages (from jsonschema>=2.6->nbformat) (0.35.1)\n",
      "Requirement already satisfied: rpds-py>=0.7.1 in ./.conda/lib/python3.11/site-packages (from jsonschema>=2.6->nbformat) (0.18.1)\n",
      "Requirement already satisfied: platformdirs>=2.5 in ./.conda/lib/python3.11/site-packages (from jupyter-core!=5.0.*,>=4.12->nbformat) (4.2.1)\n",
      "Note: you may need to restart the kernel to use updated packages.\n"
     ]
    }
   ],
   "source": [
    "import refinitiv.data as rd\n",
    "import refinitiv.data.eikon as ek\n",
    "import pandas as pd\n",
    "import numpy as np\n",
    "import matplotlib.pyplot as plt\n",
    "from scipy.optimize import minimize\n",
    "import plotly.graph_objects as go\n",
    "from plotly.subplots import make_subplots\n",
    "%pip install nbformat\n",
    "import os\n",
    "import nbformat\n",
    "from nbconvert.preprocessors import ExecutePreprocessor\n",
    "\n",
    "import warnings\n",
    "warnings.filterwarnings(\"ignore\")"
   ]
  },
  {
   "cell_type": "code",
   "execution_count": 53,
   "metadata": {},
   "outputs": [
    {
     "data": {
      "text/plain": [
       "<refinitiv.data.session.Definition object at 0x16e85cf10 {name='workspace'}>"
      ]
     },
     "execution_count": 53,
     "metadata": {},
     "output_type": "execute_result"
    }
   ],
   "source": [
    "rd.open_session()"
   ]
  },
  {
   "cell_type": "code",
   "execution_count": 58,
   "metadata": {},
   "outputs": [
    {
     "data": {
      "text/html": [
       "<div>\n",
       "<style scoped>\n",
       "    .dataframe tbody tr th:only-of-type {\n",
       "        vertical-align: middle;\n",
       "    }\n",
       "\n",
       "    .dataframe tbody tr th {\n",
       "        vertical-align: top;\n",
       "    }\n",
       "\n",
       "    .dataframe thead th {\n",
       "        text-align: right;\n",
       "    }\n",
       "</style>\n",
       "<table border=\"1\" class=\"dataframe\">\n",
       "  <thead>\n",
       "    <tr style=\"text-align: right;\">\n",
       "      <th></th>\n",
       "      <th>Instrument</th>\n",
       "      <th>Company Common Name</th>\n",
       "      <th>Primary Quote RIC</th>\n",
       "    </tr>\n",
       "  </thead>\n",
       "  <tbody>\n",
       "    <tr>\n",
       "      <th>0</th>\n",
       "      <td>STAN.L</td>\n",
       "      <td>Standard Chartered PLC</td>\n",
       "      <td>STAN.L</td>\n",
       "    </tr>\n",
       "    <tr>\n",
       "      <th>1</th>\n",
       "      <td>CRDA.L</td>\n",
       "      <td>Croda International PLC</td>\n",
       "      <td>CRDA.L</td>\n",
       "    </tr>\n",
       "    <tr>\n",
       "      <th>2</th>\n",
       "      <td>ANTO.L</td>\n",
       "      <td>Antofagasta PLC</td>\n",
       "      <td>ANTO.L</td>\n",
       "    </tr>\n",
       "    <tr>\n",
       "      <th>3</th>\n",
       "      <td>EZJ.L</td>\n",
       "      <td>Easyjet PLC</td>\n",
       "      <td>EZJ.L</td>\n",
       "    </tr>\n",
       "    <tr>\n",
       "      <th>4</th>\n",
       "      <td>BNZL.L</td>\n",
       "      <td>Bunzl plc</td>\n",
       "      <td>BNZL.L</td>\n",
       "    </tr>\n",
       "    <tr>\n",
       "      <th>...</th>\n",
       "      <td>...</td>\n",
       "      <td>...</td>\n",
       "      <td>...</td>\n",
       "    </tr>\n",
       "    <tr>\n",
       "      <th>95</th>\n",
       "      <td>ULVR.L</td>\n",
       "      <td>Unilever PLC</td>\n",
       "      <td>ULVR.L</td>\n",
       "    </tr>\n",
       "    <tr>\n",
       "      <th>96</th>\n",
       "      <td>OCDO.L</td>\n",
       "      <td>Ocado Group PLC</td>\n",
       "      <td>OCDO.L</td>\n",
       "    </tr>\n",
       "    <tr>\n",
       "      <th>97</th>\n",
       "      <td>LSEG.L</td>\n",
       "      <td>London Stock Exchange Group PLC</td>\n",
       "      <td>LSEG.L</td>\n",
       "    </tr>\n",
       "    <tr>\n",
       "      <th>98</th>\n",
       "      <td>TSCO.L</td>\n",
       "      <td>Tesco PLC</td>\n",
       "      <td>TSCO.L</td>\n",
       "    </tr>\n",
       "    <tr>\n",
       "      <th>99</th>\n",
       "      <td>LGEN.L</td>\n",
       "      <td>Legal &amp; General Group PLC</td>\n",
       "      <td>LGEN.L</td>\n",
       "    </tr>\n",
       "  </tbody>\n",
       "</table>\n",
       "<p>100 rows × 3 columns</p>\n",
       "</div>"
      ],
      "text/plain": [
       "   Instrument              Company Common Name Primary Quote RIC\n",
       "0      STAN.L           Standard Chartered PLC            STAN.L\n",
       "1      CRDA.L          Croda International PLC            CRDA.L\n",
       "2      ANTO.L                  Antofagasta PLC            ANTO.L\n",
       "3       EZJ.L                      Easyjet PLC             EZJ.L\n",
       "4      BNZL.L                        Bunzl plc            BNZL.L\n",
       "..        ...                              ...               ...\n",
       "95     ULVR.L                     Unilever PLC            ULVR.L\n",
       "96     OCDO.L                  Ocado Group PLC            OCDO.L\n",
       "97     LSEG.L  London Stock Exchange Group PLC            LSEG.L\n",
       "98     TSCO.L                        Tesco PLC            TSCO.L\n",
       "99     LGEN.L        Legal & General Group PLC            LGEN.L\n",
       "\n",
       "[100 rows x 3 columns]"
      ]
     },
     "execution_count": 58,
     "metadata": {},
     "output_type": "execute_result"
    }
   ],
   "source": [
    "# Get constituents of the FTSE 100 index\n",
    "constituents_data = ek.get_data(\n",
    "    instruments=['0#.FTSE'],\n",
    "    fields=['TR.CommonName', 'TR.GICSSectorName', 'TR.PrimaryQuote']\n",
    ")[0]  # [0] to get the DataFrame from the result tuple\n",
    "\n",
    "constituents_data"
   ]
  },
  {
   "cell_type": "code",
   "execution_count": 59,
   "metadata": {},
   "outputs": [
    {
     "data": {
      "text/html": [
       "<div>\n",
       "<style scoped>\n",
       "    .dataframe tbody tr th:only-of-type {\n",
       "        vertical-align: middle;\n",
       "    }\n",
       "\n",
       "    .dataframe tbody tr th {\n",
       "        vertical-align: top;\n",
       "    }\n",
       "\n",
       "    .dataframe thead th {\n",
       "        text-align: right;\n",
       "    }\n",
       "</style>\n",
       "<table border=\"1\" class=\"dataframe\">\n",
       "  <thead>\n",
       "    <tr style=\"text-align: right;\">\n",
       "      <th></th>\n",
       "      <th>Instrument</th>\n",
       "      <th>Company Common Name</th>\n",
       "      <th>Company Market Cap</th>\n",
       "      <th>TRBC Industry Group Name</th>\n",
       "      <th>ESG Score</th>\n",
       "    </tr>\n",
       "  </thead>\n",
       "  <tbody>\n",
       "    <tr>\n",
       "      <th>0</th>\n",
       "      <td>AZN.L</td>\n",
       "      <td>AstraZeneca PLC</td>\n",
       "      <td>185714716083.415985</td>\n",
       "      <td>Pharmaceuticals</td>\n",
       "      <td>95.504923</td>\n",
       "    </tr>\n",
       "    <tr>\n",
       "      <th>1</th>\n",
       "      <td>SHEL.L</td>\n",
       "      <td>Shell PLC</td>\n",
       "      <td>178931385902.052002</td>\n",
       "      <td>Oil &amp; Gas</td>\n",
       "      <td>93.477656</td>\n",
       "    </tr>\n",
       "    <tr>\n",
       "      <th>2</th>\n",
       "      <td>HSBA.L</td>\n",
       "      <td>HSBC Holdings PLC</td>\n",
       "      <td>129113021784.561005</td>\n",
       "      <td>Banking Services</td>\n",
       "      <td>78.011392</td>\n",
       "    </tr>\n",
       "    <tr>\n",
       "      <th>3</th>\n",
       "      <td>ULVR.L</td>\n",
       "      <td>Unilever PLC</td>\n",
       "      <td>106174557317.662994</td>\n",
       "      <td>Personal &amp; Household Products &amp; Services</td>\n",
       "      <td>89.380916</td>\n",
       "    </tr>\n",
       "    <tr>\n",
       "      <th>4</th>\n",
       "      <td>RIO.L</td>\n",
       "      <td>Rio Tinto PLC</td>\n",
       "      <td>94083897873.062698</td>\n",
       "      <td>Metals &amp; Mining</td>\n",
       "      <td>70.216734</td>\n",
       "    </tr>\n",
       "    <tr>\n",
       "      <th>...</th>\n",
       "      <td>...</td>\n",
       "      <td>...</td>\n",
       "      <td>...</td>\n",
       "      <td>...</td>\n",
       "      <td>...</td>\n",
       "    </tr>\n",
       "    <tr>\n",
       "      <th>95</th>\n",
       "      <td>BRBY.L</td>\n",
       "      <td>Burberry Group PLC</td>\n",
       "      <td>3694418639.4718</td>\n",
       "      <td>Specialty Retailers</td>\n",
       "      <td>78.987766</td>\n",
       "    </tr>\n",
       "    <tr>\n",
       "      <th>96</th>\n",
       "      <td>EZJ.L</td>\n",
       "      <td>Easyjet PLC</td>\n",
       "      <td>3475515156.36446</td>\n",
       "      <td>Passenger Transportation Services</td>\n",
       "      <td>54.559892</td>\n",
       "    </tr>\n",
       "    <tr>\n",
       "      <th>97</th>\n",
       "      <td>RS1R.L</td>\n",
       "      <td>RS Group PLC</td>\n",
       "      <td>3424827914.77607</td>\n",
       "      <td>Electronic Equipment &amp; Parts</td>\n",
       "      <td>60.282361</td>\n",
       "    </tr>\n",
       "    <tr>\n",
       "      <th>98</th>\n",
       "      <td>OCDO.L</td>\n",
       "      <td>Ocado Group PLC</td>\n",
       "      <td>3001573087.27707</td>\n",
       "      <td>Diversified Retail</td>\n",
       "      <td>67.810071</td>\n",
       "    </tr>\n",
       "    <tr>\n",
       "      <th>99</th>\n",
       "      <td>SJP.L</td>\n",
       "      <td>St James's Place PLC</td>\n",
       "      <td>2671835200.28171</td>\n",
       "      <td>Investment Banking &amp; Investment Services</td>\n",
       "      <td>59.369583</td>\n",
       "    </tr>\n",
       "  </tbody>\n",
       "</table>\n",
       "<p>100 rows × 5 columns</p>\n",
       "</div>"
      ],
      "text/plain": [
       "   Instrument   Company Common Name   Company Market Cap  \\\n",
       "0       AZN.L       AstraZeneca PLC  185714716083.415985   \n",
       "1      SHEL.L             Shell PLC  178931385902.052002   \n",
       "2      HSBA.L     HSBC Holdings PLC  129113021784.561005   \n",
       "3      ULVR.L          Unilever PLC  106174557317.662994   \n",
       "4       RIO.L         Rio Tinto PLC   94083897873.062698   \n",
       "..        ...                   ...                  ...   \n",
       "95     BRBY.L    Burberry Group PLC      3694418639.4718   \n",
       "96      EZJ.L           Easyjet PLC     3475515156.36446   \n",
       "97     RS1R.L          RS Group PLC     3424827914.77607   \n",
       "98     OCDO.L       Ocado Group PLC     3001573087.27707   \n",
       "99      SJP.L  St James's Place PLC     2671835200.28171   \n",
       "\n",
       "                    TRBC Industry Group Name  ESG Score  \n",
       "0                            Pharmaceuticals  95.504923  \n",
       "1                                  Oil & Gas  93.477656  \n",
       "2                           Banking Services  78.011392  \n",
       "3   Personal & Household Products & Services  89.380916  \n",
       "4                            Metals & Mining  70.216734  \n",
       "..                                       ...        ...  \n",
       "95                       Specialty Retailers  78.987766  \n",
       "96         Passenger Transportation Services  54.559892  \n",
       "97              Electronic Equipment & Parts  60.282361  \n",
       "98                        Diversified Retail  67.810071  \n",
       "99  Investment Banking & Investment Services  59.369583  \n",
       "\n",
       "[100 rows x 5 columns]"
      ]
     },
     "execution_count": 59,
     "metadata": {},
     "output_type": "execute_result"
    }
   ],
   "source": [
    "ind_const, err = ek.get_data(\n",
    "        instruments = constituents_data['Primary Quote RIC'].tolist(),\n",
    "        fields = ['TR.CommonName','TR.CompanyMarketCap', \"TR.TRBCIndustryGroup\", \"TR.TRESGScore\"])\n",
    "\n",
    "# Applying the function\n",
    "top_per_sector = ind_const.sort_values(by=['Company Market Cap', 'ESG Score'], ascending=False).head(100)\n",
    "\n",
    "top_per_sector.reset_index(drop=True, inplace=True)\n",
    "top_per_sector"
   ]
  },
  {
   "cell_type": "code",
   "execution_count": 54,
   "metadata": {},
   "outputs": [
    {
     "name": "stdout",
     "output_type": "stream",
     "text": [
      "portfolio data exists in the directory\n"
     ]
    }
   ],
   "source": [
    "# Check if the portfolio.csv file is created and data is saved in the directory or not \n",
    "if 'portfolio.csv' in os.listdir():\n",
    "    print('portfolio data exists in the directory')\n",
    "else:\n",
    "    # Run the data.ipynb notebook to create the portfolio.csv file\n",
    "    notebook_filename = 'data.ipynb'\n",
    "\n",
    "    with open(notebook_filename) as f:\n",
    "        nb = nbformat.read(f, as_version=4)\n",
    "        # Increase the timeout to a value greater than 10 minutes (e.g., 1200 seconds for 20 minutes)\n",
    "        ep = ExecutePreprocessor(timeout=1200, kernel_name='python3')\n",
    "\n",
    "        try:\n",
    "            ep.preprocess(nb, {'metadata': {'path': './'}})\n",
    "            print(f'{notebook_filename} executed successfully')\n",
    "        except Exception as e:\n",
    "            print(f'Error executing {notebook_filename}: {e}')\n",
    "\n",
    "        # Save the executed notebook (optional)\n",
    "        with open(notebook_filename, 'w', encoding='utf-8') as f:\n",
    "            nbformat.write(nb, f)"
   ]
  },
  {
   "cell_type": "code",
   "execution_count": 60,
   "metadata": {},
   "outputs": [],
   "source": [
    "portfolio_df = pd.read_csv('portfolio.csv', index_col=0)"
   ]
  },
  {
   "cell_type": "code",
   "execution_count": 61,
   "metadata": {},
   "outputs": [
    {
     "data": {
      "text/html": [
       "<div>\n",
       "<style scoped>\n",
       "    .dataframe tbody tr th:only-of-type {\n",
       "        vertical-align: middle;\n",
       "    }\n",
       "\n",
       "    .dataframe tbody tr th {\n",
       "        vertical-align: top;\n",
       "    }\n",
       "\n",
       "    .dataframe thead th {\n",
       "        text-align: right;\n",
       "    }\n",
       "</style>\n",
       "<table border=\"1\" class=\"dataframe\">\n",
       "  <thead>\n",
       "    <tr style=\"text-align: right;\">\n",
       "      <th></th>\n",
       "      <th>AAL.L</th>\n",
       "      <th>ABF.L</th>\n",
       "      <th>AHT.L</th>\n",
       "      <th>ANTO.L</th>\n",
       "      <th>AV.L</th>\n",
       "      <th>AZN.L</th>\n",
       "      <th>BAES.L</th>\n",
       "      <th>BARC.L</th>\n",
       "      <th>BATS.L</th>\n",
       "      <th>BDEV.L</th>\n",
       "      <th>...</th>\n",
       "      <th>SVT.L</th>\n",
       "      <th>TSCO.L</th>\n",
       "      <th>TW.L</th>\n",
       "      <th>ULVR.L</th>\n",
       "      <th>UTG.L</th>\n",
       "      <th>UU.L</th>\n",
       "      <th>VOD.L</th>\n",
       "      <th>WEIR.L</th>\n",
       "      <th>WPP.L</th>\n",
       "      <th>WTB.L</th>\n",
       "    </tr>\n",
       "    <tr>\n",
       "      <th>Date</th>\n",
       "      <th></th>\n",
       "      <th></th>\n",
       "      <th></th>\n",
       "      <th></th>\n",
       "      <th></th>\n",
       "      <th></th>\n",
       "      <th></th>\n",
       "      <th></th>\n",
       "      <th></th>\n",
       "      <th></th>\n",
       "      <th></th>\n",
       "      <th></th>\n",
       "      <th></th>\n",
       "      <th></th>\n",
       "      <th></th>\n",
       "      <th></th>\n",
       "      <th></th>\n",
       "      <th></th>\n",
       "      <th></th>\n",
       "      <th></th>\n",
       "      <th></th>\n",
       "    </tr>\n",
       "  </thead>\n",
       "  <tbody>\n",
       "    <tr>\n",
       "      <th>2000-01-04</th>\n",
       "      <td>996.961318</td>\n",
       "      <td>327.615390</td>\n",
       "      <td>154.593367</td>\n",
       "      <td>86.037092</td>\n",
       "      <td>920.324120</td>\n",
       "      <td>2392.339763</td>\n",
       "      <td>408.50</td>\n",
       "      <td>375.588870</td>\n",
       "      <td>332.25</td>\n",
       "      <td>165.053794</td>\n",
       "      <td>...</td>\n",
       "      <td>625.338004</td>\n",
       "      <td>181.484681</td>\n",
       "      <td>88.529409</td>\n",
       "      <td>1013.333232</td>\n",
       "      <td>165.428281</td>\n",
       "      <td>529.350796</td>\n",
       "      <td>295.186056</td>\n",
       "      <td>231.0</td>\n",
       "      <td>970.0</td>\n",
       "      <td>538.219010</td>\n",
       "    </tr>\n",
       "    <tr>\n",
       "      <th>2000-01-05</th>\n",
       "      <td>1005.684729</td>\n",
       "      <td>332.799959</td>\n",
       "      <td>153.229308</td>\n",
       "      <td>86.037092</td>\n",
       "      <td>893.154057</td>\n",
       "      <td>2346.502026</td>\n",
       "      <td>401.25</td>\n",
       "      <td>366.592729</td>\n",
       "      <td>335.50</td>\n",
       "      <td>163.611016</td>\n",
       "      <td>...</td>\n",
       "      <td>634.263903</td>\n",
       "      <td>184.480301</td>\n",
       "      <td>92.057755</td>\n",
       "      <td>1019.999898</td>\n",
       "      <td>165.428281</td>\n",
       "      <td>537.034921</td>\n",
       "      <td>280.914974</td>\n",
       "      <td>237.5</td>\n",
       "      <td>875.0</td>\n",
       "      <td>536.904143</td>\n",
       "    </tr>\n",
       "    <tr>\n",
       "      <th>2000-01-06</th>\n",
       "      <td>1030.359522</td>\n",
       "      <td>364.401142</td>\n",
       "      <td>151.410563</td>\n",
       "      <td>86.334798</td>\n",
       "      <td>884.756038</td>\n",
       "      <td>2341.625671</td>\n",
       "      <td>404.75</td>\n",
       "      <td>352.873615</td>\n",
       "      <td>328.25</td>\n",
       "      <td>163.033905</td>\n",
       "      <td>...</td>\n",
       "      <td>682.568770</td>\n",
       "      <td>184.480301</td>\n",
       "      <td>94.303066</td>\n",
       "      <td>1053.333228</td>\n",
       "      <td>165.428281</td>\n",
       "      <td>557.952815</td>\n",
       "      <td>272.402399</td>\n",
       "      <td>249.0</td>\n",
       "      <td>867.5</td>\n",
       "      <td>543.040190</td>\n",
       "    </tr>\n",
       "    <tr>\n",
       "      <th>2000-01-07</th>\n",
       "      <td>1066.748610</td>\n",
       "      <td>353.538236</td>\n",
       "      <td>151.410563</td>\n",
       "      <td>86.334798</td>\n",
       "      <td>904.516084</td>\n",
       "      <td>2397.216118</td>\n",
       "      <td>388.25</td>\n",
       "      <td>345.001992</td>\n",
       "      <td>331.25</td>\n",
       "      <td>166.208016</td>\n",
       "      <td>...</td>\n",
       "      <td>706.721203</td>\n",
       "      <td>181.983951</td>\n",
       "      <td>96.548378</td>\n",
       "      <td>1104.444334</td>\n",
       "      <td>165.428281</td>\n",
       "      <td>567.771419</td>\n",
       "      <td>287.674960</td>\n",
       "      <td>244.0</td>\n",
       "      <td>900.0</td>\n",
       "      <td>569.337536</td>\n",
       "    </tr>\n",
       "    <tr>\n",
       "      <th>2000-01-10</th>\n",
       "      <td>1077.964425</td>\n",
       "      <td>357.241499</td>\n",
       "      <td>146.863699</td>\n",
       "      <td>86.830975</td>\n",
       "      <td>910.444097</td>\n",
       "      <td>2463.534546</td>\n",
       "      <td>380.25</td>\n",
       "      <td>349.724966</td>\n",
       "      <td>326.75</td>\n",
       "      <td>159.571238</td>\n",
       "      <td>...</td>\n",
       "      <td>699.370463</td>\n",
       "      <td>176.242345</td>\n",
       "      <td>93.340790</td>\n",
       "      <td>1064.444338</td>\n",
       "      <td>165.428281</td>\n",
       "      <td>577.163126</td>\n",
       "      <td>302.196411</td>\n",
       "      <td>243.5</td>\n",
       "      <td>943.5</td>\n",
       "      <td>552.244261</td>\n",
       "    </tr>\n",
       "  </tbody>\n",
       "</table>\n",
       "<p>5 rows × 70 columns</p>\n",
       "</div>"
      ],
      "text/plain": [
       "                  AAL.L       ABF.L       AHT.L     ANTO.L        AV.L  \\\n",
       "Date                                                                     \n",
       "2000-01-04   996.961318  327.615390  154.593367  86.037092  920.324120   \n",
       "2000-01-05  1005.684729  332.799959  153.229308  86.037092  893.154057   \n",
       "2000-01-06  1030.359522  364.401142  151.410563  86.334798  884.756038   \n",
       "2000-01-07  1066.748610  353.538236  151.410563  86.334798  904.516084   \n",
       "2000-01-10  1077.964425  357.241499  146.863699  86.830975  910.444097   \n",
       "\n",
       "                  AZN.L  BAES.L      BARC.L  BATS.L      BDEV.L  ...  \\\n",
       "Date                                                             ...   \n",
       "2000-01-04  2392.339763  408.50  375.588870  332.25  165.053794  ...   \n",
       "2000-01-05  2346.502026  401.25  366.592729  335.50  163.611016  ...   \n",
       "2000-01-06  2341.625671  404.75  352.873615  328.25  163.033905  ...   \n",
       "2000-01-07  2397.216118  388.25  345.001992  331.25  166.208016  ...   \n",
       "2000-01-10  2463.534546  380.25  349.724966  326.75  159.571238  ...   \n",
       "\n",
       "                 SVT.L      TSCO.L       TW.L       ULVR.L       UTG.L  \\\n",
       "Date                                                                     \n",
       "2000-01-04  625.338004  181.484681  88.529409  1013.333232  165.428281   \n",
       "2000-01-05  634.263903  184.480301  92.057755  1019.999898  165.428281   \n",
       "2000-01-06  682.568770  184.480301  94.303066  1053.333228  165.428281   \n",
       "2000-01-07  706.721203  181.983951  96.548378  1104.444334  165.428281   \n",
       "2000-01-10  699.370463  176.242345  93.340790  1064.444338  165.428281   \n",
       "\n",
       "                  UU.L       VOD.L  WEIR.L  WPP.L       WTB.L  \n",
       "Date                                                           \n",
       "2000-01-04  529.350796  295.186056   231.0  970.0  538.219010  \n",
       "2000-01-05  537.034921  280.914974   237.5  875.0  536.904143  \n",
       "2000-01-06  557.952815  272.402399   249.0  867.5  543.040190  \n",
       "2000-01-07  567.771419  287.674960   244.0  900.0  569.337536  \n",
       "2000-01-10  577.163126  302.196411   243.5  943.5  552.244261  \n",
       "\n",
       "[5 rows x 70 columns]"
      ]
     },
     "execution_count": 61,
     "metadata": {},
     "output_type": "execute_result"
    }
   ],
   "source": [
    "portfolio_df.head(5)"
   ]
  },
  {
   "cell_type": "markdown",
   "metadata": {},
   "source": [
    "# Sharpe Ratio\n",
    "\n",
    " Most investors aren't okay with taking on high-levels of risk, so our goal is to find the best ratio of risk vs returns. Ideally, we are taking the most risk we are comfortable with and attempting to maximize those returns. That naturally leads to an important question, \"How do we measure risk?\". Well, this can lead you down a rabbit hole because there are many ways to measure risk and some are more appropriate than others depending on the situation at hand. In our case, we will use a very popular metric, the `Sharpe Ratio`. The Sharpe Ratio, is used as a measure for calculating risk-adjusted return and has been the industry standard for such calculations. The Sharpe Ratio allows us to quantify the relationship the average return earned in excess of the risk-free rate per unit of volatility or total risk.\n",
    "\n",
    "Mathematically, we define the Sharpe Ratio as the following:\n",
    "\n",
    "\\begin{equation*}\n",
    "\\text{Sharpe Ratio} = \\frac{(R_p - R_f)}{\\sigma_p}\n",
    "\\end{equation*}\n",
    "\n",
    "Where:\n",
    "\n",
    "$\n",
    "\\begin{align}\n",
    "\\ R_p & = \\text{Return of Portfolio} \\\\\n",
    "\\ R_f & = \\text{Risk-Free Rate} \\\\\n",
    "\\ \\sigma_p & = \\text{Standard Deviation of Portfolio's Excess Return} \\\\\n",
    "\\end{align}\n",
    "$\n",
    "\n",
    "To calculate the expected returns, we use the following formula:\n",
    "\n",
    "\\begin{equation*}\n",
    "\\ R_p = (w_{1}r_{1}) + (w_{2}r_{2}) + \\cdots + (w_{n}r_{n})\n",
    "\\end{equation*}\n",
    "\n",
    "Where:\n",
    "\n",
    "$\n",
    "\\begin{align}\n",
    "\\ r_{i} & = \\text{Return of Security i} \\\\\n",
    "\\ w_{i} & = \\text{Weight of Security i} \\\\\n",
    "\\end{align}\n",
    "$\n",
    "\n",
    "To calculate the standard deviation of the protfolio, we use the following formula:\n",
    "\n",
    "\\begin{equation*}\n",
    "\\ \\sigma_p = \\sqrt{(w_{i}^2 \\sigma_i^2) + (w_{j}^2 \\sigma_j^2) + (2w_{j}w_{i} p_{i,j} \\sigma_i \\sigma_j)}\n",
    "\\end{equation*}\n",
    "\n",
    "Where:\n",
    "\n",
    "$\n",
    "\\begin{align}\n",
    "\\ \\sigma_{i} & = \\text{Standard Deviation of Returns for Security i} \\\\\n",
    "\\ w_{i} & = \\text{Weight of Security i} \\\\\n",
    "\\ p_{i,j} & = \\text{Correlation Coefficent between the returns of asset i and asset j} \\\\\n",
    "\\end{align}\n",
    "$"
   ]
  },
  {
   "cell_type": "code",
   "execution_count": 62,
   "metadata": {},
   "outputs": [
    {
     "data": {
      "image/png": "[encoded data removed]",
      "text/plain": [
       "<Figure size 1000x700 with 2 Axes>"
      ]
     },
     "metadata": {},
     "output_type": "display_data"
    },
    {
     "data": {
      "text/html": [
       "<div>\n",
       "<style scoped>\n",
       "    .dataframe tbody tr th:only-of-type {\n",
       "        vertical-align: middle;\n",
       "    }\n",
       "\n",
       "    .dataframe tbody tr th {\n",
       "        vertical-align: top;\n",
       "    }\n",
       "\n",
       "    .dataframe thead th {\n",
       "        text-align: right;\n",
       "    }\n",
       "</style>\n",
       "<table border=\"1\" class=\"dataframe\">\n",
       "  <thead>\n",
       "    <tr style=\"text-align: right;\">\n",
       "      <th></th>\n",
       "      <th>Returns</th>\n",
       "      <th>Volatility</th>\n",
       "      <th>Sharpe Ratio</th>\n",
       "      <th>ESG Score</th>\n",
       "      <th>SVT.L</th>\n",
       "      <th>GSK.L</th>\n",
       "      <th>RR.L</th>\n",
       "      <th>EXPN.L</th>\n",
       "      <th>SBRY.L</th>\n",
       "      <th>AAL.L</th>\n",
       "      <th>CRDA.L</th>\n",
       "      <th>AZN.L</th>\n",
       "      <th>AHT.L</th>\n",
       "      <th>NXT.L</th>\n",
       "    </tr>\n",
       "  </thead>\n",
       "  <tbody>\n",
       "    <tr>\n",
       "      <th>0</th>\n",
       "      <td>0.089934</td>\n",
       "      <td>0.182068</td>\n",
       "      <td>0.257781</td>\n",
       "      <td>78.31722</td>\n",
       "      <td>0.137047</td>\n",
       "      <td>0.00726</td>\n",
       "      <td>0.028877</td>\n",
       "      <td>0.056285</td>\n",
       "      <td>0.024378</td>\n",
       "      <td>0.049116</td>\n",
       "      <td>0.208586</td>\n",
       "      <td>0.210335</td>\n",
       "      <td>0.069141</td>\n",
       "      <td>0.208976</td>\n",
       "    </tr>\n",
       "  </tbody>\n",
       "</table>\n",
       "</div>"
      ],
      "text/plain": [
       "    Returns  Volatility  Sharpe Ratio  ESG Score     SVT.L    GSK.L      RR.L  \\\n",
       "0  0.089934    0.182068      0.257781   78.31722  0.137047  0.00726  0.028877   \n",
       "\n",
       "     EXPN.L    SBRY.L     AAL.L    CRDA.L     AZN.L     AHT.L     NXT.L  \n",
       "0  0.056285  0.024378  0.049116  0.208586  0.210335  0.069141  0.208976  "
      ]
     },
     "execution_count": 62,
     "metadata": {},
     "output_type": "execute_result"
    }
   ],
   "source": [
    "# Calculate the Log of returns\n",
    "log_return = np.log(1 + portfolio_df.pct_change())\n",
    "\n",
    "# Monte Carlo Simulation parameters\n",
    "num_of_portfolios = 50000\n",
    "risk_free_rate = 0.043\n",
    "num_of_constituents = 10  # Number of constituents in each random portfolio\n",
    "\n",
    "# Prepare arrays to store the simulation results\n",
    "ret_arr = np.zeros(num_of_portfolios)\n",
    "vol_arr = np.zeros(num_of_portfolios)\n",
    "sharpe_arr = np.zeros(num_of_portfolios)\n",
    "esg_arr = np.zeros(num_of_portfolios)\n",
    "all_weights = []\n",
    "all_symbols = []\n",
    "\n",
    "# Convert ESG scores to a dictionary for easy lookup\n",
    "esg_scores_dict = top_per_sector.set_index('Instrument')['ESG Score'].to_dict()\n",
    "\n",
    "# Start the simulations\n",
    "for ind in range(num_of_portfolios):\n",
    "    # Randomly select 10 symbols\n",
    "    selected_symbols = np.random.choice(portfolio_df.columns, num_of_constituents, replace=False)\n",
    "    \n",
    "    # Extract data for the selected symbols\n",
    "    selected_log_return = log_return[selected_symbols]\n",
    "    \n",
    "    # Generate random portfolio weights\n",
    "    weights = np.random.random(num_of_constituents)\n",
    "    weights /= np.sum(weights)\n",
    "    \n",
    "    # Store the weights and symbols\n",
    "    all_weights.append(weights)\n",
    "    all_symbols.append(selected_symbols)\n",
    "    \n",
    "    # Calculate expected returns and add to returns array\n",
    "    ret_arr[ind] = np.sum((selected_log_return.mean() * weights) * 252)\n",
    "    \n",
    "    # Calculate volatility and add to volatility array\n",
    "    vol_arr[ind] = np.sqrt(np.dot(weights.T, np.dot(selected_log_return.cov() * 252, weights)))\n",
    "    \n",
    "    # Calculate Sharpe ratio and add to Sharpe ratio array\n",
    "    sharpe_arr[ind] = (ret_arr[ind] - risk_free_rate) / vol_arr[ind]\n",
    "    \n",
    "    # Extract ESG scores for the selected symbols\n",
    "    esg_scores = np.array([esg_scores_dict[symbol] for symbol in selected_symbols])\n",
    "    \n",
    "    # Calculate ESG score and add to ESG array\n",
    "    esg_arr[ind] = np.sum(esg_scores * weights)\n",
    "\n",
    "# Create a DataFrame for the simulation results\n",
    "simulations_df = pd.DataFrame({\n",
    "    'Returns': ret_arr,\n",
    "    'Volatility': vol_arr,\n",
    "    'Sharpe Ratio': sharpe_arr,\n",
    "    'ESG Score': esg_arr,\n",
    "    'Symbols': all_symbols,\n",
    "    'Weights': all_weights\n",
    "})\n",
    "\n",
    "# Define weights for the composite score\n",
    "sharpe_weight = 0.5\n",
    "esg_weight = 0.5\n",
    "\n",
    "# Normalize Sharpe ratios and ESG scores\n",
    "simulations_df['Normalized Sharpe'] = (simulations_df['Sharpe Ratio'] - simulations_df['Sharpe Ratio'].min()) / (simulations_df['Sharpe Ratio'].max() - simulations_df['Sharpe Ratio'].min())\n",
    "simulations_df['Normalized ESG'] = (simulations_df['ESG Score'] - simulations_df['ESG Score'].min()) / (simulations_df['ESG Score'].max() - simulations_df['ESG Score'].min())\n",
    "\n",
    "# Calculate the composite score\n",
    "simulations_df['Composite Score'] = sharpe_weight * simulations_df['Normalized Sharpe'] + esg_weight * simulations_df['Normalized ESG']\n",
    "\n",
    "# Find the portfolio with the highest composite score\n",
    "optimal_portfolio = simulations_df.loc[simulations_df['Composite Score'].idxmax()]\n",
    "\n",
    "# Extract the symbols and weights for the optimal portfolio\n",
    "optimal_symbols = optimal_portfolio['Symbols']\n",
    "optimal_weights = optimal_portfolio['Weights']\n",
    "\n",
    "# Create a dictionary for the optimal portfolio data\n",
    "optimal_portfolio_data = {\n",
    "    'Returns': optimal_portfolio['Returns'],\n",
    "    'Volatility': optimal_portfolio['Volatility'],\n",
    "    'Sharpe Ratio': optimal_portfolio['Sharpe Ratio'],\n",
    "    'ESG Score': optimal_portfolio['ESG Score']\n",
    "}\n",
    "optimal_portfolio_data.update({optimal_symbols[i]: optimal_weights[i] for i in range(num_of_constituents)})\n",
    "\n",
    "# Convert the dictionary to a DataFrame\n",
    "optimal_portfolio_df = pd.DataFrame([optimal_portfolio_data])\n",
    "\n",
    "# Plotting the Monte Carlo simulation results\n",
    "plt.figure(figsize=(10, 7))\n",
    "plt.scatter(simulations_df['Volatility'], simulations_df['Returns'], c=simulations_df['Sharpe Ratio'], cmap='coolwarm', marker='o', alpha=0.5)\n",
    "plt.colorbar(label='Sharpe Ratio')\n",
    "plt.scatter(optimal_portfolio['Volatility'], optimal_portfolio['Returns'], marker='*', color='g', s=300, label='Optimal Portfolio')\n",
    "plt.title('Portfolio Returns Vs. Risk')\n",
    "plt.xlabel('Standard Deviation')\n",
    "plt.ylabel('Returns')\n",
    "plt.legend()\n",
    "plt.show()\n",
    "\n",
    "# Print the optimal portfolio\n",
    "optimal_portfolio_df\n"
   ]
  },
  {
   "cell_type": "markdown",
   "metadata": {},
   "source": [
    "# Calculating Weighted Average Carbon Intensity\n",
    "The weighted average carbon intensity is a widely recognised metric for assessing the carbon footprint of investment portfolios. This metric helps investors aiming to align portfolios with net-zero emissions goals, in accordance with international climate targets such as the Paris Agreement. \n",
    "\n",
    "WACI calculates carbon intensity of a portfolio by taking into account the emissions of each asset relative to its economic value, typically measured in terms of revenue or market capitalisation. This approach allows for comparing and benchmarking across different investments and portfolios, taking into account the size and impact of each investment. \n",
    "\n",
    "The calculation of WACI is:\n",
    "\n",
    "$$\n",
    "\\text{WACI} = \\frac{\\sum_{\\text{Portfolio}} \\left(\\text{Weight} \\times \\frac{\\text{GHG Emissions}}{\\text{Revenue}}\\right)}{\\sum_{\\text{Portfolio}} \\text{Weight} \\ (\\text{GHG Emissions or Revenue} \\neq 0)}\n",
    "$$\n",
    "\n",
    "\n",
    "For our WACI calculation, we have decided to use the following data points for each company within the optimised portfolio from the Refinitiv API:\n",
    "- TR.CO2EmissionTotal\n",
    "- TR.F.TOTREVENUE\n",
    "\n",
    "Total CO2 emissions and Total Revenue for each company will formulate our WACI calculation. We intend to benchmark this resulting WACI figure against the MSCI All Country World Index (ACWI) Paris Agreement industry benchmark for Net Zero Portfolios -> 8\n",
    "Please see here for reference to the benchmarking from MSCI:https://www.msci.com/documents/1296102/34270843/Climate-Indexes-Report.pdf\n",
    "\n",
    "It is important to note that CO2 emissions data is lagged one full year due to the complexities involved in calculating these metrics."
   ]
  },
  {
   "cell_type": "code",
   "execution_count": 63,
   "metadata": {},
   "outputs": [],
   "source": [
    "# Retrieving the CO2 Emissions and Total Revenue data from Refinitiv for each company in the portfolio \n",
    "# Using the ticker of each company to retrieve the data. \n",
    "\n",
    "# Extract ticker names from the column names after 'ESG Score'\n",
    "ticker_columns = optimal_portfolio_df.columns[optimal_portfolio_df.columns.get_loc('ESG Score') + 1:]\n",
    "tickers_list = ticker_columns.tolist()\n",
    "\n",
    "# Retrieve data for the list of tickers\n",
    "waci_df = rd.get_history(\n",
    "    universe=tickers_list,\n",
    "    fields=[\n",
    "        'TR.CO2EmissionTotal',\n",
    "        'TR.F.TOTREVENUE'\n",
    "    ],\n",
    ")\n"
   ]
  },
  {
   "cell_type": "code",
   "execution_count": 64,
   "metadata": {},
   "outputs": [
    {
     "name": "stdout",
     "output_type": "stream",
     "text": [
      "The Weighted Average Carbon Intensity (WACI) is: 87.33\n"
     ]
    }
   ],
   "source": [
    "# Using the CO2 emissions and total revenue data to calculate the WACI for the optimised portfolio\n",
    "# Extract the latest non-null values for CO2 emissions and revenue for each ticker\n",
    "latest_data = waci_df.apply(lambda col: col.dropna().iloc[-1] if col.dropna().size > 0 else np.nan, axis=0)\n",
    "\n",
    "# Convert the Series to a DataFrame\n",
    "latest_data = latest_data.unstack()\n",
    "\n",
    "# Combine the latest data with the weights from the original dataframe\n",
    "portfolio_data = []\n",
    "for ticker in tickers_list:\n",
    "    weight = optimal_portfolio_df[ticker].iloc[0]\n",
    "    ghg_emissions = latest_data.loc[ticker, 'CO2 Equivalent Emissions Total']\n",
    "    revenue = latest_data.loc[ticker, 'Revenue from Business Activities - Total']\n",
    "    portfolio_data.append({\n",
    "        \"weight\": weight,\n",
    "        \"GHG_Emissions\": ghg_emissions,\n",
    "        \"Revenue\": revenue\n",
    "    })\n",
    "\n",
    "# Function to calculate WACI\n",
    "def calculate_waci(portfolio):\n",
    "    numerator = 0\n",
    "    denominator = 0\n",
    "\n",
    "    for entity in portfolio:\n",
    "        if entity['GHG_Emissions'] and entity['Revenue']:\n",
    "            ci = entity['GHG_Emissions'] / (entity['Revenue']/1000000) # per 1M USD\n",
    "            weighted_ci = entity['weight'] * ci\n",
    "            numerator += weighted_ci\n",
    "            denominator += entity['weight']\n",
    "\n",
    "    if denominator != 0:\n",
    "        waci = numerator / denominator\n",
    "        return waci\n",
    "    else:\n",
    "        return \"Error: Denominator is zero, cannot divide by zero\"\n",
    "\n",
    "# Calculate WACI\n",
    "waci_result = calculate_waci(portfolio_data).round(2)\n",
    "print(f\"The Weighted Average Carbon Intensity (WACI) is: {waci_result}\")\n",
    "\n",
    "# append the WACI to the optimal portfolio dataframe\n",
    "optimal_portfolio_df['WACI'] = waci_result"
   ]
  },
  {
   "cell_type": "code",
   "execution_count": 65,
   "metadata": {},
   "outputs": [
    {
     "data": {
      "application/vnd.plotly.v1+json": {
       "config": {
        "plotlyServerURL": "https://plot.ly"
       },
       "data": [
        {
         "hovertemplate": "WACI: 87.33<extra></extra>",
         "marker": {
          "color": "grey",
          "size": 15
         },
         "mode": "markers",
         "name": "Portfolio",
         "type": "scatter",
         "x": [
          0.5
         ],
         "y": [
          87.33
         ]
        }
       ],
       "layout": {
        "annotations": [
         {
          "arrowcolor": "black",
          "arrowhead": 2,
          "arrowsize": 1,
          "arrowwidth": 1,
          "ax": 100,
          "ay": 10,
          "font": {
           "color": "black",
           "size": 20
          },
          "showarrow": true,
          "text": "Portfolio",
          "x": 0.5,
          "xref": "paper",
          "y": 87.33,
          "yref": "y"
         },
         {
          "arrowcolor": "black",
          "arrowhead": 2,
          "arrowsize": 1,
          "arrowwidth": 1,
          "ax": 100,
          "ay": 10,
          "font": {
           "color": "black",
           "size": 20
          },
          "showarrow": true,
          "text": "Net Zero Emission Portfolio",
          "x": 0.5,
          "xref": "paper",
          "y": 0,
          "yref": "y"
         },
         {
          "font": {
           "color": "black",
           "size": 20
          },
          "showarrow": false,
          "text": "Paris Agreement Benchmark",
          "x": 0.5,
          "xref": "paper",
          "y": 45,
          "yref": "y"
         }
        ],
        "height": 800,
        "plot_bgcolor": "white",
        "shapes": [
         {
          "fillcolor": "darkgreen",
          "layer": "below",
          "line": {
           "width": 0
          },
          "opacity": 0.6,
          "type": "rect",
          "x0": 0,
          "x1": 1,
          "y0": 0,
          "y1": 50
         },
         {
          "fillcolor": "#7FFF00",
          "layer": "below",
          "line": {
           "width": 0
          },
          "opacity": 0.6,
          "type": "rect",
          "x0": 0,
          "x1": 1,
          "y0": 50,
          "y1": 100
         },
         {
          "fillcolor": "#FFFF00",
          "layer": "below",
          "line": {
           "width": 0
          },
          "opacity": 0.6,
          "type": "rect",
          "x0": 0,
          "x1": 1,
          "y0": 100,
          "y1": 150
         },
         {
          "fillcolor": "#FFBF00",
          "layer": "below",
          "line": {
           "width": 0
          },
          "opacity": 0.6,
          "type": "rect",
          "x0": 0,
          "x1": 1,
          "y0": 150,
          "y1": 200
         },
         {
          "fillcolor": "#FF8000",
          "layer": "below",
          "line": {
           "width": 0
          },
          "opacity": 0.6,
          "type": "rect",
          "x0": 0,
          "x1": 1,
          "y0": 200,
          "y1": 250
         },
         {
          "fillcolor": "#FF4000",
          "layer": "below",
          "line": {
           "width": 0
          },
          "opacity": 0.6,
          "type": "rect",
          "x0": 0,
          "x1": 1,
          "y0": 250,
          "y1": 300
         },
         {
          "line": {
           "color": "red",
           "dash": "dot",
           "width": 2
          },
          "type": "line",
          "x0": 0,
          "x1": 1,
          "y0": 37,
          "y1": 37
         }
        ],
        "showlegend": false,
        "template": {
         "data": {
          "bar": [
           {
            "error_x": {
             "color": "#2a3f5f"
            },
            "error_y": {
             "color": "#2a3f5f"
            },
            "marker": {
             "line": {
              "color": "#E5ECF6",
              "width": 0.5
             },
             "pattern": {
              "fillmode": "overlay",
              "size": 10,
              "solidity": 0.2
             }
            },
            "type": "bar"
           }
          ],
          "barpolar": [
           {
            "marker": {
             "line": {
              "color": "#E5ECF6",
              "width": 0.5
             },
             "pattern": {
              "fillmode": "overlay",
              "size": 10,
              "solidity": 0.2
             }
            },
            "type": "barpolar"
           }
          ],
          "carpet": [
           {
            "aaxis": {
             "endlinecolor": "#2a3f5f",
             "gridcolor": "white",
             "linecolor": "white",
             "minorgridcolor": "white",
             "startlinecolor": "#2a3f5f"
            },
            "baxis": {
             "endlinecolor": "#2a3f5f",
             "gridcolor": "white",
             "linecolor": "white",
             "minorgridcolor": "white",
             "startlinecolor": "#2a3f5f"
            },
            "type": "carpet"
           }
          ],
          "choropleth": [
           {
            "colorbar": {
             "outlinewidth": 0,
             "ticks": ""
            },
            "type": "choropleth"
           }
          ],
          "contour": [
           {
            "colorbar": {
             "outlinewidth": 0,
             "ticks": ""
            },
            "colorscale": [
             [
              0,
              "#0d0887"
             ],
             [
              0.1111111111111111,
              "#46039f"
             ],
             [
              0.2222222222222222,
              "#7201a8"
             ],
             [
              0.3333333333333333,
              "#9c179e"
             ],
             [
              0.4444444444444444,
              "#bd3786"
             ],
             [
              0.5555555555555556,
              "#d8576b"
             ],
             [
              0.6666666666666666,
              "#ed7953"
             ],
             [
              0.7777777777777778,
              "#fb9f3a"
             ],
             [
              0.8888888888888888,
              "#fdca26"
             ],
             [
              1,
              "#f0f921"
             ]
            ],
            "type": "contour"
           }
          ],
          "contourcarpet": [
           {
            "colorbar": {
             "outlinewidth": 0,
             "ticks": ""
            },
            "type": "contourcarpet"
           }
          ],
          "heatmap": [
           {
            "colorbar": {
             "outlinewidth": 0,
             "ticks": ""
            },
            "colorscale": [
             [
              0,
              "#0d0887"
             ],
             [
              0.1111111111111111,
              "#46039f"
             ],
             [
              0.2222222222222222,
              "#7201a8"
             ],
             [
              0.3333333333333333,
              "#9c179e"
             ],
             [
              0.4444444444444444,
              "#bd3786"
             ],
             [
              0.5555555555555556,
              "#d8576b"
             ],
             [
              0.6666666666666666,
              "#ed7953"
             ],
             [
              0.7777777777777778,
              "#fb9f3a"
             ],
             [
              0.8888888888888888,
              "#fdca26"
             ],
             [
              1,
              "#f0f921"
             ]
            ],
            "type": "heatmap"
           }
          ],
          "heatmapgl": [
           {
            "colorbar": {
             "outlinewidth": 0,
             "ticks": ""
            },
            "colorscale": [
             [
              0,
              "#0d0887"
             ],
             [
              0.1111111111111111,
              "#46039f"
             ],
             [
              0.2222222222222222,
              "#7201a8"
             ],
             [
              0.3333333333333333,
              "#9c179e"
             ],
             [
              0.4444444444444444,
              "#bd3786"
             ],
             [
              0.5555555555555556,
              "#d8576b"
             ],
             [
              0.6666666666666666,
              "#ed7953"
             ],
             [
              0.7777777777777778,
              "#fb9f3a"
             ],
             [
              0.8888888888888888,
              "#fdca26"
             ],
             [
              1,
              "#f0f921"
             ]
            ],
            "type": "heatmapgl"
           }
          ],
          "histogram": [
           {
            "marker": {
             "pattern": {
              "fillmode": "overlay",
              "size": 10,
              "solidity": 0.2
             }
            },
            "type": "histogram"
           }
          ],
          "histogram2d": [
           {
            "colorbar": {
             "outlinewidth": 0,
             "ticks": ""
            },
            "colorscale": [
             [
              0,
              "#0d0887"
             ],
             [
              0.1111111111111111,
              "#46039f"
             ],
             [
              0.2222222222222222,
              "#7201a8"
             ],
             [
              0.3333333333333333,
              "#9c179e"
             ],
             [
              0.4444444444444444,
              "#bd3786"
             ],
             [
              0.5555555555555556,
              "#d8576b"
             ],
             [
              0.6666666666666666,
              "#ed7953"
             ],
             [
              0.7777777777777778,
              "#fb9f3a"
             ],
             [
              0.8888888888888888,
              "#fdca26"
             ],
             [
              1,
              "#f0f921"
             ]
            ],
            "type": "histogram2d"
           }
          ],
          "histogram2dcontour": [
           {
            "colorbar": {
             "outlinewidth": 0,
             "ticks": ""
            },
            "colorscale": [
             [
              0,
              "#0d0887"
             ],
             [
              0.1111111111111111,
              "#46039f"
             ],
             [
              0.2222222222222222,
              "#7201a8"
             ],
             [
              0.3333333333333333,
              "#9c179e"
             ],
             [
              0.4444444444444444,
              "#bd3786"
             ],
             [
              0.5555555555555556,
              "#d8576b"
             ],
             [
              0.6666666666666666,
              "#ed7953"
             ],
             [
              0.7777777777777778,
              "#fb9f3a"
             ],
             [
              0.8888888888888888,
              "#fdca26"
             ],
             [
              1,
              "#f0f921"
             ]
            ],
            "type": "histogram2dcontour"
           }
          ],
          "mesh3d": [
           {
            "colorbar": {
             "outlinewidth": 0,
             "ticks": ""
            },
            "type": "mesh3d"
           }
          ],
          "parcoords": [
           {
            "line": {
             "colorbar": {
              "outlinewidth": 0,
              "ticks": ""
             }
            },
            "type": "parcoords"
           }
          ],
          "pie": [
           {
            "automargin": true,
            "type": "pie"
           }
          ],
          "scatter": [
           {
            "fillpattern": {
             "fillmode": "overlay",
             "size": 10,
             "solidity": 0.2
            },
            "type": "scatter"
           }
          ],
          "scatter3d": [
           {
            "line": {
             "colorbar": {
              "outlinewidth": 0,
              "ticks": ""
             }
            },
            "marker": {
             "colorbar": {
              "outlinewidth": 0,
              "ticks": ""
             }
            },
            "type": "scatter3d"
           }
          ],
          "scattercarpet": [
           {
            "marker": {
             "colorbar": {
              "outlinewidth": 0,
              "ticks": ""
             }
            },
            "type": "scattercarpet"
           }
          ],
          "scattergeo": [
           {
            "marker": {
             "colorbar": {
              "outlinewidth": 0,
              "ticks": ""
             }
            },
            "type": "scattergeo"
           }
          ],
          "scattergl": [
           {
            "marker": {
             "colorbar": {
              "outlinewidth": 0,
              "ticks": ""
             }
            },
            "type": "scattergl"
           }
          ],
          "scattermapbox": [
           {
            "marker": {
             "colorbar": {
              "outlinewidth": 0,
              "ticks": ""
             }
            },
            "type": "scattermapbox"
           }
          ],
          "scatterpolar": [
           {
            "marker": {
             "colorbar": {
              "outlinewidth": 0,
              "ticks": ""
             }
            },
            "type": "scatterpolar"
           }
          ],
          "scatterpolargl": [
           {
            "marker": {
             "colorbar": {
              "outlinewidth": 0,
              "ticks": ""
             }
            },
            "type": "scatterpolargl"
           }
          ],
          "scatterternary": [
           {
            "marker": {
             "colorbar": {
              "outlinewidth": 0,
              "ticks": ""
             }
            },
            "type": "scatterternary"
           }
          ],
          "surface": [
           {
            "colorbar": {
             "outlinewidth": 0,
             "ticks": ""
            },
            "colorscale": [
             [
              0,
              "#0d0887"
             ],
             [
              0.1111111111111111,
              "#46039f"
             ],
             [
              0.2222222222222222,
              "#7201a8"
             ],
             [
              0.3333333333333333,
              "#9c179e"
             ],
             [
              0.4444444444444444,
              "#bd3786"
             ],
             [
              0.5555555555555556,
              "#d8576b"
             ],
             [
              0.6666666666666666,
              "#ed7953"
             ],
             [
              0.7777777777777778,
              "#fb9f3a"
             ],
             [
              0.8888888888888888,
              "#fdca26"
             ],
             [
              1,
              "#f0f921"
             ]
            ],
            "type": "surface"
           }
          ],
          "table": [
           {
            "cells": {
             "fill": {
              "color": "#EBF0F8"
             },
             "line": {
              "color": "white"
             }
            },
            "header": {
             "fill": {
              "color": "#C8D4E3"
             },
             "line": {
              "color": "white"
             }
            },
            "type": "table"
           }
          ]
         },
         "layout": {
          "annotationdefaults": {
           "arrowcolor": "#2a3f5f",
           "arrowhead": 0,
           "arrowwidth": 1
          },
          "autotypenumbers": "strict",
          "coloraxis": {
           "colorbar": {
            "outlinewidth": 0,
            "ticks": ""
           }
          },
          "colorscale": {
           "diverging": [
            [
             0,
             "#8e0152"
            ],
            [
             0.1,
             "#c51b7d"
            ],
            [
             0.2,
             "#de77ae"
            ],
            [
             0.3,
             "#f1b6da"
            ],
            [
             0.4,
             "#fde0ef"
            ],
            [
             0.5,
             "#f7f7f7"
            ],
            [
             0.6,
             "#e6f5d0"
            ],
            [
             0.7,
             "#b8e186"
            ],
            [
             0.8,
             "#7fbc41"
            ],
            [
             0.9,
             "#4d9221"
            ],
            [
             1,
             "#276419"
            ]
           ],
           "sequential": [
            [
             0,
             "#0d0887"
            ],
            [
             0.1111111111111111,
             "#46039f"
            ],
            [
             0.2222222222222222,
             "#7201a8"
            ],
            [
             0.3333333333333333,
             "#9c179e"
            ],
            [
             0.4444444444444444,
             "#bd3786"
            ],
            [
             0.5555555555555556,
             "#d8576b"
            ],
            [
             0.6666666666666666,
             "#ed7953"
            ],
            [
             0.7777777777777778,
             "#fb9f3a"
            ],
            [
             0.8888888888888888,
             "#fdca26"
            ],
            [
             1,
             "#f0f921"
            ]
           ],
           "sequentialminus": [
            [
             0,
             "#0d0887"
            ],
            [
             0.1111111111111111,
             "#46039f"
            ],
            [
             0.2222222222222222,
             "#7201a8"
            ],
            [
             0.3333333333333333,
             "#9c179e"
            ],
            [
             0.4444444444444444,
             "#bd3786"
            ],
            [
             0.5555555555555556,
             "#d8576b"
            ],
            [
             0.6666666666666666,
             "#ed7953"
            ],
            [
             0.7777777777777778,
             "#fb9f3a"
            ],
            [
             0.8888888888888888,
             "#fdca26"
            ],
            [
             1,
             "#f0f921"
            ]
           ]
          },
          "colorway": [
           "#636efa",
           "#EF553B",
           "#00cc96",
           "#ab63fa",
           "#FFA15A",
           "#19d3f3",
           "#FF6692",
           "#B6E880",
           "#FF97FF",
           "#FECB52"
          ],
          "font": {
           "color": "#2a3f5f"
          },
          "geo": {
           "bgcolor": "white",
           "lakecolor": "white",
           "landcolor": "#E5ECF6",
           "showlakes": true,
           "showland": true,
           "subunitcolor": "white"
          },
          "hoverlabel": {
           "align": "left"
          },
          "hovermode": "closest",
          "mapbox": {
           "style": "light"
          },
          "paper_bgcolor": "white",
          "plot_bgcolor": "#E5ECF6",
          "polar": {
           "angularaxis": {
            "gridcolor": "white",
            "linecolor": "white",
            "ticks": ""
           },
           "bgcolor": "#E5ECF6",
           "radialaxis": {
            "gridcolor": "white",
            "linecolor": "white",
            "ticks": ""
           }
          },
          "scene": {
           "xaxis": {
            "backgroundcolor": "#E5ECF6",
            "gridcolor": "white",
            "gridwidth": 2,
            "linecolor": "white",
            "showbackground": true,
            "ticks": "",
            "zerolinecolor": "white"
           },
           "yaxis": {
            "backgroundcolor": "#E5ECF6",
            "gridcolor": "white",
            "gridwidth": 2,
            "linecolor": "white",
            "showbackground": true,
            "ticks": "",
            "zerolinecolor": "white"
           },
           "zaxis": {
            "backgroundcolor": "#E5ECF6",
            "gridcolor": "white",
            "gridwidth": 2,
            "linecolor": "white",
            "showbackground": true,
            "ticks": "",
            "zerolinecolor": "white"
           }
          },
          "shapedefaults": {
           "line": {
            "color": "#2a3f5f"
           }
          },
          "ternary": {
           "aaxis": {
            "gridcolor": "white",
            "linecolor": "white",
            "ticks": ""
           },
           "baxis": {
            "gridcolor": "white",
            "linecolor": "white",
            "ticks": ""
           },
           "bgcolor": "#E5ECF6",
           "caxis": {
            "gridcolor": "white",
            "linecolor": "white",
            "ticks": ""
           }
          },
          "title": {
           "x": 0.05
          },
          "xaxis": {
           "automargin": true,
           "gridcolor": "white",
           "linecolor": "white",
           "ticks": "",
           "title": {
            "standoff": 15
           },
           "zerolinecolor": "white",
           "zerolinewidth": 2
          },
          "yaxis": {
           "automargin": true,
           "gridcolor": "white",
           "linecolor": "white",
           "ticks": "",
           "title": {
            "standoff": 15
           },
           "zerolinecolor": "white",
           "zerolinewidth": 2
          }
         }
        },
        "title": {
         "text": "Weighted Average Carbon Intensity (WACI) Comparison"
        },
        "xaxis": {
         "showgrid": false,
         "showticklabels": false,
         "zeroline": false
        },
        "yaxis": {
         "range": [
          0,
          300
         ],
         "title": {
          "text": "Carbon Intensity (Tonnes of CO2 per $1M Revenue)"
         }
        }
       }
      }
     },
     "metadata": {},
     "output_type": "display_data"
    }
   ],
   "source": [
    "# Define the WACI thresholds for different levels (example values)\n",
    "thresholds = {\n",
    "    \"Portfolio\": waci_result,  # Current WACI result\n",
    "    \"Net Zero Emission Portfolio\": 0\n",
    "}\n",
    "\n",
    "# Define colors and levels for the background\n",
    "colors = ['darkgreen', '#7FFF00', '#FFFF00', '#FFBF00', '#FF8000', '#FF4000']\n",
    "levels = [0, 50, 100, 150, 200, 250, 300]  # Adjusted levels to match the number of colors\n",
    "\n",
    "# Create the figure\n",
    "fig = go.Figure()\n",
    "\n",
    "# Add background color segments\n",
    "for i in range(len(colors)):\n",
    "    fig.add_shape(\n",
    "        type=\"rect\",\n",
    "        x0=0, x1=1,\n",
    "        y0=levels[i], y1=levels[i+1],\n",
    "        fillcolor=colors[i],\n",
    "        opacity=0.6,\n",
    "        layer=\"below\",\n",
    "        line_width=0\n",
    "    )\n",
    "\n",
    "# Plot the WACI result\n",
    "fig.add_trace(go.Scatter(\n",
    "    x=[0.5],\n",
    "    y=[waci_result],\n",
    "    mode='markers',\n",
    "    marker=dict(size=15, color='grey'),\n",
    "    name='Portfolio',\n",
    "    hovertemplate=f'WACI: {waci_result}<extra></extra>'\n",
    "))\n",
    "\n",
    "# Add arrows and text labels\n",
    "for label, level in thresholds.items():\n",
    "    if level >= 0:  # Only add labels for non-negative levels\n",
    "        fig.add_annotation(\n",
    "            x=0.5,\n",
    "            y=level,\n",
    "            xref=\"paper\",\n",
    "            yref=\"y\",\n",
    "            text=label,\n",
    "            showarrow=True,\n",
    "            arrowhead=2,\n",
    "            arrowsize=1,\n",
    "            arrowwidth=1,\n",
    "            arrowcolor='black',\n",
    "            ax=100,\n",
    "            ay=10,\n",
    "            font=dict(size=20, color='black')  # Increased font size\n",
    "        )\n",
    "\n",
    "# Add a horizontal dotted line at 37\n",
    "fig.add_shape(\n",
    "    type=\"line\",\n",
    "    x0=0, x1=1,\n",
    "    y0=37, y1=37,\n",
    "    line=dict(\n",
    "        color=\"red\",\n",
    "        width=2,\n",
    "        dash=\"dot\",\n",
    "    )\n",
    ")\n",
    "\n",
    "# Add annotation for the dotted line\n",
    "fig.add_annotation(\n",
    "    x=0.5,\n",
    "    y=45,\n",
    "    xref=\"paper\",\n",
    "    yref=\"y\",\n",
    "    text=\"Paris Agreement Benchmark\",\n",
    "    showarrow=False,\n",
    "    font=dict(size=20, color='black')  # Increased font size\n",
    ")\n",
    "\n",
    "# Update layout\n",
    "fig.update_layout(\n",
    "    title='Weighted Average Carbon Intensity (WACI) Comparison',\n",
    "    xaxis=dict(showticklabels=False, showgrid=False, zeroline=False),\n",
    "    yaxis=dict(title='Carbon Intensity (Tonnes of CO2 per $1M Revenue)', range=[0, 300]),\n",
    "    showlegend=False,\n",
    "    plot_bgcolor='white',\n",
    "    height=800,\n",
    "  # Adjust height for better visibility\n",
    ")\n",
    "\n",
    "# Display the plot\n",
    "fig.show()"
   ]
  },
  {
   "cell_type": "markdown",
   "metadata": {},
   "source": [
    "# Optimization\n",
    "\n",
    "Alright, now remember that up above I mentioned that we would be exploring multiple ways to optimize our portfolio. The first was using Monte Carlo Simulation that would try thousands of random values and find the best values. The draw back to using the Monte Carlo Simulation is that it's not the most efficent way to find the optimial values. Instead we can use mathematical techniques to easily arrive at the optimial values.\n",
    "\n",
    "To help run this new optimization method, we will need to define a few more functions that we will use in our method. The first function is the `get_metrics()` function which will return the metrics for a given set of weights provided. In other words, think of it as a \"lookup function\" where we can return the results of a certain weight. The second function is the `neg_sharpe` function which is used as a minimization function. The minimization function is used to help find the values which results in the lowest sharpe ratio. In Scipy’s optimize function, there’s no `maximize`, so as an objective function you need to pass something that should be minimized.\n",
    "\n",
    "The third function is `check_sum` function which is used as a constraint. What is will do is make sure that the weights that are passed through meet the constraint that we must have a portfolio allocation equal 100%, not more and not less."
   ]
  },
  {
   "cell_type": "code",
   "execution_count": 66,
   "metadata": {},
   "outputs": [
    {
     "data": {
      "text/html": [
       "<div>\n",
       "<style scoped>\n",
       "    .dataframe tbody tr th:only-of-type {\n",
       "        vertical-align: middle;\n",
       "    }\n",
       "\n",
       "    .dataframe tbody tr th {\n",
       "        vertical-align: top;\n",
       "    }\n",
       "\n",
       "    .dataframe thead th {\n",
       "        text-align: right;\n",
       "    }\n",
       "</style>\n",
       "<table border=\"1\" class=\"dataframe\">\n",
       "  <thead>\n",
       "    <tr style=\"text-align: right;\">\n",
       "      <th></th>\n",
       "      <th>Returns</th>\n",
       "      <th>Volatility</th>\n",
       "      <th>Sharpe Ratio</th>\n",
       "      <th>WACI</th>\n",
       "      <th>SVT.L</th>\n",
       "      <th>GSK.L</th>\n",
       "      <th>RR.L</th>\n",
       "      <th>EXPN.L</th>\n",
       "      <th>SBRY.L</th>\n",
       "      <th>AAL.L</th>\n",
       "      <th>CRDA.L</th>\n",
       "      <th>AZN.L</th>\n",
       "      <th>AHT.L</th>\n",
       "      <th>NXT.L</th>\n",
       "    </tr>\n",
       "  </thead>\n",
       "  <tbody>\n",
       "    <tr>\n",
       "      <th>0</th>\n",
       "      <td>0.117144</td>\n",
       "      <td>0.221477</td>\n",
       "      <td>0.334772</td>\n",
       "      <td>37.0</td>\n",
       "      <td>1.405019e-16</td>\n",
       "      <td>0.0</td>\n",
       "      <td>0.0</td>\n",
       "      <td>0.375139</td>\n",
       "      <td>5.746056e-17</td>\n",
       "      <td>1.746350e-17</td>\n",
       "      <td>0.239901</td>\n",
       "      <td>0.0</td>\n",
       "      <td>0.095653</td>\n",
       "      <td>0.289307</td>\n",
       "    </tr>\n",
       "  </tbody>\n",
       "</table>\n",
       "</div>"
      ],
      "text/plain": [
       "    Returns  Volatility  Sharpe Ratio  WACI         SVT.L  GSK.L  RR.L  \\\n",
       "0  0.117144    0.221477      0.334772  37.0  1.405019e-16    0.0   0.0   \n",
       "\n",
       "     EXPN.L        SBRY.L         AAL.L    CRDA.L  AZN.L     AHT.L     NXT.L  \n",
       "0  0.375139  5.746056e-17  1.746350e-17  0.239901    0.0  0.095653  0.289307  "
      ]
     },
     "execution_count": 66,
     "metadata": {},
     "output_type": "execute_result"
    }
   ],
   "source": [
    "# Transform the DataFrame into the required dictionary format\n",
    "company_data = {}\n",
    "for symbol in latest_data.index:\n",
    "    company_data[symbol] = {\n",
    "        'GHG_Emissions': latest_data.loc[symbol, 'CO2 Equivalent Emissions Total'],\n",
    "        'Revenue': latest_data.loc[symbol, 'Revenue from Business Activities - Total']\n",
    "    }\n",
    "\n",
    "# Function to calculate WACI\n",
    "def calculate_waci(weights, ghg_emissions, revenue):\n",
    "    ci = ghg_emissions / (revenue / 1_000_000)  # Carbon intensity per 1M USD\n",
    "    weighted_ci = weights * ci\n",
    "    waci = np.sum(weighted_ci)\n",
    "    return waci\n",
    "\n",
    "# Define the optimization function\n",
    "def negative_sharpe_ratio(weights, mean_returns, cov_matrix, risk_free_rate):\n",
    "    returns = np.sum(mean_returns * weights) * 252\n",
    "    volatility = np.sqrt(np.dot(weights.T, np.dot(cov_matrix * 252, weights)))\n",
    "    sharpe_ratio = (returns - risk_free_rate) / volatility\n",
    "    return -sharpe_ratio\n",
    "\n",
    "def check_sum(weights):\n",
    "    return np.sum(weights) - 1\n",
    "\n",
    "def waci_constraint(weights, ghg_emissions, revenue, target_waci):\n",
    "    return target_waci - calculate_waci(weights, ghg_emissions, revenue)\n",
    "\n",
    "# Function to perform optimization on given portfolios\n",
    "def optimize_portfolio(initial_weights, mean_returns, cov_matrix, ghg_emissions, revenue, risk_free_rate, target_waci):\n",
    "    bounds = tuple((0, 1) for _ in range(len(initial_weights)))\n",
    "    constraints = (\n",
    "        {'type': 'eq', 'fun': check_sum},\n",
    "        {'type': 'ineq', 'fun': lambda weights: waci_constraint(weights, ghg_emissions, revenue, target_waci)}\n",
    "    )\n",
    "    result = minimize(\n",
    "        negative_sharpe_ratio,\n",
    "        initial_weights,\n",
    "        args=(mean_returns, cov_matrix, risk_free_rate),\n",
    "        method='SLSQP',\n",
    "        bounds=bounds,\n",
    "        constraints=constraints\n",
    "    )\n",
    "    return result\n",
    "\n",
    "# Assuming mean_returns, cov_matrix, and log_return are defined\n",
    "# Define risk-free rate and target WACI\n",
    "risk_free_rate = 0.043  # Example risk-free rate\n",
    "target_waci = 37  # Target WACI\n",
    "\n",
    "optimized_results = []\n",
    "\n",
    "for idx, row in optimal_portfolio_df.iterrows():\n",
    "    # Extract symbols and weights from the row\n",
    "    selected_symbols = row.index[4:-1]  # Symbols start from the 5th column onward\n",
    "    initial_weights = row[selected_symbols].values\n",
    "    ghg_emissions = np.array([company_data[symbol]['GHG_Emissions'] for symbol in selected_symbols])\n",
    "    revenue = np.array([company_data[symbol]['Revenue'] for symbol in selected_symbols])\n",
    "\n",
    "    # Assume mean_returns and cov_matrix are previously calculated for these symbols\n",
    "    selected_log_return = log_return[selected_symbols]\n",
    "    \n",
    "    result = optimize_portfolio(initial_weights, selected_log_return.mean(), selected_log_return.cov(), ghg_emissions, revenue, risk_free_rate, target_waci)\n",
    "\n",
    "    optimized_weights = result.x\n",
    "    optimized_return = np.sum(selected_log_return.mean() * optimized_weights) * 252\n",
    "    optimized_volatility = np.sqrt(np.dot(optimized_weights.T, np.dot(selected_log_return.cov() * 252, optimized_weights)))\n",
    "    optimized_sharpe = (optimized_return - risk_free_rate) / optimized_volatility\n",
    "    optimized_waci = calculate_waci(optimized_weights, ghg_emissions, revenue)\n",
    "    \n",
    "    # Ensure weights sum to one\n",
    "    weight_sum = np.sum(optimized_weights)\n",
    "    assert np.isclose(weight_sum, 1), f\"Weights do not sum to 1, sum = {weight_sum}\"\n",
    "\n",
    "    optimized_results.append({\n",
    "        'Returns': optimized_return,\n",
    "        'Volatility': optimized_volatility,\n",
    "        'Sharpe Ratio': optimized_sharpe,\n",
    "        'WACI': optimized_waci,\n",
    "        **{symbol: weight for symbol, weight in zip(selected_symbols, optimized_weights)}\n",
    "    })\n",
    "\n",
    "# Convert the optimized results to a DataFrame\n",
    "optimized_df = pd.DataFrame(optimized_results)\n",
    "\n",
    "# Display the optimized portfolio metrics\n",
    "optimized_df"
   ]
  },
  {
   "cell_type": "code",
   "execution_count": 67,
   "metadata": {},
   "outputs": [
    {
     "data": {
      "application/vnd.plotly.v1+json": {
       "config": {
        "plotlyServerURL": "https://plot.ly"
       },
       "data": [
        {
         "hovertemplate": "WACI: 36.99999999968335<extra></extra>",
         "marker": {
          "color": "grey",
          "size": 15
         },
         "mode": "markers",
         "name": "Optimised Portfolio",
         "type": "scatter",
         "x": [
          0.5
         ],
         "y": [
          36.99999999968335
         ]
        }
       ],
       "layout": {
        "annotations": [
         {
          "arrowcolor": "black",
          "arrowhead": 2,
          "arrowsize": 1,
          "arrowwidth": 1,
          "ax": 100,
          "ay": 20,
          "font": {
           "color": "black",
           "size": 20
          },
          "showarrow": true,
          "text": "Optimised Portfolio",
          "x": 0.5,
          "xref": "paper",
          "y": 36.99999999968335,
          "yref": "y"
         },
         {
          "arrowcolor": "black",
          "arrowhead": 2,
          "arrowsize": 1,
          "arrowwidth": 1,
          "ax": 100,
          "ay": 20,
          "font": {
           "color": "black",
           "size": 20
          },
          "showarrow": true,
          "text": "Net Zero Emission Portfolio",
          "x": 0.5,
          "xref": "paper",
          "y": 0,
          "yref": "y"
         },
         {
          "font": {
           "color": "black",
           "size": 20
          },
          "showarrow": false,
          "text": "Paris Agreement Benchmark",
          "x": 0.5,
          "xref": "paper",
          "y": 45,
          "yref": "y"
         }
        ],
        "height": 800,
        "plot_bgcolor": "white",
        "shapes": [
         {
          "fillcolor": "darkgreen",
          "layer": "below",
          "line": {
           "width": 0
          },
          "opacity": 0.6,
          "type": "rect",
          "x0": 0,
          "x1": 1,
          "y0": 0,
          "y1": 50
         },
         {
          "fillcolor": "#7FFF00",
          "layer": "below",
          "line": {
           "width": 0
          },
          "opacity": 0.6,
          "type": "rect",
          "x0": 0,
          "x1": 1,
          "y0": 50,
          "y1": 100
         },
         {
          "fillcolor": "#FFFF00",
          "layer": "below",
          "line": {
           "width": 0
          },
          "opacity": 0.6,
          "type": "rect",
          "x0": 0,
          "x1": 1,
          "y0": 100,
          "y1": 150
         },
         {
          "fillcolor": "#FFBF00",
          "layer": "below",
          "line": {
           "width": 0
          },
          "opacity": 0.6,
          "type": "rect",
          "x0": 0,
          "x1": 1,
          "y0": 150,
          "y1": 200
         },
         {
          "fillcolor": "#FF8000",
          "layer": "below",
          "line": {
           "width": 0
          },
          "opacity": 0.6,
          "type": "rect",
          "x0": 0,
          "x1": 1,
          "y0": 200,
          "y1": 250
         },
         {
          "fillcolor": "#FF4000",
          "layer": "below",
          "line": {
           "width": 0
          },
          "opacity": 0.6,
          "type": "rect",
          "x0": 0,
          "x1": 1,
          "y0": 250,
          "y1": 300
         },
         {
          "line": {
           "color": "red",
           "dash": "dot",
           "width": 2
          },
          "type": "line",
          "x0": 0,
          "x1": 1,
          "y0": 37,
          "y1": 37
         }
        ],
        "showlegend": false,
        "template": {
         "data": {
          "bar": [
           {
            "error_x": {
             "color": "#2a3f5f"
            },
            "error_y": {
             "color": "#2a3f5f"
            },
            "marker": {
             "line": {
              "color": "#E5ECF6",
              "width": 0.5
             },
             "pattern": {
              "fillmode": "overlay",
              "size": 10,
              "solidity": 0.2
             }
            },
            "type": "bar"
           }
          ],
          "barpolar": [
           {
            "marker": {
             "line": {
              "color": "#E5ECF6",
              "width": 0.5
             },
             "pattern": {
              "fillmode": "overlay",
              "size": 10,
              "solidity": 0.2
             }
            },
            "type": "barpolar"
           }
          ],
          "carpet": [
           {
            "aaxis": {
             "endlinecolor": "#2a3f5f",
             "gridcolor": "white",
             "linecolor": "white",
             "minorgridcolor": "white",
             "startlinecolor": "#2a3f5f"
            },
            "baxis": {
             "endlinecolor": "#2a3f5f",
             "gridcolor": "white",
             "linecolor": "white",
             "minorgridcolor": "white",
             "startlinecolor": "#2a3f5f"
            },
            "type": "carpet"
           }
          ],
          "choropleth": [
           {
            "colorbar": {
             "outlinewidth": 0,
             "ticks": ""
            },
            "type": "choropleth"
           }
          ],
          "contour": [
           {
            "colorbar": {
             "outlinewidth": 0,
             "ticks": ""
            },
            "colorscale": [
             [
              0,
              "#0d0887"
             ],
             [
              0.1111111111111111,
              "#46039f"
             ],
             [
              0.2222222222222222,
              "#7201a8"
             ],
             [
              0.3333333333333333,
              "#9c179e"
             ],
             [
              0.4444444444444444,
              "#bd3786"
             ],
             [
              0.5555555555555556,
              "#d8576b"
             ],
             [
              0.6666666666666666,
              "#ed7953"
             ],
             [
              0.7777777777777778,
              "#fb9f3a"
             ],
             [
              0.8888888888888888,
              "#fdca26"
             ],
             [
              1,
              "#f0f921"
             ]
            ],
            "type": "contour"
           }
          ],
          "contourcarpet": [
           {
            "colorbar": {
             "outlinewidth": 0,
             "ticks": ""
            },
            "type": "contourcarpet"
           }
          ],
          "heatmap": [
           {
            "colorbar": {
             "outlinewidth": 0,
             "ticks": ""
            },
            "colorscale": [
             [
              0,
              "#0d0887"
             ],
             [
              0.1111111111111111,
              "#46039f"
             ],
             [
              0.2222222222222222,
              "#7201a8"
             ],
             [
              0.3333333333333333,
              "#9c179e"
             ],
             [
              0.4444444444444444,
              "#bd3786"
             ],
             [
              0.5555555555555556,
              "#d8576b"
             ],
             [
              0.6666666666666666,
              "#ed7953"
             ],
             [
              0.7777777777777778,
              "#fb9f3a"
             ],
             [
              0.8888888888888888,
              "#fdca26"
             ],
             [
              1,
              "#f0f921"
             ]
            ],
            "type": "heatmap"
           }
          ],
          "heatmapgl": [
           {
            "colorbar": {
             "outlinewidth": 0,
             "ticks": ""
            },
            "colorscale": [
             [
              0,
              "#0d0887"
             ],
             [
              0.1111111111111111,
              "#46039f"
             ],
             [
              0.2222222222222222,
              "#7201a8"
             ],
             [
              0.3333333333333333,
              "#9c179e"
             ],
             [
              0.4444444444444444,
              "#bd3786"
             ],
             [
              0.5555555555555556,
              "#d8576b"
             ],
             [
              0.6666666666666666,
              "#ed7953"
             ],
             [
              0.7777777777777778,
              "#fb9f3a"
             ],
             [
              0.8888888888888888,
              "#fdca26"
             ],
             [
              1,
              "#f0f921"
             ]
            ],
            "type": "heatmapgl"
           }
          ],
          "histogram": [
           {
            "marker": {
             "pattern": {
              "fillmode": "overlay",
              "size": 10,
              "solidity": 0.2
             }
            },
            "type": "histogram"
           }
          ],
          "histogram2d": [
           {
            "colorbar": {
             "outlinewidth": 0,
             "ticks": ""
            },
            "colorscale": [
             [
              0,
              "#0d0887"
             ],
             [
              0.1111111111111111,
              "#46039f"
             ],
             [
              0.2222222222222222,
              "#7201a8"
             ],
             [
              0.3333333333333333,
              "#9c179e"
             ],
             [
              0.4444444444444444,
              "#bd3786"
             ],
             [
              0.5555555555555556,
              "#d8576b"
             ],
             [
              0.6666666666666666,
              "#ed7953"
             ],
             [
              0.7777777777777778,
              "#fb9f3a"
             ],
             [
              0.8888888888888888,
              "#fdca26"
             ],
             [
              1,
              "#f0f921"
             ]
            ],
            "type": "histogram2d"
           }
          ],
          "histogram2dcontour": [
           {
            "colorbar": {
             "outlinewidth": 0,
             "ticks": ""
            },
            "colorscale": [
             [
              0,
              "#0d0887"
             ],
             [
              0.1111111111111111,
              "#46039f"
             ],
             [
              0.2222222222222222,
              "#7201a8"
             ],
             [
              0.3333333333333333,
              "#9c179e"
             ],
             [
              0.4444444444444444,
              "#bd3786"
             ],
             [
              0.5555555555555556,
              "#d8576b"
             ],
             [
              0.6666666666666666,
              "#ed7953"
             ],
             [
              0.7777777777777778,
              "#fb9f3a"
             ],
             [
              0.8888888888888888,
              "#fdca26"
             ],
             [
              1,
              "#f0f921"
             ]
            ],
            "type": "histogram2dcontour"
           }
          ],
          "mesh3d": [
           {
            "colorbar": {
             "outlinewidth": 0,
             "ticks": ""
            },
            "type": "mesh3d"
           }
          ],
          "parcoords": [
           {
            "line": {
             "colorbar": {
              "outlinewidth": 0,
              "ticks": ""
             }
            },
            "type": "parcoords"
           }
          ],
          "pie": [
           {
            "automargin": true,
            "type": "pie"
           }
          ],
          "scatter": [
           {
            "fillpattern": {
             "fillmode": "overlay",
             "size": 10,
             "solidity": 0.2
            },
            "type": "scatter"
           }
          ],
          "scatter3d": [
           {
            "line": {
             "colorbar": {
              "outlinewidth": 0,
              "ticks": ""
             }
            },
            "marker": {
             "colorbar": {
              "outlinewidth": 0,
              "ticks": ""
             }
            },
            "type": "scatter3d"
           }
          ],
          "scattercarpet": [
           {
            "marker": {
             "colorbar": {
              "outlinewidth": 0,
              "ticks": ""
             }
            },
            "type": "scattercarpet"
           }
          ],
          "scattergeo": [
           {
            "marker": {
             "colorbar": {
              "outlinewidth": 0,
              "ticks": ""
             }
            },
            "type": "scattergeo"
           }
          ],
          "scattergl": [
           {
            "marker": {
             "colorbar": {
              "outlinewidth": 0,
              "ticks": ""
             }
            },
            "type": "scattergl"
           }
          ],
          "scattermapbox": [
           {
            "marker": {
             "colorbar": {
              "outlinewidth": 0,
              "ticks": ""
             }
            },
            "type": "scattermapbox"
           }
          ],
          "scatterpolar": [
           {
            "marker": {
             "colorbar": {
              "outlinewidth": 0,
              "ticks": ""
             }
            },
            "type": "scatterpolar"
           }
          ],
          "scatterpolargl": [
           {
            "marker": {
             "colorbar": {
              "outlinewidth": 0,
              "ticks": ""
             }
            },
            "type": "scatterpolargl"
           }
          ],
          "scatterternary": [
           {
            "marker": {
             "colorbar": {
              "outlinewidth": 0,
              "ticks": ""
             }
            },
            "type": "scatterternary"
           }
          ],
          "surface": [
           {
            "colorbar": {
             "outlinewidth": 0,
             "ticks": ""
            },
            "colorscale": [
             [
              0,
              "#0d0887"
             ],
             [
              0.1111111111111111,
              "#46039f"
             ],
             [
              0.2222222222222222,
              "#7201a8"
             ],
             [
              0.3333333333333333,
              "#9c179e"
             ],
             [
              0.4444444444444444,
              "#bd3786"
             ],
             [
              0.5555555555555556,
              "#d8576b"
             ],
             [
              0.6666666666666666,
              "#ed7953"
             ],
             [
              0.7777777777777778,
              "#fb9f3a"
             ],
             [
              0.8888888888888888,
              "#fdca26"
             ],
             [
              1,
              "#f0f921"
             ]
            ],
            "type": "surface"
           }
          ],
          "table": [
           {
            "cells": {
             "fill": {
              "color": "#EBF0F8"
             },
             "line": {
              "color": "white"
             }
            },
            "header": {
             "fill": {
              "color": "#C8D4E3"
             },
             "line": {
              "color": "white"
             }
            },
            "type": "table"
           }
          ]
         },
         "layout": {
          "annotationdefaults": {
           "arrowcolor": "#2a3f5f",
           "arrowhead": 0,
           "arrowwidth": 1
          },
          "autotypenumbers": "strict",
          "coloraxis": {
           "colorbar": {
            "outlinewidth": 0,
            "ticks": ""
           }
          },
          "colorscale": {
           "diverging": [
            [
             0,
             "#8e0152"
            ],
            [
             0.1,
             "#c51b7d"
            ],
            [
             0.2,
             "#de77ae"
            ],
            [
             0.3,
             "#f1b6da"
            ],
            [
             0.4,
             "#fde0ef"
            ],
            [
             0.5,
             "#f7f7f7"
            ],
            [
             0.6,
             "#e6f5d0"
            ],
            [
             0.7,
             "#b8e186"
            ],
            [
             0.8,
             "#7fbc41"
            ],
            [
             0.9,
             "#4d9221"
            ],
            [
             1,
             "#276419"
            ]
           ],
           "sequential": [
            [
             0,
             "#0d0887"
            ],
            [
             0.1111111111111111,
             "#46039f"
            ],
            [
             0.2222222222222222,
             "#7201a8"
            ],
            [
             0.3333333333333333,
             "#9c179e"
            ],
            [
             0.4444444444444444,
             "#bd3786"
            ],
            [
             0.5555555555555556,
             "#d8576b"
            ],
            [
             0.6666666666666666,
             "#ed7953"
            ],
            [
             0.7777777777777778,
             "#fb9f3a"
            ],
            [
             0.8888888888888888,
             "#fdca26"
            ],
            [
             1,
             "#f0f921"
            ]
           ],
           "sequentialminus": [
            [
             0,
             "#0d0887"
            ],
            [
             0.1111111111111111,
             "#46039f"
            ],
            [
             0.2222222222222222,
             "#7201a8"
            ],
            [
             0.3333333333333333,
             "#9c179e"
            ],
            [
             0.4444444444444444,
             "#bd3786"
            ],
            [
             0.5555555555555556,
             "#d8576b"
            ],
            [
             0.6666666666666666,
             "#ed7953"
            ],
            [
             0.7777777777777778,
             "#fb9f3a"
            ],
            [
             0.8888888888888888,
             "#fdca26"
            ],
            [
             1,
             "#f0f921"
            ]
           ]
          },
          "colorway": [
           "#636efa",
           "#EF553B",
           "#00cc96",
           "#ab63fa",
           "#FFA15A",
           "#19d3f3",
           "#FF6692",
           "#B6E880",
           "#FF97FF",
           "#FECB52"
          ],
          "font": {
           "color": "#2a3f5f"
          },
          "geo": {
           "bgcolor": "white",
           "lakecolor": "white",
           "landcolor": "#E5ECF6",
           "showlakes": true,
           "showland": true,
           "subunitcolor": "white"
          },
          "hoverlabel": {
           "align": "left"
          },
          "hovermode": "closest",
          "mapbox": {
           "style": "light"
          },
          "paper_bgcolor": "white",
          "plot_bgcolor": "#E5ECF6",
          "polar": {
           "angularaxis": {
            "gridcolor": "white",
            "linecolor": "white",
            "ticks": ""
           },
           "bgcolor": "#E5ECF6",
           "radialaxis": {
            "gridcolor": "white",
            "linecolor": "white",
            "ticks": ""
           }
          },
          "scene": {
           "xaxis": {
            "backgroundcolor": "#E5ECF6",
            "gridcolor": "white",
            "gridwidth": 2,
            "linecolor": "white",
            "showbackground": true,
            "ticks": "",
            "zerolinecolor": "white"
           },
           "yaxis": {
            "backgroundcolor": "#E5ECF6",
            "gridcolor": "white",
            "gridwidth": 2,
            "linecolor": "white",
            "showbackground": true,
            "ticks": "",
            "zerolinecolor": "white"
           },
           "zaxis": {
            "backgroundcolor": "#E5ECF6",
            "gridcolor": "white",
            "gridwidth": 2,
            "linecolor": "white",
            "showbackground": true,
            "ticks": "",
            "zerolinecolor": "white"
           }
          },
          "shapedefaults": {
           "line": {
            "color": "#2a3f5f"
           }
          },
          "ternary": {
           "aaxis": {
            "gridcolor": "white",
            "linecolor": "white",
            "ticks": ""
           },
           "baxis": {
            "gridcolor": "white",
            "linecolor": "white",
            "ticks": ""
           },
           "bgcolor": "#E5ECF6",
           "caxis": {
            "gridcolor": "white",
            "linecolor": "white",
            "ticks": ""
           }
          },
          "title": {
           "x": 0.05
          },
          "xaxis": {
           "automargin": true,
           "gridcolor": "white",
           "linecolor": "white",
           "ticks": "",
           "title": {
            "standoff": 15
           },
           "zerolinecolor": "white",
           "zerolinewidth": 2
          },
          "yaxis": {
           "automargin": true,
           "gridcolor": "white",
           "linecolor": "white",
           "ticks": "",
           "title": {
            "standoff": 15
           },
           "zerolinecolor": "white",
           "zerolinewidth": 2
          }
         }
        },
        "title": {
         "text": "Weighted Average Carbon Intensity (WACI) Comparison"
        },
        "xaxis": {
         "showgrid": false,
         "showticklabels": false,
         "zeroline": false
        },
        "yaxis": {
         "range": [
          0,
          300
         ],
         "title": {
          "text": "Carbon Intensity (Tonnes of CO2 per $1M Revenue)"
         }
        }
       }
      }
     },
     "metadata": {},
     "output_type": "display_data"
    }
   ],
   "source": [
    "optimised_waci = optimized_df['WACI'].values[0]\n",
    "\n",
    "# Define the WACI thresholds for different levels (example values)\n",
    "thresholds = {\n",
    "    \"Optimised Portfolio\": optimised_waci,  # Current WACI result\n",
    "    \"Net Zero Emission Portfolio\": 0\n",
    "}\n",
    "\n",
    "# Define colors and levels for the background\n",
    "colors = ['darkgreen', '#7FFF00', '#FFFF00', '#FFBF00', '#FF8000', '#FF4000']\n",
    "levels = [0, 50, 100, 150, 200, 250, 300]  # Adjusted levels to match the number of colors\n",
    "\n",
    "# Create the figure\n",
    "fig = go.Figure()\n",
    "\n",
    "# Add background color segments\n",
    "for i in range(len(colors)):\n",
    "    fig.add_shape(\n",
    "        type=\"rect\",\n",
    "        x0=0, x1=1,\n",
    "        y0=levels[i], y1=levels[i+1],\n",
    "        fillcolor=colors[i],\n",
    "        opacity=0.6,\n",
    "        layer=\"below\",\n",
    "        line_width=0\n",
    "    )\n",
    "\n",
    "# Plot the WACI result\n",
    "fig.add_trace(go.Scatter(\n",
    "    x=[0.5],\n",
    "    y=[optimised_waci],\n",
    "    mode='markers',\n",
    "    marker=dict(size=15, color='grey'),\n",
    "    name='Optimised Portfolio',\n",
    "    hovertemplate=f'WACI: {optimised_waci}<extra></extra>'\n",
    "))\n",
    "\n",
    "# Add arrows and text labels\n",
    "for label, level in thresholds.items():\n",
    "    if level >= 0:  # Only add labels for non-negative levels\n",
    "        fig.add_annotation(\n",
    "            x=0.5,\n",
    "            y=level,\n",
    "            xref=\"paper\",\n",
    "            yref=\"y\",\n",
    "            text=label,\n",
    "            showarrow=True,\n",
    "            arrowhead=2,\n",
    "            arrowsize=1,\n",
    "            arrowwidth=1,\n",
    "            arrowcolor='black',\n",
    "            ax=100,\n",
    "            ay=20,\n",
    "            font=dict(size=20, color='black')  # Increased font size\n",
    "        )\n",
    "\n",
    "# Add a horizontal dotted line at 37\n",
    "fig.add_shape(\n",
    "    type=\"line\",\n",
    "    x0=0, x1=1,\n",
    "    y0=37, y1=37,\n",
    "    line=dict(\n",
    "        color=\"red\",\n",
    "        width=2,\n",
    "        dash=\"dot\",\n",
    "    )\n",
    ")\n",
    "\n",
    "# Add annotation for the dotted line\n",
    "fig.add_annotation(\n",
    "    x=0.5,\n",
    "    y=45,\n",
    "    xref=\"paper\",\n",
    "    yref=\"y\",\n",
    "    text=\"Paris Agreement Benchmark\",\n",
    "    showarrow=False,\n",
    "    font=dict(size=20, color='black')  # Increased font size\n",
    ")\n",
    "\n",
    "# Update layout\n",
    "fig.update_layout(\n",
    "    title='Weighted Average Carbon Intensity (WACI) Comparison',\n",
    "    xaxis=dict(showticklabels=False, showgrid=False, zeroline=False),\n",
    "    yaxis=dict(title='Carbon Intensity (Tonnes of CO2 per $1M Revenue)', range=[0, 300]),\n",
    "    showlegend=False,\n",
    "    plot_bgcolor='white',\n",
    "    height=800,\n",
    "  # Adjust height for better visibility\n",
    ")\n",
    "\n",
    "# Display the plot\n",
    "fig.show()"
   ]
  },
  {
   "cell_type": "code",
   "execution_count": 68,
   "metadata": {},
   "outputs": [
    {
     "data": {
      "application/vnd.plotly.v1+json": {
       "config": {
        "plotlyServerURL": "https://plot.ly"
       },
       "data": [
        {
         "direction": "clockwise",
         "domain": {
          "x": [
           0,
           0.63
          ],
          "y": [
           0,
           1
          ]
         },
         "hoverinfo": "label+percent+value",
         "labels": [
          "SVT.L",
          "EXPN.L",
          "SBRY.L",
          "AAL.L",
          "CRDA.L",
          "AHT.L",
          "NXT.L"
         ],
         "marker": {
          "line": {
           "color": "#000000",
           "width": 2
          }
         },
         "pull": [
          0.1,
          0,
          0,
          0,
          0
         ],
         "rotation": 45,
         "showlegend": true,
         "textfont": {
          "size": 12
         },
         "textinfo": "label+percent",
         "type": "pie",
         "values": [
          1.405019097092512e-16,
          0.37513911480241385,
          5.746056104450562e-17,
          1.746350006267234e-17,
          0.23990065792207207,
          0.09565324459872976,
          0.28930698267678445
         ]
        },
        {
         "cells": {
          "align": "center",
          "fill": {
           "color": "lavender"
          },
          "font": {
           "size": 13
          },
          "height": 50,
          "values": [
           [
            "Returns",
            "Volatility",
            "Sharpe Ratio",
            "WACI"
           ],
           [
            "11.71%",
            "22.15%",
            "0.3348",
            "37.0000"
           ]
          ]
         },
         "domain": {
          "x": [
           0.73,
           1
          ],
          "y": [
           0,
           1
          ]
         },
         "header": {
          "align": "center",
          "fill": {
           "color": "paleturquoise"
          },
          "font": {
           "size": 16
          },
          "values": [
           "Metric",
           "Value"
          ]
         },
         "type": "table"
        }
       ],
       "layout": {
        "legend": {
         "x": -0.3,
         "y": 0.5
        },
        "template": {
         "data": {
          "bar": [
           {
            "error_x": {
             "color": "#2a3f5f"
            },
            "error_y": {
             "color": "#2a3f5f"
            },
            "marker": {
             "line": {
              "color": "white",
              "width": 0.5
             },
             "pattern": {
              "fillmode": "overlay",
              "size": 10,
              "solidity": 0.2
             }
            },
            "type": "bar"
           }
          ],
          "barpolar": [
           {
            "marker": {
             "line": {
              "color": "white",
              "width": 0.5
             },
             "pattern": {
              "fillmode": "overlay",
              "size": 10,
              "solidity": 0.2
             }
            },
            "type": "barpolar"
           }
          ],
          "carpet": [
           {
            "aaxis": {
             "endlinecolor": "#2a3f5f",
             "gridcolor": "#C8D4E3",
             "linecolor": "#C8D4E3",
             "minorgridcolor": "#C8D4E3",
             "startlinecolor": "#2a3f5f"
            },
            "baxis": {
             "endlinecolor": "#2a3f5f",
             "gridcolor": "#C8D4E3",
             "linecolor": "#C8D4E3",
             "minorgridcolor": "#C8D4E3",
             "startlinecolor": "#2a3f5f"
            },
            "type": "carpet"
           }
          ],
          "choropleth": [
           {
            "colorbar": {
             "outlinewidth": 0,
             "ticks": ""
            },
            "type": "choropleth"
           }
          ],
          "contour": [
           {
            "colorbar": {
             "outlinewidth": 0,
             "ticks": ""
            },
            "colorscale": [
             [
              0,
              "#0d0887"
             ],
             [
              0.1111111111111111,
              "#46039f"
             ],
             [
              0.2222222222222222,
              "#7201a8"
             ],
             [
              0.3333333333333333,
              "#9c179e"
             ],
             [
              0.4444444444444444,
              "#bd3786"
             ],
             [
              0.5555555555555556,
              "#d8576b"
             ],
             [
              0.6666666666666666,
              "#ed7953"
             ],
             [
              0.7777777777777778,
              "#fb9f3a"
             ],
             [
              0.8888888888888888,
              "#fdca26"
             ],
             [
              1,
              "#f0f921"
             ]
            ],
            "type": "contour"
           }
          ],
          "contourcarpet": [
           {
            "colorbar": {
             "outlinewidth": 0,
             "ticks": ""
            },
            "type": "contourcarpet"
           }
          ],
          "heatmap": [
           {
            "colorbar": {
             "outlinewidth": 0,
             "ticks": ""
            },
            "colorscale": [
             [
              0,
              "#0d0887"
             ],
             [
              0.1111111111111111,
              "#46039f"
             ],
             [
              0.2222222222222222,
              "#7201a8"
             ],
             [
              0.3333333333333333,
              "#9c179e"
             ],
             [
              0.4444444444444444,
              "#bd3786"
             ],
             [
              0.5555555555555556,
              "#d8576b"
             ],
             [
              0.6666666666666666,
              "#ed7953"
             ],
             [
              0.7777777777777778,
              "#fb9f3a"
             ],
             [
              0.8888888888888888,
              "#fdca26"
             ],
             [
              1,
              "#f0f921"
             ]
            ],
            "type": "heatmap"
           }
          ],
          "heatmapgl": [
           {
            "colorbar": {
             "outlinewidth": 0,
             "ticks": ""
            },
            "colorscale": [
             [
              0,
              "#0d0887"
             ],
             [
              0.1111111111111111,
              "#46039f"
             ],
             [
              0.2222222222222222,
              "#7201a8"
             ],
             [
              0.3333333333333333,
              "#9c179e"
             ],
             [
              0.4444444444444444,
              "#bd3786"
             ],
             [
              0.5555555555555556,
              "#d8576b"
             ],
             [
              0.6666666666666666,
              "#ed7953"
             ],
             [
              0.7777777777777778,
              "#fb9f3a"
             ],
             [
              0.8888888888888888,
              "#fdca26"
             ],
             [
              1,
              "#f0f921"
             ]
            ],
            "type": "heatmapgl"
           }
          ],
          "histogram": [
           {
            "marker": {
             "pattern": {
              "fillmode": "overlay",
              "size": 10,
              "solidity": 0.2
             }
            },
            "type": "histogram"
           }
          ],
          "histogram2d": [
           {
            "colorbar": {
             "outlinewidth": 0,
             "ticks": ""
            },
            "colorscale": [
             [
              0,
              "#0d0887"
             ],
             [
              0.1111111111111111,
              "#46039f"
             ],
             [
              0.2222222222222222,
              "#7201a8"
             ],
             [
              0.3333333333333333,
              "#9c179e"
             ],
             [
              0.4444444444444444,
              "#bd3786"
             ],
             [
              0.5555555555555556,
              "#d8576b"
             ],
             [
              0.6666666666666666,
              "#ed7953"
             ],
             [
              0.7777777777777778,
              "#fb9f3a"
             ],
             [
              0.8888888888888888,
              "#fdca26"
             ],
             [
              1,
              "#f0f921"
             ]
            ],
            "type": "histogram2d"
           }
          ],
          "histogram2dcontour": [
           {
            "colorbar": {
             "outlinewidth": 0,
             "ticks": ""
            },
            "colorscale": [
             [
              0,
              "#0d0887"
             ],
             [
              0.1111111111111111,
              "#46039f"
             ],
             [
              0.2222222222222222,
              "#7201a8"
             ],
             [
              0.3333333333333333,
              "#9c179e"
             ],
             [
              0.4444444444444444,
              "#bd3786"
             ],
             [
              0.5555555555555556,
              "#d8576b"
             ],
             [
              0.6666666666666666,
              "#ed7953"
             ],
             [
              0.7777777777777778,
              "#fb9f3a"
             ],
             [
              0.8888888888888888,
              "#fdca26"
             ],
             [
              1,
              "#f0f921"
             ]
            ],
            "type": "histogram2dcontour"
           }
          ],
          "mesh3d": [
           {
            "colorbar": {
             "outlinewidth": 0,
             "ticks": ""
            },
            "type": "mesh3d"
           }
          ],
          "parcoords": [
           {
            "line": {
             "colorbar": {
              "outlinewidth": 0,
              "ticks": ""
             }
            },
            "type": "parcoords"
           }
          ],
          "pie": [
           {
            "automargin": true,
            "type": "pie"
           }
          ],
          "scatter": [
           {
            "fillpattern": {
             "fillmode": "overlay",
             "size": 10,
             "solidity": 0.2
            },
            "type": "scatter"
           }
          ],
          "scatter3d": [
           {
            "line": {
             "colorbar": {
              "outlinewidth": 0,
              "ticks": ""
             }
            },
            "marker": {
             "colorbar": {
              "outlinewidth": 0,
              "ticks": ""
             }
            },
            "type": "scatter3d"
           }
          ],
          "scattercarpet": [
           {
            "marker": {
             "colorbar": {
              "outlinewidth": 0,
              "ticks": ""
             }
            },
            "type": "scattercarpet"
           }
          ],
          "scattergeo": [
           {
            "marker": {
             "colorbar": {
              "outlinewidth": 0,
              "ticks": ""
             }
            },
            "type": "scattergeo"
           }
          ],
          "scattergl": [
           {
            "marker": {
             "colorbar": {
              "outlinewidth": 0,
              "ticks": ""
             }
            },
            "type": "scattergl"
           }
          ],
          "scattermapbox": [
           {
            "marker": {
             "colorbar": {
              "outlinewidth": 0,
              "ticks": ""
             }
            },
            "type": "scattermapbox"
           }
          ],
          "scatterpolar": [
           {
            "marker": {
             "colorbar": {
              "outlinewidth": 0,
              "ticks": ""
             }
            },
            "type": "scatterpolar"
           }
          ],
          "scatterpolargl": [
           {
            "marker": {
             "colorbar": {
              "outlinewidth": 0,
              "ticks": ""
             }
            },
            "type": "scatterpolargl"
           }
          ],
          "scatterternary": [
           {
            "marker": {
             "colorbar": {
              "outlinewidth": 0,
              "ticks": ""
             }
            },
            "type": "scatterternary"
           }
          ],
          "surface": [
           {
            "colorbar": {
             "outlinewidth": 0,
             "ticks": ""
            },
            "colorscale": [
             [
              0,
              "#0d0887"
             ],
             [
              0.1111111111111111,
              "#46039f"
             ],
             [
              0.2222222222222222,
              "#7201a8"
             ],
             [
              0.3333333333333333,
              "#9c179e"
             ],
             [
              0.4444444444444444,
              "#bd3786"
             ],
             [
              0.5555555555555556,
              "#d8576b"
             ],
             [
              0.6666666666666666,
              "#ed7953"
             ],
             [
              0.7777777777777778,
              "#fb9f3a"
             ],
             [
              0.8888888888888888,
              "#fdca26"
             ],
             [
              1,
              "#f0f921"
             ]
            ],
            "type": "surface"
           }
          ],
          "table": [
           {
            "cells": {
             "fill": {
              "color": "#EBF0F8"
             },
             "line": {
              "color": "white"
             }
            },
            "header": {
             "fill": {
              "color": "#C8D4E3"
             },
             "line": {
              "color": "white"
             }
            },
            "type": "table"
           }
          ]
         },
         "layout": {
          "annotationdefaults": {
           "arrowcolor": "#2a3f5f",
           "arrowhead": 0,
           "arrowwidth": 1
          },
          "autotypenumbers": "strict",
          "coloraxis": {
           "colorbar": {
            "outlinewidth": 0,
            "ticks": ""
           }
          },
          "colorscale": {
           "diverging": [
            [
             0,
             "#8e0152"
            ],
            [
             0.1,
             "#c51b7d"
            ],
            [
             0.2,
             "#de77ae"
            ],
            [
             0.3,
             "#f1b6da"
            ],
            [
             0.4,
             "#fde0ef"
            ],
            [
             0.5,
             "#f7f7f7"
            ],
            [
             0.6,
             "#e6f5d0"
            ],
            [
             0.7,
             "#b8e186"
            ],
            [
             0.8,
             "#7fbc41"
            ],
            [
             0.9,
             "#4d9221"
            ],
            [
             1,
             "#276419"
            ]
           ],
           "sequential": [
            [
             0,
             "#0d0887"
            ],
            [
             0.1111111111111111,
             "#46039f"
            ],
            [
             0.2222222222222222,
             "#7201a8"
            ],
            [
             0.3333333333333333,
             "#9c179e"
            ],
            [
             0.4444444444444444,
             "#bd3786"
            ],
            [
             0.5555555555555556,
             "#d8576b"
            ],
            [
             0.6666666666666666,
             "#ed7953"
            ],
            [
             0.7777777777777778,
             "#fb9f3a"
            ],
            [
             0.8888888888888888,
             "#fdca26"
            ],
            [
             1,
             "#f0f921"
            ]
           ],
           "sequentialminus": [
            [
             0,
             "#0d0887"
            ],
            [
             0.1111111111111111,
             "#46039f"
            ],
            [
             0.2222222222222222,
             "#7201a8"
            ],
            [
             0.3333333333333333,
             "#9c179e"
            ],
            [
             0.4444444444444444,
             "#bd3786"
            ],
            [
             0.5555555555555556,
             "#d8576b"
            ],
            [
             0.6666666666666666,
             "#ed7953"
            ],
            [
             0.7777777777777778,
             "#fb9f3a"
            ],
            [
             0.8888888888888888,
             "#fdca26"
            ],
            [
             1,
             "#f0f921"
            ]
           ]
          },
          "colorway": [
           "#636efa",
           "#EF553B",
           "#00cc96",
           "#ab63fa",
           "#FFA15A",
           "#19d3f3",
           "#FF6692",
           "#B6E880",
           "#FF97FF",
           "#FECB52"
          ],
          "font": {
           "color": "#2a3f5f"
          },
          "geo": {
           "bgcolor": "white",
           "lakecolor": "white",
           "landcolor": "white",
           "showlakes": true,
           "showland": true,
           "subunitcolor": "#C8D4E3"
          },
          "hoverlabel": {
           "align": "left"
          },
          "hovermode": "closest",
          "mapbox": {
           "style": "light"
          },
          "paper_bgcolor": "white",
          "plot_bgcolor": "white",
          "polar": {
           "angularaxis": {
            "gridcolor": "#EBF0F8",
            "linecolor": "#EBF0F8",
            "ticks": ""
           },
           "bgcolor": "white",
           "radialaxis": {
            "gridcolor": "#EBF0F8",
            "linecolor": "#EBF0F8",
            "ticks": ""
           }
          },
          "scene": {
           "xaxis": {
            "backgroundcolor": "white",
            "gridcolor": "#DFE8F3",
            "gridwidth": 2,
            "linecolor": "#EBF0F8",
            "showbackground": true,
            "ticks": "",
            "zerolinecolor": "#EBF0F8"
           },
           "yaxis": {
            "backgroundcolor": "white",
            "gridcolor": "#DFE8F3",
            "gridwidth": 2,
            "linecolor": "#EBF0F8",
            "showbackground": true,
            "ticks": "",
            "zerolinecolor": "#EBF0F8"
           },
           "zaxis": {
            "backgroundcolor": "white",
            "gridcolor": "#DFE8F3",
            "gridwidth": 2,
            "linecolor": "#EBF0F8",
            "showbackground": true,
            "ticks": "",
            "zerolinecolor": "#EBF0F8"
           }
          },
          "shapedefaults": {
           "line": {
            "color": "#2a3f5f"
           }
          },
          "ternary": {
           "aaxis": {
            "gridcolor": "#DFE8F3",
            "linecolor": "#A2B1C6",
            "ticks": ""
           },
           "baxis": {
            "gridcolor": "#DFE8F3",
            "linecolor": "#A2B1C6",
            "ticks": ""
           },
           "bgcolor": "white",
           "caxis": {
            "gridcolor": "#DFE8F3",
            "linecolor": "#A2B1C6",
            "ticks": ""
           }
          },
          "title": {
           "x": 0.05
          },
          "xaxis": {
           "automargin": true,
           "gridcolor": "#EBF0F8",
           "linecolor": "#EBF0F8",
           "ticks": "",
           "title": {
            "standoff": 15
           },
           "zerolinecolor": "#EBF0F8",
           "zerolinewidth": 2
          },
          "yaxis": {
           "automargin": true,
           "gridcolor": "#EBF0F8",
           "linecolor": "#EBF0F8",
           "ticks": "",
           "title": {
            "standoff": 15
           },
           "zerolinecolor": "#EBF0F8",
           "zerolinewidth": 2
          }
         }
        },
        "title": {
         "text": "Optimized Portfolio Analysis"
        }
       }
      }
     },
     "metadata": {},
     "output_type": "display_data"
    }
   ],
   "source": [
    "# Extract the asset names and their weights\n",
    "assets = optimized_df.columns[4:]\n",
    "weights = optimized_df.iloc[0, 4:].values\n",
    "\n",
    "# Filter out assets with zero weights\n",
    "non_zero_weights = [(asset, weight) for asset, weight in zip(assets, weights) if weight > 0]\n",
    "non_zero_assets, non_zero_weights = zip(*non_zero_weights)\n",
    "\n",
    "# Extract portfolio metrics\n",
    "metrics = {\n",
    "    'Returns': optimized_df['Returns'].values[0],\n",
    "    'Volatility': optimized_df['Volatility'].values[0],\n",
    "    'Sharpe Ratio': optimized_df['Sharpe Ratio'].values[0],\n",
    "    'WACI': optimized_df['WACI'].values[0]\n",
    "}\n",
    "\n",
    "# Create subplots: 1 row, 2 columns\n",
    "fig = make_subplots(\n",
    "    rows=1, cols=2,\n",
    "    column_widths=[0.7, 0.3],\n",
    "    specs=[[{\"type\": \"pie\"}, {\"type\": \"table\"}]]\n",
    ")\n",
    "\n",
    "# Add pie chart for asset weights\n",
    "fig.add_trace(go.Pie(\n",
    "    labels=non_zero_assets,\n",
    "    values=non_zero_weights,\n",
    "    textinfo='label+percent',\n",
    "    hoverinfo='label+percent+value'\n",
    "), row=1, col=1)\n",
    "\n",
    "# Move the legend to the left\n",
    "fig.update_traces(marker=dict(line=dict(color='#000000', width=2)), \n",
    "                  textfont_size=12, pull=[0.1, 0, 0, 0, 0], \n",
    "                  rotation=45, direction='clockwise', \n",
    "                  showlegend=True)\n",
    "fig.update_layout(\n",
    "    title_text='Optimized Portfolio Analysis',\n",
    "    template='plotly_white',\n",
    "    legend=dict(x=-0.3, y=0.5)  # Move legend to the left\n",
    ")\n",
    "\n",
    "# Add table for portfolio metrics\n",
    "fig.add_trace(go.Table(\n",
    "    header=dict(values=['Metric', 'Value'],\n",
    "                fill_color='paleturquoise',\n",
    "                align='center',\n",
    "                font=dict(size=16)),\n",
    "    cells=dict(values=[list(metrics.keys()), \n",
    "                       [f'{v:.2%}' if i in [0, 1] else f'{v:.4f}' for i, v in enumerate(metrics.values())]],\n",
    "               fill_color='lavender',\n",
    "               align='center',\n",
    "               font=dict(size=13),\n",
    "               height=50))\n",
    ", row=1, col=2)\n",
    "\n",
    "# Update layout\n",
    "fig.update_layout(\n",
    "    title_text='Optimized Portfolio Analysis',\n",
    "    template='plotly_white'\n",
    ")\n",
    "\n",
    "# Show the plot\n",
    "fig.show()"
   ]
  },
  {
   "cell_type": "code",
   "execution_count": 89,
   "metadata": {},
   "outputs": [
    {
     "data": {
      "text/html": [
       "<div>\n",
       "<style scoped>\n",
       "    .dataframe tbody tr th:only-of-type {\n",
       "        vertical-align: middle;\n",
       "    }\n",
       "\n",
       "    .dataframe tbody tr th {\n",
       "        vertical-align: top;\n",
       "    }\n",
       "\n",
       "    .dataframe thead th {\n",
       "        text-align: right;\n",
       "    }\n",
       "</style>\n",
       "<table border=\"1\" class=\"dataframe\">\n",
       "  <thead>\n",
       "    <tr style=\"text-align: right;\">\n",
       "      <th></th>\n",
       "      <th>Name</th>\n",
       "      <th>RIC</th>\n",
       "      <th>Weight %</th>\n",
       "    </tr>\n",
       "  </thead>\n",
       "  <tbody>\n",
       "    <tr>\n",
       "      <th>0</th>\n",
       "      <td>AstraZeneca PLC</td>\n",
       "      <td>AZN.L</td>\n",
       "      <td>8.59</td>\n",
       "    </tr>\n",
       "    <tr>\n",
       "      <th>1</th>\n",
       "      <td>Shell PLC</td>\n",
       "      <td>SHEL.L</td>\n",
       "      <td>8.73</td>\n",
       "    </tr>\n",
       "    <tr>\n",
       "      <th>2</th>\n",
       "      <td>HSBC Holdings PLC</td>\n",
       "      <td>HSBA.L</td>\n",
       "      <td>6.36</td>\n",
       "    </tr>\n",
       "    <tr>\n",
       "      <th>3</th>\n",
       "      <td>Unilever PLC</td>\n",
       "      <td>ULVR.L</td>\n",
       "      <td>5.11</td>\n",
       "    </tr>\n",
       "    <tr>\n",
       "      <th>4</th>\n",
       "      <td>Rio Tinto PLC</td>\n",
       "      <td>RIO.L</td>\n",
       "      <td>2.94</td>\n",
       "    </tr>\n",
       "    <tr>\n",
       "      <th>...</th>\n",
       "      <td>...</td>\n",
       "      <td>...</td>\n",
       "      <td>...</td>\n",
       "    </tr>\n",
       "    <tr>\n",
       "      <th>95</th>\n",
       "      <td>Burberry Group PLC</td>\n",
       "      <td>BRBY.L</td>\n",
       "      <td>0.18</td>\n",
       "    </tr>\n",
       "    <tr>\n",
       "      <th>96</th>\n",
       "      <td>Easyjet PLC</td>\n",
       "      <td>EZJ.L</td>\n",
       "      <td>0.14</td>\n",
       "    </tr>\n",
       "    <tr>\n",
       "      <th>97</th>\n",
       "      <td>RS Group PLC</td>\n",
       "      <td>RS1R.L</td>\n",
       "      <td>0.17</td>\n",
       "    </tr>\n",
       "    <tr>\n",
       "      <th>98</th>\n",
       "      <td>Ocado Group PLC</td>\n",
       "      <td>OCDO.L</td>\n",
       "      <td>0.12</td>\n",
       "    </tr>\n",
       "    <tr>\n",
       "      <th>99</th>\n",
       "      <td>St James's Place PLC</td>\n",
       "      <td>SJP.L</td>\n",
       "      <td>0.13</td>\n",
       "    </tr>\n",
       "  </tbody>\n",
       "</table>\n",
       "<p>100 rows × 3 columns</p>\n",
       "</div>"
      ],
      "text/plain": [
       "                    Name     RIC  Weight %\n",
       "0        AstraZeneca PLC   AZN.L      8.59\n",
       "1              Shell PLC  SHEL.L      8.73\n",
       "2      HSBC Holdings PLC  HSBA.L      6.36\n",
       "3           Unilever PLC  ULVR.L      5.11\n",
       "4          Rio Tinto PLC   RIO.L      2.94\n",
       "..                   ...     ...       ...\n",
       "95    Burberry Group PLC  BRBY.L      0.18\n",
       "96           Easyjet PLC   EZJ.L      0.14\n",
       "97          RS Group PLC  RS1R.L      0.17\n",
       "98       Ocado Group PLC  OCDO.L      0.12\n",
       "99  St James's Place PLC   SJP.L      0.13\n",
       "\n",
       "[100 rows x 3 columns]"
      ]
     },
     "execution_count": 89,
     "metadata": {},
     "output_type": "execute_result"
    }
   ],
   "source": [
    "ftse_df = pd.read_csv('FTSE_100.csv')\n",
    "ftse_df.dropna(inplace=True)\n",
    "ftse_df"
   ]
  },
  {
   "cell_type": "code",
   "execution_count": 90,
   "metadata": {},
   "outputs": [],
   "source": [
    "# Retrieve data for the list of tickers\n",
    "ftse_waci_df = rd.get_history(\n",
    "    universe=ftse_df['RIC'].tolist(),\n",
    "    fields=[\n",
    "        'TR.CO2EmissionTotal',\n",
    "        'TR.F.TOTREVENUE'\n",
    "    ],\n",
    ")"
   ]
  },
  {
   "cell_type": "code",
   "execution_count": 91,
   "metadata": {},
   "outputs": [
    {
     "data": {
      "text/html": [
       "<div>\n",
       "<style scoped>\n",
       "    .dataframe tbody tr th:only-of-type {\n",
       "        vertical-align: middle;\n",
       "    }\n",
       "\n",
       "    .dataframe tbody tr th {\n",
       "        vertical-align: top;\n",
       "    }\n",
       "\n",
       "    .dataframe thead th {\n",
       "        text-align: right;\n",
       "    }\n",
       "</style>\n",
       "<table border=\"1\" class=\"dataframe\">\n",
       "  <thead>\n",
       "    <tr style=\"text-align: right;\">\n",
       "      <th></th>\n",
       "      <th>RIC</th>\n",
       "      <th>CO2 Equivalent Emissions Total</th>\n",
       "      <th>Revenue from Business Activities - Total</th>\n",
       "    </tr>\n",
       "  </thead>\n",
       "  <tbody>\n",
       "    <tr>\n",
       "      <th>0</th>\n",
       "      <td>AAF.L</td>\n",
       "      <td>115719</td>\n",
       "      <td>5000000000</td>\n",
       "    </tr>\n",
       "    <tr>\n",
       "      <th>1</th>\n",
       "      <td>AAL.L</td>\n",
       "      <td>12500000</td>\n",
       "      <td>30656000000</td>\n",
       "    </tr>\n",
       "    <tr>\n",
       "      <th>2</th>\n",
       "      <td>ABF.L</td>\n",
       "      <td>3107410</td>\n",
       "      <td>19750000000</td>\n",
       "    </tr>\n",
       "    <tr>\n",
       "      <th>3</th>\n",
       "      <td>ADML.L</td>\n",
       "      <td>3429</td>\n",
       "      <td>3688500000</td>\n",
       "    </tr>\n",
       "    <tr>\n",
       "      <th>4</th>\n",
       "      <td>AHT.L</td>\n",
       "      <td>371161</td>\n",
       "      <td>9667300000</td>\n",
       "    </tr>\n",
       "    <tr>\n",
       "      <th>...</th>\n",
       "      <td>...</td>\n",
       "      <td>...</td>\n",
       "      <td>...</td>\n",
       "    </tr>\n",
       "    <tr>\n",
       "      <th>95</th>\n",
       "      <td>UU.L</td>\n",
       "      <td>260734</td>\n",
       "      <td>1949500000</td>\n",
       "    </tr>\n",
       "    <tr>\n",
       "      <th>96</th>\n",
       "      <td>VOD.L</td>\n",
       "      <td>2360000</td>\n",
       "      <td>36717000000</td>\n",
       "    </tr>\n",
       "    <tr>\n",
       "      <th>97</th>\n",
       "      <td>WEIR.L</td>\n",
       "      <td>172833</td>\n",
       "      <td>2636000000</td>\n",
       "    </tr>\n",
       "    <tr>\n",
       "      <th>98</th>\n",
       "      <td>WPP.L</td>\n",
       "      <td>68059</td>\n",
       "      <td>14844800000</td>\n",
       "    </tr>\n",
       "    <tr>\n",
       "      <th>99</th>\n",
       "      <td>WTB.L</td>\n",
       "      <td>138942</td>\n",
       "      <td>2959900000</td>\n",
       "    </tr>\n",
       "  </tbody>\n",
       "</table>\n",
       "<p>100 rows × 3 columns</p>\n",
       "</div>"
      ],
      "text/plain": [
       "       RIC CO2 Equivalent Emissions Total  \\\n",
       "0    AAF.L                         115719   \n",
       "1    AAL.L                       12500000   \n",
       "2    ABF.L                        3107410   \n",
       "3   ADML.L                           3429   \n",
       "4    AHT.L                         371161   \n",
       "..     ...                            ...   \n",
       "95    UU.L                         260734   \n",
       "96   VOD.L                        2360000   \n",
       "97  WEIR.L                         172833   \n",
       "98   WPP.L                          68059   \n",
       "99   WTB.L                         138942   \n",
       "\n",
       "   Revenue from Business Activities - Total  \n",
       "0                                5000000000  \n",
       "1                               30656000000  \n",
       "2                               19750000000  \n",
       "3                                3688500000  \n",
       "4                                9667300000  \n",
       "..                                      ...  \n",
       "95                               1949500000  \n",
       "96                              36717000000  \n",
       "97                               2636000000  \n",
       "98                              14844800000  \n",
       "99                               2959900000  \n",
       "\n",
       "[100 rows x 3 columns]"
      ]
     },
     "execution_count": 91,
     "metadata": {},
     "output_type": "execute_result"
    }
   ],
   "source": [
    "# Using the CO2 emissions and total revenue data to calculate the WACI for the optimised portfolio\n",
    "# Extract the latest non-null values for CO2 emissions and revenue for each ticker\n",
    "latest_data = ftse_waci_df.apply(lambda col: col.dropna().iloc[-1] if col.dropna().size > 0 else np.nan, axis=0)\n",
    "\n",
    "# Convert the Series to a DataFrame\n",
    "latest_data = latest_data.unstack()\n",
    "\n",
    "#reset the index and name the new column as RIC\n",
    "latest_data = latest_data.reset_index()\n",
    "latest_data.columns = ['RIC', 'CO2 Equivalent Emissions Total', 'Revenue from Business Activities - Total']\n",
    "latest_data"
   ]
  },
  {
   "cell_type": "code",
   "execution_count": 92,
   "metadata": {},
   "outputs": [
    {
     "data": {
      "text/html": [
       "<div>\n",
       "<style scoped>\n",
       "    .dataframe tbody tr th:only-of-type {\n",
       "        vertical-align: middle;\n",
       "    }\n",
       "\n",
       "    .dataframe tbody tr th {\n",
       "        vertical-align: top;\n",
       "    }\n",
       "\n",
       "    .dataframe thead th {\n",
       "        text-align: right;\n",
       "    }\n",
       "</style>\n",
       "<table border=\"1\" class=\"dataframe\">\n",
       "  <thead>\n",
       "    <tr style=\"text-align: right;\">\n",
       "      <th></th>\n",
       "      <th>Name</th>\n",
       "      <th>RIC</th>\n",
       "      <th>Weight %</th>\n",
       "      <th>CO2 Equivalent Emissions Total</th>\n",
       "      <th>Revenue from Business Activities - Total</th>\n",
       "    </tr>\n",
       "  </thead>\n",
       "  <tbody>\n",
       "    <tr>\n",
       "      <th>0</th>\n",
       "      <td>AstraZeneca PLC</td>\n",
       "      <td>AZN.L</td>\n",
       "      <td>8.59</td>\n",
       "      <td>418106</td>\n",
       "      <td>45811000000</td>\n",
       "    </tr>\n",
       "    <tr>\n",
       "      <th>1</th>\n",
       "      <td>Shell PLC</td>\n",
       "      <td>SHEL.L</td>\n",
       "      <td>8.73</td>\n",
       "      <td>59000000</td>\n",
       "      <td>316620000000</td>\n",
       "    </tr>\n",
       "    <tr>\n",
       "      <th>2</th>\n",
       "      <td>HSBC Holdings PLC</td>\n",
       "      <td>HSBA.L</td>\n",
       "      <td>6.36</td>\n",
       "      <td>366000</td>\n",
       "      <td>65458000000</td>\n",
       "    </tr>\n",
       "    <tr>\n",
       "      <th>3</th>\n",
       "      <td>Unilever PLC</td>\n",
       "      <td>ULVR.L</td>\n",
       "      <td>5.11</td>\n",
       "      <td>621682</td>\n",
       "      <td>59604000000</td>\n",
       "    </tr>\n",
       "    <tr>\n",
       "      <th>4</th>\n",
       "      <td>Rio Tinto PLC</td>\n",
       "      <td>RIO.L</td>\n",
       "      <td>2.94</td>\n",
       "      <td>26500000</td>\n",
       "      <td>54041000000</td>\n",
       "    </tr>\n",
       "    <tr>\n",
       "      <th>...</th>\n",
       "      <td>...</td>\n",
       "      <td>...</td>\n",
       "      <td>...</td>\n",
       "      <td>...</td>\n",
       "      <td>...</td>\n",
       "    </tr>\n",
       "    <tr>\n",
       "      <th>95</th>\n",
       "      <td>Burberry Group PLC</td>\n",
       "      <td>BRBY.L</td>\n",
       "      <td>0.18</td>\n",
       "      <td>27701</td>\n",
       "      <td>2968000000</td>\n",
       "    </tr>\n",
       "    <tr>\n",
       "      <th>96</th>\n",
       "      <td>Easyjet PLC</td>\n",
       "      <td>EZJ.L</td>\n",
       "      <td>0.14</td>\n",
       "      <td>6421430</td>\n",
       "      <td>8171000000</td>\n",
       "    </tr>\n",
       "    <tr>\n",
       "      <th>97</th>\n",
       "      <td>RS Group PLC</td>\n",
       "      <td>RS1R.L</td>\n",
       "      <td>0.17</td>\n",
       "      <td>12431</td>\n",
       "      <td>2942400000</td>\n",
       "    </tr>\n",
       "    <tr>\n",
       "      <th>98</th>\n",
       "      <td>Ocado Group PLC</td>\n",
       "      <td>OCDO.L</td>\n",
       "      <td>0.12</td>\n",
       "      <td>117484</td>\n",
       "      <td>2825000000</td>\n",
       "    </tr>\n",
       "    <tr>\n",
       "      <th>99</th>\n",
       "      <td>St James's Place PLC</td>\n",
       "      <td>SJP.L</td>\n",
       "      <td>0.13</td>\n",
       "      <td>2182</td>\n",
       "      <td>6016900000</td>\n",
       "    </tr>\n",
       "  </tbody>\n",
       "</table>\n",
       "<p>100 rows × 5 columns</p>\n",
       "</div>"
      ],
      "text/plain": [
       "                    Name     RIC  Weight % CO2 Equivalent Emissions Total  \\\n",
       "0        AstraZeneca PLC   AZN.L      8.59                         418106   \n",
       "1              Shell PLC  SHEL.L      8.73                       59000000   \n",
       "2      HSBC Holdings PLC  HSBA.L      6.36                         366000   \n",
       "3           Unilever PLC  ULVR.L      5.11                         621682   \n",
       "4          Rio Tinto PLC   RIO.L      2.94                       26500000   \n",
       "..                   ...     ...       ...                            ...   \n",
       "95    Burberry Group PLC  BRBY.L      0.18                          27701   \n",
       "96           Easyjet PLC   EZJ.L      0.14                        6421430   \n",
       "97          RS Group PLC  RS1R.L      0.17                          12431   \n",
       "98       Ocado Group PLC  OCDO.L      0.12                         117484   \n",
       "99  St James's Place PLC   SJP.L      0.13                           2182   \n",
       "\n",
       "   Revenue from Business Activities - Total  \n",
       "0                               45811000000  \n",
       "1                              316620000000  \n",
       "2                               65458000000  \n",
       "3                               59604000000  \n",
       "4                               54041000000  \n",
       "..                                      ...  \n",
       "95                               2968000000  \n",
       "96                               8171000000  \n",
       "97                               2942400000  \n",
       "98                               2825000000  \n",
       "99                               6016900000  \n",
       "\n",
       "[100 rows x 5 columns]"
      ]
     },
     "execution_count": 92,
     "metadata": {},
     "output_type": "execute_result"
    }
   ],
   "source": [
    "ftse_final_df = pd.merge(ftse_df, latest_data, on='RIC', how='left')\n",
    "ftse_final_df"
   ]
  },
  {
   "cell_type": "code",
   "execution_count": 93,
   "metadata": {},
   "outputs": [
    {
     "name": "stdout",
     "output_type": "stream",
     "text": [
      "The Weighted Average Carbon Intensity (WACI) is: 85.19\n"
     ]
    }
   ],
   "source": [
    "# Normalize the weights to sum to 1\n",
    "ftse_final_df['Weight'] = ftse_final_df['Weight %'] / ftse_final_df['Weight %'].sum()\n",
    "\n",
    "# Set the index to RIC for easier access\n",
    "latest_data.set_index('RIC', inplace=True)\n",
    "\n",
    "# Combine the latest data with the weights from the ftse_final_df\n",
    "portfolio_data = []\n",
    "for _, row in ftse_final_df.iterrows():\n",
    "    ticker = row['RIC']\n",
    "    weight = row['Weight']\n",
    "    ghg_emissions = latest_data.loc[ticker, 'CO2 Equivalent Emissions Total']\n",
    "    revenue = latest_data.loc[ticker, 'Revenue from Business Activities - Total']\n",
    "    portfolio_data.append({\n",
    "        \"weight\": weight,\n",
    "        \"GHG_Emissions\": ghg_emissions,\n",
    "        \"Revenue\": revenue\n",
    "    })\n",
    "\n",
    "# Function to calculate WACI\n",
    "def calculate_waci(portfolio):\n",
    "    numerator = 0\n",
    "    denominator = 0\n",
    "\n",
    "    for entity in portfolio:\n",
    "        if entity['GHG_Emissions'] and entity['Revenue']:\n",
    "            ci = entity['GHG_Emissions'] / (entity['Revenue']/1000000)  # per 1M USD\n",
    "            weighted_ci = entity['weight'] * ci\n",
    "            numerator += weighted_ci\n",
    "            denominator += entity['weight']\n",
    "\n",
    "    if denominator != 0:\n",
    "        waci = numerator / denominator\n",
    "        return waci\n",
    "    else:\n",
    "        return \"Error: Denominator is zero, cannot divide by zero\"\n",
    "\n",
    "# Calculate WACI\n",
    "ftse_waci_result = calculate_waci(portfolio_data).round(2)\n",
    "print(f\"The Weighted Average Carbon Intensity (WACI) is: {ftse_waci_result}\")"
   ]
  },
  {
   "cell_type": "code",
   "execution_count": 94,
   "metadata": {},
   "outputs": [],
   "source": [
    "ftse_sharpe = ek.get_data(instruments=\".FTSE\", fields=[\"TR.SharpeRatioWkly3Y\"])[0]\n",
    "\n",
    "ftse_returns = ek.get_data(instruments=\".FTSE\", fields=[\"TR.IndexTotalReturnYTD\", \"TR.Volatility260D\"])[0]\n",
    "\n",
    "#rename the column Index Total Return YTD to Returns\n",
    "ftse_returns.rename(columns={'Index Total Return YTD': 'Returns'}, inplace=True)\n",
    "ftse_returns['Returns'] = ftse_returns['Returns'] / 100  # Convert percentage to decimal\n",
    "\n",
    "#rename the column Volatility - 260 days to Volatility\n",
    "ftse_returns.rename(columns={'Volatility - 260 days': 'Volatility'}, inplace=True)\n",
    "ftse_returns['Volatility'] = ftse_returns['Volatility'] / 100\n",
    "\n",
    "# add ftse_sharpe to the ftse_returns\n",
    "ftse_returns['Sharpe Ratio'] = ftse_sharpe['Weekly Sharpe Ratio - 3 Year']\n",
    "ftse_returns['WACI'] = ftse_waci_result"
   ]
  },
  {
   "cell_type": "code",
   "execution_count": 95,
   "metadata": {},
   "outputs": [
    {
     "data": {
      "application/vnd.plotly.v1+json": {
       "config": {
        "plotlyServerURL": "https://plot.ly"
       },
       "data": [
        {
         "cells": {
          "align": "center",
          "fill": {
           "color": "lavender"
          },
          "font": {
           "size": 13
          },
          "height": 50,
          "values": [
           [
            "Returns",
            "Volatility",
            "Sharpe Ratio",
            "WACI"
           ],
           [
            "11.71%",
            "22.15%",
            "0.3348",
            "37.0000"
           ]
          ]
         },
         "domain": {
          "x": [
           0,
           0.45
          ],
          "y": [
           0,
           1
          ]
         },
         "header": {
          "align": "center",
          "fill": {
           "color": "paleturquoise"
          },
          "font": {
           "size": 16
          },
          "values": [
           "Metric",
           "Optimized Portfolio Value"
          ]
         },
         "type": "table"
        },
        {
         "cells": {
          "align": "center",
          "fill": {
           "color": "lavender"
          },
          "font": {
           "size": 13
          },
          "height": 50,
          "values": [
           [
            "Returns",
            "Volatility",
            "Sharpe Ratio",
            "WACI"
           ],
           [
            "7.78%",
            "10.01%",
            "0.0994",
            "85.1900"
           ]
          ]
         },
         "domain": {
          "x": [
           0.55,
           1
          ],
          "y": [
           0,
           1
          ]
         },
         "header": {
          "align": "center",
          "fill": {
           "color": "paleturquoise"
          },
          "font": {
           "size": 16
          },
          "values": [
           "Metric",
           "FTSE Index Value"
          ]
         },
         "type": "table"
        }
       ],
       "layout": {
        "template": {
         "data": {
          "bar": [
           {
            "error_x": {
             "color": "#2a3f5f"
            },
            "error_y": {
             "color": "#2a3f5f"
            },
            "marker": {
             "line": {
              "color": "white",
              "width": 0.5
             },
             "pattern": {
              "fillmode": "overlay",
              "size": 10,
              "solidity": 0.2
             }
            },
            "type": "bar"
           }
          ],
          "barpolar": [
           {
            "marker": {
             "line": {
              "color": "white",
              "width": 0.5
             },
             "pattern": {
              "fillmode": "overlay",
              "size": 10,
              "solidity": 0.2
             }
            },
            "type": "barpolar"
           }
          ],
          "carpet": [
           {
            "aaxis": {
             "endlinecolor": "#2a3f5f",
             "gridcolor": "#C8D4E3",
             "linecolor": "#C8D4E3",
             "minorgridcolor": "#C8D4E3",
             "startlinecolor": "#2a3f5f"
            },
            "baxis": {
             "endlinecolor": "#2a3f5f",
             "gridcolor": "#C8D4E3",
             "linecolor": "#C8D4E3",
             "minorgridcolor": "#C8D4E3",
             "startlinecolor": "#2a3f5f"
            },
            "type": "carpet"
           }
          ],
          "choropleth": [
           {
            "colorbar": {
             "outlinewidth": 0,
             "ticks": ""
            },
            "type": "choropleth"
           }
          ],
          "contour": [
           {
            "colorbar": {
             "outlinewidth": 0,
             "ticks": ""
            },
            "colorscale": [
             [
              0,
              "#0d0887"
             ],
             [
              0.1111111111111111,
              "#46039f"
             ],
             [
              0.2222222222222222,
              "#7201a8"
             ],
             [
              0.3333333333333333,
              "#9c179e"
             ],
             [
              0.4444444444444444,
              "#bd3786"
             ],
             [
              0.5555555555555556,
              "#d8576b"
             ],
             [
              0.6666666666666666,
              "#ed7953"
             ],
             [
              0.7777777777777778,
              "#fb9f3a"
             ],
             [
              0.8888888888888888,
              "#fdca26"
             ],
             [
              1,
              "#f0f921"
             ]
            ],
            "type": "contour"
           }
          ],
          "contourcarpet": [
           {
            "colorbar": {
             "outlinewidth": 0,
             "ticks": ""
            },
            "type": "contourcarpet"
           }
          ],
          "heatmap": [
           {
            "colorbar": {
             "outlinewidth": 0,
             "ticks": ""
            },
            "colorscale": [
             [
              0,
              "#0d0887"
             ],
             [
              0.1111111111111111,
              "#46039f"
             ],
             [
              0.2222222222222222,
              "#7201a8"
             ],
             [
              0.3333333333333333,
              "#9c179e"
             ],
             [
              0.4444444444444444,
              "#bd3786"
             ],
             [
              0.5555555555555556,
              "#d8576b"
             ],
             [
              0.6666666666666666,
              "#ed7953"
             ],
             [
              0.7777777777777778,
              "#fb9f3a"
             ],
             [
              0.8888888888888888,
              "#fdca26"
             ],
             [
              1,
              "#f0f921"
             ]
            ],
            "type": "heatmap"
           }
          ],
          "heatmapgl": [
           {
            "colorbar": {
             "outlinewidth": 0,
             "ticks": ""
            },
            "colorscale": [
             [
              0,
              "#0d0887"
             ],
             [
              0.1111111111111111,
              "#46039f"
             ],
             [
              0.2222222222222222,
              "#7201a8"
             ],
             [
              0.3333333333333333,
              "#9c179e"
             ],
             [
              0.4444444444444444,
              "#bd3786"
             ],
             [
              0.5555555555555556,
              "#d8576b"
             ],
             [
              0.6666666666666666,
              "#ed7953"
             ],
             [
              0.7777777777777778,
              "#fb9f3a"
             ],
             [
              0.8888888888888888,
              "#fdca26"
             ],
             [
              1,
              "#f0f921"
             ]
            ],
            "type": "heatmapgl"
           }
          ],
          "histogram": [
           {
            "marker": {
             "pattern": {
              "fillmode": "overlay",
              "size": 10,
              "solidity": 0.2
             }
            },
            "type": "histogram"
           }
          ],
          "histogram2d": [
           {
            "colorbar": {
             "outlinewidth": 0,
             "ticks": ""
            },
            "colorscale": [
             [
              0,
              "#0d0887"
             ],
             [
              0.1111111111111111,
              "#46039f"
             ],
             [
              0.2222222222222222,
              "#7201a8"
             ],
             [
              0.3333333333333333,
              "#9c179e"
             ],
             [
              0.4444444444444444,
              "#bd3786"
             ],
             [
              0.5555555555555556,
              "#d8576b"
             ],
             [
              0.6666666666666666,
              "#ed7953"
             ],
             [
              0.7777777777777778,
              "#fb9f3a"
             ],
             [
              0.8888888888888888,
              "#fdca26"
             ],
             [
              1,
              "#f0f921"
             ]
            ],
            "type": "histogram2d"
           }
          ],
          "histogram2dcontour": [
           {
            "colorbar": {
             "outlinewidth": 0,
             "ticks": ""
            },
            "colorscale": [
             [
              0,
              "#0d0887"
             ],
             [
              0.1111111111111111,
              "#46039f"
             ],
             [
              0.2222222222222222,
              "#7201a8"
             ],
             [
              0.3333333333333333,
              "#9c179e"
             ],
             [
              0.4444444444444444,
              "#bd3786"
             ],
             [
              0.5555555555555556,
              "#d8576b"
             ],
             [
              0.6666666666666666,
              "#ed7953"
             ],
             [
              0.7777777777777778,
              "#fb9f3a"
             ],
             [
              0.8888888888888888,
              "#fdca26"
             ],
             [
              1,
              "#f0f921"
             ]
            ],
            "type": "histogram2dcontour"
           }
          ],
          "mesh3d": [
           {
            "colorbar": {
             "outlinewidth": 0,
             "ticks": ""
            },
            "type": "mesh3d"
           }
          ],
          "parcoords": [
           {
            "line": {
             "colorbar": {
              "outlinewidth": 0,
              "ticks": ""
             }
            },
            "type": "parcoords"
           }
          ],
          "pie": [
           {
            "automargin": true,
            "type": "pie"
           }
          ],
          "scatter": [
           {
            "fillpattern": {
             "fillmode": "overlay",
             "size": 10,
             "solidity": 0.2
            },
            "type": "scatter"
           }
          ],
          "scatter3d": [
           {
            "line": {
             "colorbar": {
              "outlinewidth": 0,
              "ticks": ""
             }
            },
            "marker": {
             "colorbar": {
              "outlinewidth": 0,
              "ticks": ""
             }
            },
            "type": "scatter3d"
           }
          ],
          "scattercarpet": [
           {
            "marker": {
             "colorbar": {
              "outlinewidth": 0,
              "ticks": ""
             }
            },
            "type": "scattercarpet"
           }
          ],
          "scattergeo": [
           {
            "marker": {
             "colorbar": {
              "outlinewidth": 0,
              "ticks": ""
             }
            },
            "type": "scattergeo"
           }
          ],
          "scattergl": [
           {
            "marker": {
             "colorbar": {
              "outlinewidth": 0,
              "ticks": ""
             }
            },
            "type": "scattergl"
           }
          ],
          "scattermapbox": [
           {
            "marker": {
             "colorbar": {
              "outlinewidth": 0,
              "ticks": ""
             }
            },
            "type": "scattermapbox"
           }
          ],
          "scatterpolar": [
           {
            "marker": {
             "colorbar": {
              "outlinewidth": 0,
              "ticks": ""
             }
            },
            "type": "scatterpolar"
           }
          ],
          "scatterpolargl": [
           {
            "marker": {
             "colorbar": {
              "outlinewidth": 0,
              "ticks": ""
             }
            },
            "type": "scatterpolargl"
           }
          ],
          "scatterternary": [
           {
            "marker": {
             "colorbar": {
              "outlinewidth": 0,
              "ticks": ""
             }
            },
            "type": "scatterternary"
           }
          ],
          "surface": [
           {
            "colorbar": {
             "outlinewidth": 0,
             "ticks": ""
            },
            "colorscale": [
             [
              0,
              "#0d0887"
             ],
             [
              0.1111111111111111,
              "#46039f"
             ],
             [
              0.2222222222222222,
              "#7201a8"
             ],
             [
              0.3333333333333333,
              "#9c179e"
             ],
             [
              0.4444444444444444,
              "#bd3786"
             ],
             [
              0.5555555555555556,
              "#d8576b"
             ],
             [
              0.6666666666666666,
              "#ed7953"
             ],
             [
              0.7777777777777778,
              "#fb9f3a"
             ],
             [
              0.8888888888888888,
              "#fdca26"
             ],
             [
              1,
              "#f0f921"
             ]
            ],
            "type": "surface"
           }
          ],
          "table": [
           {
            "cells": {
             "fill": {
              "color": "#EBF0F8"
             },
             "line": {
              "color": "white"
             }
            },
            "header": {
             "fill": {
              "color": "#C8D4E3"
             },
             "line": {
              "color": "white"
             }
            },
            "type": "table"
           }
          ]
         },
         "layout": {
          "annotationdefaults": {
           "arrowcolor": "#2a3f5f",
           "arrowhead": 0,
           "arrowwidth": 1
          },
          "autotypenumbers": "strict",
          "coloraxis": {
           "colorbar": {
            "outlinewidth": 0,
            "ticks": ""
           }
          },
          "colorscale": {
           "diverging": [
            [
             0,
             "#8e0152"
            ],
            [
             0.1,
             "#c51b7d"
            ],
            [
             0.2,
             "#de77ae"
            ],
            [
             0.3,
             "#f1b6da"
            ],
            [
             0.4,
             "#fde0ef"
            ],
            [
             0.5,
             "#f7f7f7"
            ],
            [
             0.6,
             "#e6f5d0"
            ],
            [
             0.7,
             "#b8e186"
            ],
            [
             0.8,
             "#7fbc41"
            ],
            [
             0.9,
             "#4d9221"
            ],
            [
             1,
             "#276419"
            ]
           ],
           "sequential": [
            [
             0,
             "#0d0887"
            ],
            [
             0.1111111111111111,
             "#46039f"
            ],
            [
             0.2222222222222222,
             "#7201a8"
            ],
            [
             0.3333333333333333,
             "#9c179e"
            ],
            [
             0.4444444444444444,
             "#bd3786"
            ],
            [
             0.5555555555555556,
             "#d8576b"
            ],
            [
             0.6666666666666666,
             "#ed7953"
            ],
            [
             0.7777777777777778,
             "#fb9f3a"
            ],
            [
             0.8888888888888888,
             "#fdca26"
            ],
            [
             1,
             "#f0f921"
            ]
           ],
           "sequentialminus": [
            [
             0,
             "#0d0887"
            ],
            [
             0.1111111111111111,
             "#46039f"
            ],
            [
             0.2222222222222222,
             "#7201a8"
            ],
            [
             0.3333333333333333,
             "#9c179e"
            ],
            [
             0.4444444444444444,
             "#bd3786"
            ],
            [
             0.5555555555555556,
             "#d8576b"
            ],
            [
             0.6666666666666666,
             "#ed7953"
            ],
            [
             0.7777777777777778,
             "#fb9f3a"
            ],
            [
             0.8888888888888888,
             "#fdca26"
            ],
            [
             1,
             "#f0f921"
            ]
           ]
          },
          "colorway": [
           "#636efa",
           "#EF553B",
           "#00cc96",
           "#ab63fa",
           "#FFA15A",
           "#19d3f3",
           "#FF6692",
           "#B6E880",
           "#FF97FF",
           "#FECB52"
          ],
          "font": {
           "color": "#2a3f5f"
          },
          "geo": {
           "bgcolor": "white",
           "lakecolor": "white",
           "landcolor": "white",
           "showlakes": true,
           "showland": true,
           "subunitcolor": "#C8D4E3"
          },
          "hoverlabel": {
           "align": "left"
          },
          "hovermode": "closest",
          "mapbox": {
           "style": "light"
          },
          "paper_bgcolor": "white",
          "plot_bgcolor": "white",
          "polar": {
           "angularaxis": {
            "gridcolor": "#EBF0F8",
            "linecolor": "#EBF0F8",
            "ticks": ""
           },
           "bgcolor": "white",
           "radialaxis": {
            "gridcolor": "#EBF0F8",
            "linecolor": "#EBF0F8",
            "ticks": ""
           }
          },
          "scene": {
           "xaxis": {
            "backgroundcolor": "white",
            "gridcolor": "#DFE8F3",
            "gridwidth": 2,
            "linecolor": "#EBF0F8",
            "showbackground": true,
            "ticks": "",
            "zerolinecolor": "#EBF0F8"
           },
           "yaxis": {
            "backgroundcolor": "white",
            "gridcolor": "#DFE8F3",
            "gridwidth": 2,
            "linecolor": "#EBF0F8",
            "showbackground": true,
            "ticks": "",
            "zerolinecolor": "#EBF0F8"
           },
           "zaxis": {
            "backgroundcolor": "white",
            "gridcolor": "#DFE8F3",
            "gridwidth": 2,
            "linecolor": "#EBF0F8",
            "showbackground": true,
            "ticks": "",
            "zerolinecolor": "#EBF0F8"
           }
          },
          "shapedefaults": {
           "line": {
            "color": "#2a3f5f"
           }
          },
          "ternary": {
           "aaxis": {
            "gridcolor": "#DFE8F3",
            "linecolor": "#A2B1C6",
            "ticks": ""
           },
           "baxis": {
            "gridcolor": "#DFE8F3",
            "linecolor": "#A2B1C6",
            "ticks": ""
           },
           "bgcolor": "white",
           "caxis": {
            "gridcolor": "#DFE8F3",
            "linecolor": "#A2B1C6",
            "ticks": ""
           }
          },
          "title": {
           "x": 0.05
          },
          "xaxis": {
           "automargin": true,
           "gridcolor": "#EBF0F8",
           "linecolor": "#EBF0F8",
           "ticks": "",
           "title": {
            "standoff": 15
           },
           "zerolinecolor": "#EBF0F8",
           "zerolinewidth": 2
          },
          "yaxis": {
           "automargin": true,
           "gridcolor": "#EBF0F8",
           "linecolor": "#EBF0F8",
           "ticks": "",
           "title": {
            "standoff": 15
           },
           "zerolinecolor": "#EBF0F8",
           "zerolinewidth": 2
          }
         }
        },
        "title": {
         "text": "Portfolio and FTSE Index Metrics Comparison"
        }
       }
      }
     },
     "metadata": {},
     "output_type": "display_data"
    }
   ],
   "source": [
    "# Extract portfolio metrics\n",
    "optimized_metrics = {\n",
    "    'Returns': optimized_df['Returns'].values[0],\n",
    "    'Volatility': optimized_df['Volatility'].values[0],\n",
    "    'Sharpe Ratio': optimized_df['Sharpe Ratio'].values[0],\n",
    "    'WACI': optimized_df['WACI'].values[0]\n",
    "}\n",
    "\n",
    "# Extract FTSE index metrics\n",
    "ftse_metrics = {\n",
    "    'Returns': ftse_returns['Returns'].values[0],\n",
    "    'Volatility': ftse_returns['Volatility'].values[0],\n",
    "    'Sharpe Ratio': ftse_returns['Sharpe Ratio'].values[0],\n",
    "    'WACI': ftse_returns['WACI'].values[0]\n",
    "}\n",
    "\n",
    "# Create subplots: 1 row, 2 columns\n",
    "fig = make_subplots(\n",
    "    rows=1, cols=2,\n",
    "    column_widths=[0.5, 0.5],\n",
    "    specs=[[{\"type\": \"table\"}, {\"type\": \"table\"}]]\n",
    ")\n",
    "\n",
    "# Add table for optimized portfolio metrics\n",
    "fig.add_trace(go.Table(\n",
    "    header=dict(values=['Metric', 'Optimized Portfolio Value'],\n",
    "                fill_color='paleturquoise',\n",
    "                align='center',\n",
    "                font=dict(size=16)),\n",
    "    cells=dict(values=[list(optimized_metrics.keys()), \n",
    "                       [f'{v:.2%}' if i in [0, 1] else f'{v:.4f}' for i, v in enumerate(optimized_metrics.values())]],\n",
    "               fill_color='lavender',\n",
    "               align='center',\n",
    "               font=dict(size=13),\n",
    "               height=50))\n",
    ", row=1, col=1)\n",
    "\n",
    "# Add table for FTSE index metrics\n",
    "fig.add_trace(go.Table(\n",
    "    header=dict(values=['Metric', 'FTSE Index Value'],\n",
    "                fill_color='paleturquoise',\n",
    "                align='center',\n",
    "                font=dict(size=16)),\n",
    "    cells=dict(values=[list(ftse_metrics.keys()), \n",
    "                       [f'{v:.2%}' if i in [0, 1] else f'{v:.4f}' for i, v in enumerate(ftse_metrics.values())]],\n",
    "               fill_color='lavender',\n",
    "               align='center',\n",
    "               font=dict(size=13),\n",
    "               height=50))\n",
    ", row=1, col=2)\n",
    "\n",
    "# Update layout\n",
    "fig.update_layout(\n",
    "    title_text='Portfolio and FTSE Index Metrics Comparison',\n",
    "    template='plotly_white'\n",
    ")\n",
    "\n",
    "# Show the plot\n",
    "fig.show()"
   ]
  }
 ],
 "metadata": {
  "kernelspec": {
   "display_name": "Python 3",
   "language": "python",
   "name": "python3"
  },
  "language_info": {
   "codemirror_mode": {
    "name": "ipython",
    "version": 3
   },
   "file_extension": ".py",
   "mimetype": "text/x-python",
   "name": "python",
   "nbconvert_exporter": "python",
   "pygments_lexer": "ipython3",
   "version": "3.11.9"
  }
 },
 "nbformat": 4,
 "nbformat_minor": 2
}
