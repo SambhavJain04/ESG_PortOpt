{
 "cells": [
  {
   "cell_type": "markdown",
   "metadata": {},
   "source": [
    "# Portfolio Optimisation for Net Zero Emission Portfolio"
   ]
  },
  {
   "cell_type": "code",
   "execution_count": 44,
   "metadata": {},
   "outputs": [],
   "source": [
    "import refinitiv.data as rd\n",
    "import refinitiv.data.eikon as ek\n",
    "import pandas as pd\n",
    "import numpy as np\n",
    "import matplotlib.pyplot as plt\n",
    "from scipy.optimize import minimize\n",
    "import plotly.graph_objects as go\n",
    "from plotly.subplots import make_subplots\n",
    "import os\n",
    "import nbformat\n",
    "from nbconvert.preprocessors import ExecutePreprocessor\n",
    "import pickle\n",
    "\n",
    "import warnings\n",
    "warnings.filterwarnings(\"ignore\")"
   ]
  },
  {
   "cell_type": "code",
   "execution_count": 45,
   "metadata": {},
   "outputs": [
    {
     "data": {
      "text/plain": [
       "<refinitiv.data.session.Definition object at 0x16e284610 {name='workspace'}>"
      ]
     },
     "execution_count": 45,
     "metadata": {},
     "output_type": "execute_result"
    }
   ],
   "source": [
    "rd.open_session()"
   ]
  },
  {
   "cell_type": "markdown",
   "metadata": {},
   "source": [
    "### Fetching and Processing Financial Data with Jupyter Notebooks\n",
    "\n",
    "1. **StopExecution Class**: A custom exception class `StopExecution` is defined. This class overrides the `_render_traceback_` method to prevent Jupyter from printing the traceback when the exception is raised.\n",
    "\n",
    "2. **File Existence Check**: The code checks if a file named 'portfolio.csv' exists in the current directory.\n",
    "\n",
    "    - If the file exists, it is read into a DataFrame `portfolio_df`.\n",
    "\n",
    "    - If the file does not exist, the code proceeds to execute a Jupyter notebook to fetch the data.\n",
    "\n",
    "3. **Executing a Jupyter Notebook**: If 'portfolio.csv' does not exist, the code executes a Jupyter notebook named 'data.ipynb' to fetch the data.\n",
    "\n",
    "    - The notebook is loaded using the `nbformat` library.\n",
    "\n",
    "    - The `ExecutePreprocessor` class from the `nbconvert` library is used to execute the notebook. A timeout of 1200 seconds is set, and the kernel used for execution is 'python3'.\n",
    "\n",
    "    - If an error occurs during the execution of the notebook, the error message is printed and the error is raised.\n",
    "\n",
    "    - After the notebook is executed, 'portfolio.csv' should exist in the directory. The file is read into the `portfolio_df` DataFrame.\n",
    "\n",
    "4. **Data Output**: Finally, the first five rows of the `portfolio_df` DataFrame are printed to inspect the fetched data."
   ]
  },
  {
   "cell_type": "code",
   "execution_count": 46,
   "metadata": {},
   "outputs": [
    {
     "name": "stdout",
     "output_type": "stream",
     "text": [
      "portfolio.csv exists in the directory.\n"
     ]
    },
    {
     "data": {
      "text/html": [
       "<div>\n",
       "<style scoped>\n",
       "    .dataframe tbody tr th:only-of-type {\n",
       "        vertical-align: middle;\n",
       "    }\n",
       "\n",
       "    .dataframe tbody tr th {\n",
       "        vertical-align: top;\n",
       "    }\n",
       "\n",
       "    .dataframe thead th {\n",
       "        text-align: right;\n",
       "    }\n",
       "</style>\n",
       "<table border=\"1\" class=\"dataframe\">\n",
       "  <thead>\n",
       "    <tr style=\"text-align: right;\">\n",
       "      <th></th>\n",
       "      <th>AAL.L</th>\n",
       "      <th>ABF.L</th>\n",
       "      <th>AHT.L</th>\n",
       "      <th>ANTO.L</th>\n",
       "      <th>AV.L</th>\n",
       "      <th>AZN.L</th>\n",
       "      <th>BAES.L</th>\n",
       "      <th>BARC.L</th>\n",
       "      <th>BATS.L</th>\n",
       "      <th>BDEV.L</th>\n",
       "      <th>...</th>\n",
       "      <th>SVT.L</th>\n",
       "      <th>TSCO.L</th>\n",
       "      <th>TW.L</th>\n",
       "      <th>ULVR.L</th>\n",
       "      <th>UTG.L</th>\n",
       "      <th>UU.L</th>\n",
       "      <th>VOD.L</th>\n",
       "      <th>WEIR.L</th>\n",
       "      <th>WPP.L</th>\n",
       "      <th>WTB.L</th>\n",
       "    </tr>\n",
       "    <tr>\n",
       "      <th>Date</th>\n",
       "      <th></th>\n",
       "      <th></th>\n",
       "      <th></th>\n",
       "      <th></th>\n",
       "      <th></th>\n",
       "      <th></th>\n",
       "      <th></th>\n",
       "      <th></th>\n",
       "      <th></th>\n",
       "      <th></th>\n",
       "      <th></th>\n",
       "      <th></th>\n",
       "      <th></th>\n",
       "      <th></th>\n",
       "      <th></th>\n",
       "      <th></th>\n",
       "      <th></th>\n",
       "      <th></th>\n",
       "      <th></th>\n",
       "      <th></th>\n",
       "      <th></th>\n",
       "    </tr>\n",
       "  </thead>\n",
       "  <tbody>\n",
       "    <tr>\n",
       "      <th>2000-01-04</th>\n",
       "      <td>996.961318</td>\n",
       "      <td>327.615390</td>\n",
       "      <td>154.593367</td>\n",
       "      <td>86.037092</td>\n",
       "      <td>920.324120</td>\n",
       "      <td>2392.339763</td>\n",
       "      <td>408.50</td>\n",
       "      <td>375.588870</td>\n",
       "      <td>332.25</td>\n",
       "      <td>165.053794</td>\n",
       "      <td>...</td>\n",
       "      <td>625.338004</td>\n",
       "      <td>181.484681</td>\n",
       "      <td>88.529409</td>\n",
       "      <td>1013.333232</td>\n",
       "      <td>165.428281</td>\n",
       "      <td>529.350796</td>\n",
       "      <td>295.186056</td>\n",
       "      <td>231.0</td>\n",
       "      <td>970.0</td>\n",
       "      <td>538.219010</td>\n",
       "    </tr>\n",
       "    <tr>\n",
       "      <th>2000-01-05</th>\n",
       "      <td>1005.684729</td>\n",
       "      <td>332.799959</td>\n",
       "      <td>153.229308</td>\n",
       "      <td>86.037092</td>\n",
       "      <td>893.154057</td>\n",
       "      <td>2346.502026</td>\n",
       "      <td>401.25</td>\n",
       "      <td>366.592729</td>\n",
       "      <td>335.50</td>\n",
       "      <td>163.611016</td>\n",
       "      <td>...</td>\n",
       "      <td>634.263903</td>\n",
       "      <td>184.480301</td>\n",
       "      <td>92.057755</td>\n",
       "      <td>1019.999898</td>\n",
       "      <td>165.428281</td>\n",
       "      <td>537.034921</td>\n",
       "      <td>280.914974</td>\n",
       "      <td>237.5</td>\n",
       "      <td>875.0</td>\n",
       "      <td>536.904143</td>\n",
       "    </tr>\n",
       "    <tr>\n",
       "      <th>2000-01-06</th>\n",
       "      <td>1030.359522</td>\n",
       "      <td>364.401142</td>\n",
       "      <td>151.410563</td>\n",
       "      <td>86.334798</td>\n",
       "      <td>884.756038</td>\n",
       "      <td>2341.625671</td>\n",
       "      <td>404.75</td>\n",
       "      <td>352.873615</td>\n",
       "      <td>328.25</td>\n",
       "      <td>163.033905</td>\n",
       "      <td>...</td>\n",
       "      <td>682.568770</td>\n",
       "      <td>184.480301</td>\n",
       "      <td>94.303066</td>\n",
       "      <td>1053.333228</td>\n",
       "      <td>165.428281</td>\n",
       "      <td>557.952815</td>\n",
       "      <td>272.402399</td>\n",
       "      <td>249.0</td>\n",
       "      <td>867.5</td>\n",
       "      <td>543.040190</td>\n",
       "    </tr>\n",
       "    <tr>\n",
       "      <th>2000-01-07</th>\n",
       "      <td>1066.748610</td>\n",
       "      <td>353.538236</td>\n",
       "      <td>151.410563</td>\n",
       "      <td>86.334798</td>\n",
       "      <td>904.516084</td>\n",
       "      <td>2397.216118</td>\n",
       "      <td>388.25</td>\n",
       "      <td>345.001992</td>\n",
       "      <td>331.25</td>\n",
       "      <td>166.208016</td>\n",
       "      <td>...</td>\n",
       "      <td>706.721203</td>\n",
       "      <td>181.983951</td>\n",
       "      <td>96.548378</td>\n",
       "      <td>1104.444334</td>\n",
       "      <td>165.428281</td>\n",
       "      <td>567.771419</td>\n",
       "      <td>287.674960</td>\n",
       "      <td>244.0</td>\n",
       "      <td>900.0</td>\n",
       "      <td>569.337536</td>\n",
       "    </tr>\n",
       "    <tr>\n",
       "      <th>2000-01-10</th>\n",
       "      <td>1077.964425</td>\n",
       "      <td>357.241499</td>\n",
       "      <td>146.863699</td>\n",
       "      <td>86.830975</td>\n",
       "      <td>910.444097</td>\n",
       "      <td>2463.534546</td>\n",
       "      <td>380.25</td>\n",
       "      <td>349.724966</td>\n",
       "      <td>326.75</td>\n",
       "      <td>159.571238</td>\n",
       "      <td>...</td>\n",
       "      <td>699.370463</td>\n",
       "      <td>176.242345</td>\n",
       "      <td>93.340790</td>\n",
       "      <td>1064.444338</td>\n",
       "      <td>165.428281</td>\n",
       "      <td>577.163126</td>\n",
       "      <td>302.196411</td>\n",
       "      <td>243.5</td>\n",
       "      <td>943.5</td>\n",
       "      <td>552.244261</td>\n",
       "    </tr>\n",
       "  </tbody>\n",
       "</table>\n",
       "<p>5 rows × 70 columns</p>\n",
       "</div>"
      ],
      "text/plain": [
       "                  AAL.L       ABF.L       AHT.L     ANTO.L        AV.L  \\\n",
       "Date                                                                     \n",
       "2000-01-04   996.961318  327.615390  154.593367  86.037092  920.324120   \n",
       "2000-01-05  1005.684729  332.799959  153.229308  86.037092  893.154057   \n",
       "2000-01-06  1030.359522  364.401142  151.410563  86.334798  884.756038   \n",
       "2000-01-07  1066.748610  353.538236  151.410563  86.334798  904.516084   \n",
       "2000-01-10  1077.964425  357.241499  146.863699  86.830975  910.444097   \n",
       "\n",
       "                  AZN.L  BAES.L      BARC.L  BATS.L      BDEV.L  ...  \\\n",
       "Date                                                             ...   \n",
       "2000-01-04  2392.339763  408.50  375.588870  332.25  165.053794  ...   \n",
       "2000-01-05  2346.502026  401.25  366.592729  335.50  163.611016  ...   \n",
       "2000-01-06  2341.625671  404.75  352.873615  328.25  163.033905  ...   \n",
       "2000-01-07  2397.216118  388.25  345.001992  331.25  166.208016  ...   \n",
       "2000-01-10  2463.534546  380.25  349.724966  326.75  159.571238  ...   \n",
       "\n",
       "                 SVT.L      TSCO.L       TW.L       ULVR.L       UTG.L  \\\n",
       "Date                                                                     \n",
       "2000-01-04  625.338004  181.484681  88.529409  1013.333232  165.428281   \n",
       "2000-01-05  634.263903  184.480301  92.057755  1019.999898  165.428281   \n",
       "2000-01-06  682.568770  184.480301  94.303066  1053.333228  165.428281   \n",
       "2000-01-07  706.721203  181.983951  96.548378  1104.444334  165.428281   \n",
       "2000-01-10  699.370463  176.242345  93.340790  1064.444338  165.428281   \n",
       "\n",
       "                  UU.L       VOD.L  WEIR.L  WPP.L       WTB.L  \n",
       "Date                                                           \n",
       "2000-01-04  529.350796  295.186056   231.0  970.0  538.219010  \n",
       "2000-01-05  537.034921  280.914974   237.5  875.0  536.904143  \n",
       "2000-01-06  557.952815  272.402399   249.0  867.5  543.040190  \n",
       "2000-01-07  567.771419  287.674960   244.0  900.0  569.337536  \n",
       "2000-01-10  577.163126  302.196411   243.5  943.5  552.244261  \n",
       "\n",
       "[5 rows x 70 columns]"
      ]
     },
     "execution_count": 46,
     "metadata": {},
     "output_type": "execute_result"
    }
   ],
   "source": [
    "class StopExecution(Exception):\n",
    "    def _render_traceback_(self):\n",
    "        pass\n",
    "\n",
    "# Check if the file 'portfolio.csv' exists in the directory\n",
    "if os.path.isfile('portfolio.csv'):\n",
    "    print('portfolio.csv exists in the directory.')\n",
    "    # Read the existing file\n",
    "    portfolio_df = pd.read_csv('portfolio.csv', index_col=0)\n",
    "else:\n",
    "    print('portfolio.csv does not exist in the directory. Executing data.ipynb to fetch data...')\n",
    "    \n",
    "    # Load the notebook\n",
    "    with open(\"data.ipynb\") as f:\n",
    "        nb = nbformat.read(f, as_version=4)\n",
    "\n",
    "    # Execute the notebook\n",
    "    ep = ExecutePreprocessor(timeout=1200, kernel_name='python3')\n",
    "    try:\n",
    "        ep.preprocess(nb, {'metadata': {'path': './'}})\n",
    "        print(\"data.ipynb executed successfully.\")\n",
    "    except Exception as e:\n",
    "        print(f\"Error executing the notebook: {e}\")\n",
    "        raise\n",
    "\n",
    "    # Read the portfolio data after executing the notebook\n",
    "    portfolio_df = pd.read_csv('portfolio.csv', index_col=0)\n",
    "\n",
    "# Output the final portfolio DataFrame to inspect the result\n",
    "portfolio_df.head(5)"
   ]
  },
  {
   "cell_type": "code",
   "execution_count": 47,
   "metadata": {},
   "outputs": [
    {
     "name": "stdout",
     "output_type": "stream",
     "text": [
      "top_per_sector.pkl exists in the directory.\n"
     ]
    }
   ],
   "source": [
    "# Check if the file 'top_per_sector.pkl' exists in the directory\n",
    "if os.path.isfile('top_per_sector.pkl'):\n",
    "    print('top_per_sector.pkl exists in the directory.')\n",
    "    # Load the DataFrame from the pickle file\n",
    "    with open('top_per_sector.pkl', 'rb') as f:\n",
    "        top_per_sector = pickle.load(f)"
   ]
  },
  {
   "cell_type": "markdown",
   "metadata": {},
   "source": [
    "# Sharpe Ratio\n",
    "\n",
    " Most investors aren't okay with taking on high-levels of risk, so our goal is to find the best ratio of risk vs returns. Ideally, we are taking the most risk we are comfortable with and attempting to maximize those returns. That naturally leads to an important question, \"How do we measure risk?\". Well, this can lead you down a rabbit hole because there are many ways to measure risk and some are more appropriate than others depending on the situation at hand. In our case, we will use a very popular metric, the `Sharpe Ratio`. The Sharpe Ratio, is used as a measure for calculating risk-adjusted return and has been the industry standard for such calculations. The Sharpe Ratio allows us to quantify the relationship the average return earned in excess of the risk-free rate per unit of volatility or total risk.\n",
    "\n",
    "Mathematically, we define the Sharpe Ratio as the following:\n",
    "\n",
    "\\begin{equation*}\n",
    "\\text{Sharpe Ratio} = \\frac{(R_p - R_f)}{\\sigma_p}\n",
    "\\end{equation*}\n",
    "\n",
    "Where:\n",
    "\n",
    "$\n",
    "\\begin{align}\n",
    "\\ R_p & = \\text{Return of Portfolio} \\\\\n",
    "\\ R_f & = \\text{Risk-Free Rate} \\\\\n",
    "\\ \\sigma_p & = \\text{Standard Deviation of Portfolio's Excess Return} \\\\\n",
    "\\end{align}\n",
    "$\n",
    "\n",
    "To calculate the expected returns, we use the following formula:\n",
    "\n",
    "\\begin{equation*}\n",
    "\\ R_p = (w_{1}r_{1}) + (w_{2}r_{2}) + \\cdots + (w_{n}r_{n})\n",
    "\\end{equation*}\n",
    "\n",
    "Where:\n",
    "\n",
    "$\n",
    "\\begin{align}\n",
    "\\ r_{i} & = \\text{Return of Security i} \\\\\n",
    "\\ w_{i} & = \\text{Weight of Security i} \\\\\n",
    "\\end{align}\n",
    "$\n",
    "\n",
    "To calculate the standard deviation of the protfolio, we use the following formula:\n",
    "\n",
    "\\begin{equation*}\n",
    "\\ \\sigma_p = \\sqrt{(w_{i}^2 \\sigma_i^2) + (w_{j}^2 \\sigma_j^2) + (2w_{j}w_{i} p_{i,j} \\sigma_i \\sigma_j)}\n",
    "\\end{equation*}\n",
    "\n",
    "Where:\n",
    "\n",
    "$\n",
    "\\begin{align}\n",
    "\\ \\sigma_{i} & = \\text{Standard Deviation of Returns for Security i} \\\\\n",
    "\\ w_{i} & = \\text{Weight of Security i} \\\\\n",
    "\\ p_{i,j} & = \\text{Correlation Coefficent between the returns of asset i and asset j} \\\\\n",
    "\\end{align}\n",
    "$"
   ]
  },
  {
   "cell_type": "markdown",
   "metadata": {},
   "source": [
    "# Monte Carlo Simulation for Portfolio Optimization\n",
    "\n",
    "Monte Carlo simulation is performed below to optimize a financial portfolio. It begins by calculating the log returns of the portfolio data using the formula `log_return = np.log(1 + portfolio_df.pct_change())`. It then sets the parameters for the Monte Carlo simulation, including the number of portfolios to simulate, the risk-free rate, and the number of constituents in each random portfolio. \n",
    "\n",
    "Arrays are prepared to store the simulation results, including returns, volatility, Sharpe ratio, ESG score, portfolio weights, and symbols. The ESG scores are converted to a dictionary for easy lookup. The Monte Carlo simulation is then performed. For each portfolio, it randomly selects symbols, generates random portfolio weights, calculates expected returns using the formula `ret_arr[ind] = np.sum((selected_log_return.mean() * weights) * 252)`, volatility using the formula `vol_arr[ind] = np.sqrt(np.dot(weights.T, np.dot(selected_log_return.cov() * 252, weights)))`, Sharpe ratio using the formula `sharpe_arr[ind] = (ret_arr[ind] - risk_free_rate) / vol_arr[ind]`, and ESG score, and stores these results.\n",
    "\n",
    "A DataFrame is created to store the simulation results. Weights for the composite score are defined, Sharpe ratios and ESG scores are normalized, and the composite score is calculated using the formula `simulations_df['Composite Score'] = sharpe_weight * simulations_df['Normalized Sharpe'] + esg_weight * simulations_df['Normalized ESG']`. The portfolio with the highest composite score is found and the symbols and weights for the optimal portfolio are extracted. \n",
    "\n",
    "A dictionary is created for the optimal portfolio data and converted to a DataFrame. The simulation results are plotted, showing portfolio returns vs. risk, and the optimal portfolio is highlighted. Finally, the optimal portfolio is printed."
   ]
  },
  {
   "cell_type": "code",
   "execution_count": 48,
   "metadata": {},
   "outputs": [
    {
     "data": {
      "image/png": "[encoded data removed]",
      "text/plain": [
       "<Figure size 1000x700 with 2 Axes>"
      ]
     },
     "metadata": {},
     "output_type": "display_data"
    },
    {
     "data": {
      "text/html": [
       "<div>\n",
       "<style scoped>\n",
       "    .dataframe tbody tr th:only-of-type {\n",
       "        vertical-align: middle;\n",
       "    }\n",
       "\n",
       "    .dataframe tbody tr th {\n",
       "        vertical-align: top;\n",
       "    }\n",
       "\n",
       "    .dataframe thead th {\n",
       "        text-align: right;\n",
       "    }\n",
       "</style>\n",
       "<table border=\"1\" class=\"dataframe\">\n",
       "  <thead>\n",
       "    <tr style=\"text-align: right;\">\n",
       "      <th></th>\n",
       "      <th>Returns</th>\n",
       "      <th>Volatility</th>\n",
       "      <th>Sharpe Ratio</th>\n",
       "      <th>ESG Score</th>\n",
       "      <th>MKS.L</th>\n",
       "      <th>AZN.L</th>\n",
       "      <th>STAN.L</th>\n",
       "      <th>SHEL.L</th>\n",
       "      <th>RKT.L</th>\n",
       "      <th>BATS.L</th>\n",
       "      <th>HSBA.L</th>\n",
       "      <th>HWDN.L</th>\n",
       "      <th>UTG.L</th>\n",
       "      <th>ANTO.L</th>\n",
       "    </tr>\n",
       "  </thead>\n",
       "  <tbody>\n",
       "    <tr>\n",
       "      <th>0</th>\n",
       "      <td>0.066441</td>\n",
       "      <td>0.174688</td>\n",
       "      <td>0.128465</td>\n",
       "      <td>87.078918</td>\n",
       "      <td>0.013216</td>\n",
       "      <td>0.208106</td>\n",
       "      <td>0.059996</td>\n",
       "      <td>0.179883</td>\n",
       "      <td>0.168135</td>\n",
       "      <td>0.202565</td>\n",
       "      <td>0.014996</td>\n",
       "      <td>0.030633</td>\n",
       "      <td>0.009927</td>\n",
       "      <td>0.112543</td>\n",
       "    </tr>\n",
       "  </tbody>\n",
       "</table>\n",
       "</div>"
      ],
      "text/plain": [
       "    Returns  Volatility  Sharpe Ratio  ESG Score     MKS.L     AZN.L  \\\n",
       "0  0.066441    0.174688      0.128465  87.078918  0.013216  0.208106   \n",
       "\n",
       "     STAN.L    SHEL.L     RKT.L    BATS.L    HSBA.L    HWDN.L     UTG.L  \\\n",
       "0  0.059996  0.179883  0.168135  0.202565  0.014996  0.030633  0.009927   \n",
       "\n",
       "     ANTO.L  \n",
       "0  0.112543  "
      ]
     },
     "execution_count": 48,
     "metadata": {},
     "output_type": "execute_result"
    }
   ],
   "source": [
    "# Calculate the Log of returns\n",
    "log_return = np.log(1 + portfolio_df.pct_change())\n",
    "\n",
    "# Monte Carlo Simulation parameters\n",
    "num_of_portfolios = 50000 # Number of portfolios to simulate\n",
    "risk_free_rate = 0.044 # UK 10-Year Government Bond Yield\n",
    "num_of_constituents = 10  # Number of constituents in each random portfolio\n",
    "\n",
    "# Prepare arrays to store the simulation results\n",
    "ret_arr = np.zeros(num_of_portfolios)\n",
    "vol_arr = np.zeros(num_of_portfolios)\n",
    "sharpe_arr = np.zeros(num_of_portfolios)\n",
    "esg_arr = np.zeros(num_of_portfolios)\n",
    "all_weights = []\n",
    "all_symbols = []\n",
    "\n",
    "# Convert ESG scores to a dictionary for easy lookup\n",
    "esg_scores_dict = top_per_sector.set_index('Instrument')['ESG Score'].to_dict()\n",
    "\n",
    "# Start the simulations\n",
    "for ind in range(num_of_portfolios):\n",
    "    # Randomly select 10 symbols\n",
    "    selected_symbols = np.random.choice(portfolio_df.columns, num_of_constituents, replace=False)\n",
    "    \n",
    "    # Extract data for the selected symbols\n",
    "    selected_log_return = log_return[selected_symbols]\n",
    "    \n",
    "    # Generate random portfolio weights\n",
    "    weights = np.random.random(num_of_constituents)\n",
    "    weights /= np.sum(weights)\n",
    "    \n",
    "    # Store the weights and symbols\n",
    "    all_weights.append(weights)\n",
    "    all_symbols.append(selected_symbols)\n",
    "    \n",
    "    # Calculate expected returns and add to returns array\n",
    "    ret_arr[ind] = np.sum((selected_log_return.mean() * weights) * 252)\n",
    "    \n",
    "    # Calculate volatility and add to volatility array\n",
    "    vol_arr[ind] = np.sqrt(np.dot(weights.T, np.dot(selected_log_return.cov() * 252, weights)))\n",
    "    \n",
    "    # Calculate Sharpe ratio and add to Sharpe ratio array\n",
    "    sharpe_arr[ind] = (ret_arr[ind] - risk_free_rate) / vol_arr[ind]\n",
    "    \n",
    "    # Extract ESG scores for the selected symbols\n",
    "    esg_scores = np.array([esg_scores_dict[symbol] for symbol in selected_symbols])\n",
    "    \n",
    "    # Calculate ESG score and add to ESG array\n",
    "    esg_arr[ind] = np.sum(esg_scores * weights)\n",
    "\n",
    "# Create a DataFrame for the simulation results\n",
    "simulations_df = pd.DataFrame({\n",
    "    'Returns': ret_arr,\n",
    "    'Volatility': vol_arr,\n",
    "    'Sharpe Ratio': sharpe_arr,\n",
    "    'ESG Score': esg_arr,\n",
    "    'Symbols': all_symbols,\n",
    "    'Weights': all_weights\n",
    "})\n",
    "\n",
    "# Define weights for the composite score\n",
    "sharpe_weight = 0.5\n",
    "esg_weight = 0.5\n",
    "\n",
    "# Normalize Sharpe ratios and ESG scores\n",
    "simulations_df['Normalized Sharpe'] = (simulations_df['Sharpe Ratio'] - simulations_df['Sharpe Ratio'].min()) / (simulations_df['Sharpe Ratio'].max() - simulations_df['Sharpe Ratio'].min())\n",
    "simulations_df['Normalized ESG'] = (simulations_df['ESG Score'] - simulations_df['ESG Score'].min()) / (simulations_df['ESG Score'].max() - simulations_df['ESG Score'].min())\n",
    "\n",
    "# Calculate the composite score\n",
    "simulations_df['Composite Score'] = sharpe_weight * simulations_df['Normalized Sharpe'] + esg_weight * simulations_df['Normalized ESG']\n",
    "\n",
    "# Find the portfolio with the highest composite score\n",
    "optimal_portfolio = simulations_df.loc[simulations_df['Composite Score'].idxmax()]\n",
    "\n",
    "# Extract the symbols and weights for the optimal portfolio\n",
    "optimal_symbols = optimal_portfolio['Symbols']\n",
    "optimal_weights = optimal_portfolio['Weights']\n",
    "\n",
    "# Create a dictionary for the optimal portfolio data\n",
    "optimal_portfolio_data = {\n",
    "    'Returns': optimal_portfolio['Returns'],\n",
    "    'Volatility': optimal_portfolio['Volatility'],\n",
    "    'Sharpe Ratio': optimal_portfolio['Sharpe Ratio'],\n",
    "    'ESG Score': optimal_portfolio['ESG Score']\n",
    "}\n",
    "optimal_portfolio_data.update({optimal_symbols[i]: optimal_weights[i] for i in range(num_of_constituents)})\n",
    "\n",
    "# Convert the dictionary to a DataFrame\n",
    "optimal_portfolio_df = pd.DataFrame([optimal_portfolio_data])\n",
    "\n",
    "# Plotting the Monte Carlo simulation results\n",
    "plt.figure(figsize=(10, 7))\n",
    "plt.scatter(simulations_df['Volatility'], simulations_df['Returns'], c=simulations_df['Sharpe Ratio'], cmap='coolwarm', marker='o', alpha=0.5)\n",
    "plt.colorbar(label='Sharpe Ratio')\n",
    "plt.scatter(optimal_portfolio['Volatility'], optimal_portfolio['Returns'], marker='*', color='g', s=300, label='Optimal Portfolio')\n",
    "plt.title('Portfolio Returns Vs. Risk')\n",
    "plt.xlabel('Standard Deviation')\n",
    "plt.ylabel('Returns')\n",
    "plt.legend()\n",
    "plt.show()\n",
    "\n",
    "# Print the optimal portfolio\n",
    "optimal_portfolio_df\n"
   ]
  },
  {
   "cell_type": "markdown",
   "metadata": {},
   "source": [
    "# Calculating Weighted Average Carbon Intensity\n",
    "The weighted average carbon intensity is a widely recognised metric for assessing the carbon footprint of investment portfolios. This metric helps investors aiming to align portfolios with net-zero emissions goals, in accordance with international climate targets such as the Paris Agreement. \n",
    "\n",
    "WACI calculates carbon intensity of a portfolio by taking into account the emissions of each asset relative to its economic value, typically measured in terms of revenue or market capitalisation. This approach allows for comparing and benchmarking across different investments and portfolios, taking into account the size and impact of each investment. \n",
    "\n",
    "The calculation of WACI is:\n",
    "\n",
    "$$\n",
    "\\text{WACI} = \\frac{\\sum_{\\text{Portfolio}} \\left(\\text{Weight} \\times \\frac{\\text{GHG Emissions}}{\\text{Revenue}}\\right)}{\\sum_{\\text{Portfolio}} \\text{Weight} \\ (\\text{GHG Emissions or Revenue} \\neq 0)}\n",
    "$$\n",
    "\n",
    "\n",
    "For our WACI calculation, we have decided to use the following data points for each company within the optimised portfolio from the Refinitiv API:\n",
    "- TR.CO2EmissionTotal\n",
    "- TR.F.TOTREVENUE\n",
    "\n",
    "Total CO2 emissions and Total Revenue for each company will formulate our WACI calculation. We intend to benchmark this resulting WACI figure against the MSCI All Country World Index (ACWI) Paris Agreement industry benchmark for Net Zero Portfolios -> 8\n",
    "Please see here for reference to the benchmarking from MSCI:https://www.msci.com/documents/1296102/34270843/Climate-Indexes-Report.pdf\n",
    "\n",
    "It is important to note that CO2 emissions data is lagged one full year due to the complexities involved in calculating these metrics."
   ]
  },
  {
   "cell_type": "code",
   "execution_count": 51,
   "metadata": {},
   "outputs": [],
   "source": [
    "# Retrieving the CO2 Emissions and Total Revenue data from Refinitiv for each company in the portfolio \n",
    "# Using the ticker of each company to retrieve the data. \n",
    "\n",
    "# Extract ticker names from the column names after 'ESG Score'\n",
    "ticker_columns = optimal_portfolio_df.columns[optimal_portfolio_df.columns.get_loc('ESG Score') + 1:]\n",
    "tickers_list = ticker_columns.tolist()\n",
    "\n",
    "# # Retrieve data for the list of tickers\n",
    "waci_df = rd.get_history(\n",
    "    universe=tickers_list,\n",
    "    fields=[\n",
    "        'TR.CO2EmissionTotal',\n",
    "        'TR.F.TOTREVENUE'\n",
    "    ],\n",
    ")\n"
   ]
  },
  {
   "cell_type": "code",
   "execution_count": 52,
   "metadata": {},
   "outputs": [
    {
     "name": "stdout",
     "output_type": "stream",
     "text": [
      "The Weighted Average Carbon Intensity (WACI) is: 86.02\n"
     ]
    }
   ],
   "source": [
    "# Using the CO2 emissions and total revenue data to calculate the WACI for the optimised portfolio\n",
    "# Extract the latest non-null values for CO2 emissions and revenue for each ticker\n",
    "latest_data = waci_df.apply(lambda col: col.dropna().iloc[-1] if col.dropna().size > 0 else np.nan, axis=0)\n",
    "\n",
    "# Convert the Series to a DataFrame\n",
    "latest_data = latest_data.unstack()\n",
    "\n",
    "# Combine the latest data with the weights from the original dataframe\n",
    "portfolio_data = []\n",
    "for ticker in tickers_list:\n",
    "    weight = optimal_portfolio_df[ticker].iloc[0]\n",
    "    ghg_emissions = latest_data.loc[ticker, 'CO2 Equivalent Emissions Total']\n",
    "    revenue = latest_data.loc[ticker, 'Revenue from Business Activities - Total']\n",
    "    portfolio_data.append({\n",
    "        \"weight\": weight,\n",
    "        \"GHG_Emissions\": ghg_emissions,\n",
    "        \"Revenue\": revenue\n",
    "    })\n",
    "\n",
    "# Function to calculate WACI\n",
    "def calculate_waci(portfolio):\n",
    "    numerator = 0\n",
    "    denominator = 0\n",
    "\n",
    "    for entity in portfolio:\n",
    "        if entity['GHG_Emissions'] and entity['Revenue']:\n",
    "            ci = entity['GHG_Emissions'] / (entity['Revenue']/1000000) # per 1M USD\n",
    "            weighted_ci = entity['weight'] * ci\n",
    "            numerator += weighted_ci\n",
    "            denominator += entity['weight']\n",
    "\n",
    "    if denominator != 0:\n",
    "        waci = numerator / denominator\n",
    "        return waci\n",
    "    else:\n",
    "        return \"Error: Denominator is zero, cannot divide by zero\"\n",
    "\n",
    "# Calculate WACI\n",
    "waci_result = calculate_waci(portfolio_data).round(2)\n",
    "print(f\"The Weighted Average Carbon Intensity (WACI) is: {waci_result}\")\n",
    "\n",
    "# append the WACI to the optimal portfolio dataframe\n",
    "optimal_portfolio_df['WACI'] = waci_result"
   ]
  },
  {
   "cell_type": "code",
   "execution_count": 53,
   "metadata": {},
   "outputs": [
    {
     "data": {
      "application/vnd.plotly.v1+json": {
       "config": {
        "plotlyServerURL": "https://plot.ly"
       },
       "data": [
        {
         "hovertemplate": "WACI: 86.02<extra></extra>",
         "marker": {
          "color": "grey",
          "size": 15
         },
         "mode": "markers",
         "name": "Portfolio",
         "type": "scatter",
         "x": [
          0.5
         ],
         "y": [
          86.02
         ]
        }
       ],
       "layout": {
        "annotations": [
         {
          "arrowcolor": "black",
          "arrowhead": 2,
          "arrowsize": 1,
          "arrowwidth": 1,
          "ax": 100,
          "ay": 10,
          "font": {
           "color": "black",
           "size": 20
          },
          "showarrow": true,
          "text": "Portfolio",
          "x": 0.5,
          "xref": "paper",
          "y": 86.02,
          "yref": "y"
         },
         {
          "arrowcolor": "black",
          "arrowhead": 2,
          "arrowsize": 1,
          "arrowwidth": 1,
          "ax": 100,
          "ay": 10,
          "font": {
           "color": "black",
           "size": 20
          },
          "showarrow": true,
          "text": "Net Zero Emission Portfolio",
          "x": 0.5,
          "xref": "paper",
          "y": 0,
          "yref": "y"
         },
         {
          "font": {
           "color": "black",
           "size": 20
          },
          "showarrow": false,
          "text": "Paris Agreement Benchmark",
          "x": 0.5,
          "xref": "paper",
          "y": 45,
          "yref": "y"
         }
        ],
        "height": 800,
        "plot_bgcolor": "white",
        "shapes": [
         {
          "fillcolor": "darkgreen",
          "layer": "below",
          "line": {
           "width": 0
          },
          "opacity": 0.6,
          "type": "rect",
          "x0": 0,
          "x1": 1,
          "y0": 0,
          "y1": 50
         },
         {
          "fillcolor": "#7FFF00",
          "layer": "below",
          "line": {
           "width": 0
          },
          "opacity": 0.6,
          "type": "rect",
          "x0": 0,
          "x1": 1,
          "y0": 50,
          "y1": 100
         },
         {
          "fillcolor": "#FFFF00",
          "layer": "below",
          "line": {
           "width": 0
          },
          "opacity": 0.6,
          "type": "rect",
          "x0": 0,
          "x1": 1,
          "y0": 100,
          "y1": 150
         },
         {
          "fillcolor": "#FFBF00",
          "layer": "below",
          "line": {
           "width": 0
          },
          "opacity": 0.6,
          "type": "rect",
          "x0": 0,
          "x1": 1,
          "y0": 150,
          "y1": 200
         },
         {
          "fillcolor": "#FF8000",
          "layer": "below",
          "line": {
           "width": 0
          },
          "opacity": 0.6,
          "type": "rect",
          "x0": 0,
          "x1": 1,
          "y0": 200,
          "y1": 250
         },
         {
          "fillcolor": "#FF4000",
          "layer": "below",
          "line": {
           "width": 0
          },
          "opacity": 0.6,
          "type": "rect",
          "x0": 0,
          "x1": 1,
          "y0": 250,
          "y1": 300
         },
         {
          "line": {
           "color": "red",
           "dash": "dot",
           "width": 2
          },
          "type": "line",
          "x0": 0,
          "x1": 1,
          "y0": 37,
          "y1": 37
         }
        ],
        "showlegend": false,
        "template": {
         "data": {
          "bar": [
           {
            "error_x": {
             "color": "#2a3f5f"
            },
            "error_y": {
             "color": "#2a3f5f"
            },
            "marker": {
             "line": {
              "color": "#E5ECF6",
              "width": 0.5
             },
             "pattern": {
              "fillmode": "overlay",
              "size": 10,
              "solidity": 0.2
             }
            },
            "type": "bar"
           }
          ],
          "barpolar": [
           {
            "marker": {
             "line": {
              "color": "#E5ECF6",
              "width": 0.5
             },
             "pattern": {
              "fillmode": "overlay",
              "size": 10,
              "solidity": 0.2
             }
            },
            "type": "barpolar"
           }
          ],
          "carpet": [
           {
            "aaxis": {
             "endlinecolor": "#2a3f5f",
             "gridcolor": "white",
             "linecolor": "white",
             "minorgridcolor": "white",
             "startlinecolor": "#2a3f5f"
            },
            "baxis": {
             "endlinecolor": "#2a3f5f",
             "gridcolor": "white",
             "linecolor": "white",
             "minorgridcolor": "white",
             "startlinecolor": "#2a3f5f"
            },
            "type": "carpet"
           }
          ],
          "choropleth": [
           {
            "colorbar": {
             "outlinewidth": 0,
             "ticks": ""
            },
            "type": "choropleth"
           }
          ],
          "contour": [
           {
            "colorbar": {
             "outlinewidth": 0,
             "ticks": ""
            },
            "colorscale": [
             [
              0,
              "#0d0887"
             ],
             [
              0.1111111111111111,
              "#46039f"
             ],
             [
              0.2222222222222222,
              "#7201a8"
             ],
             [
              0.3333333333333333,
              "#9c179e"
             ],
             [
              0.4444444444444444,
              "#bd3786"
             ],
             [
              0.5555555555555556,
              "#d8576b"
             ],
             [
              0.6666666666666666,
              "#ed7953"
             ],
             [
              0.7777777777777778,
              "#fb9f3a"
             ],
             [
              0.8888888888888888,
              "#fdca26"
             ],
             [
              1,
              "#f0f921"
             ]
            ],
            "type": "contour"
           }
          ],
          "contourcarpet": [
           {
            "colorbar": {
             "outlinewidth": 0,
             "ticks": ""
            },
            "type": "contourcarpet"
           }
          ],
          "heatmap": [
           {
            "colorbar": {
             "outlinewidth": 0,
             "ticks": ""
            },
            "colorscale": [
             [
              0,
              "#0d0887"
             ],
             [
              0.1111111111111111,
              "#46039f"
             ],
             [
              0.2222222222222222,
              "#7201a8"
             ],
             [
              0.3333333333333333,
              "#9c179e"
             ],
             [
              0.4444444444444444,
              "#bd3786"
             ],
             [
              0.5555555555555556,
              "#d8576b"
             ],
             [
              0.6666666666666666,
              "#ed7953"
             ],
             [
              0.7777777777777778,
              "#fb9f3a"
             ],
             [
              0.8888888888888888,
              "#fdca26"
             ],
             [
              1,
              "#f0f921"
             ]
            ],
            "type": "heatmap"
           }
          ],
          "heatmapgl": [
           {
            "colorbar": {
             "outlinewidth": 0,
             "ticks": ""
            },
            "colorscale": [
             [
              0,
              "#0d0887"
             ],
             [
              0.1111111111111111,
              "#46039f"
             ],
             [
              0.2222222222222222,
              "#7201a8"
             ],
             [
              0.3333333333333333,
              "#9c179e"
             ],
             [
              0.4444444444444444,
              "#bd3786"
             ],
             [
              0.5555555555555556,
              "#d8576b"
             ],
             [
              0.6666666666666666,
              "#ed7953"
             ],
             [
              0.7777777777777778,
              "#fb9f3a"
             ],
             [
              0.8888888888888888,
              "#fdca26"
             ],
             [
              1,
              "#f0f921"
             ]
            ],
            "type": "heatmapgl"
           }
          ],
          "histogram": [
           {
            "marker": {
             "pattern": {
              "fillmode": "overlay",
              "size": 10,
              "solidity": 0.2
             }
            },
            "type": "histogram"
           }
          ],
          "histogram2d": [
           {
            "colorbar": {
             "outlinewidth": 0,
             "ticks": ""
            },
            "colorscale": [
             [
              0,
              "#0d0887"
             ],
             [
              0.1111111111111111,
              "#46039f"
             ],
             [
              0.2222222222222222,
              "#7201a8"
             ],
             [
              0.3333333333333333,
              "#9c179e"
             ],
             [
              0.4444444444444444,
              "#bd3786"
             ],
             [
              0.5555555555555556,
              "#d8576b"
             ],
             [
              0.6666666666666666,
              "#ed7953"
             ],
             [
              0.7777777777777778,
              "#fb9f3a"
             ],
             [
              0.8888888888888888,
              "#fdca26"
             ],
             [
              1,
              "#f0f921"
             ]
            ],
            "type": "histogram2d"
           }
          ],
          "histogram2dcontour": [
           {
            "colorbar": {
             "outlinewidth": 0,
             "ticks": ""
            },
            "colorscale": [
             [
              0,
              "#0d0887"
             ],
             [
              0.1111111111111111,
              "#46039f"
             ],
             [
              0.2222222222222222,
              "#7201a8"
             ],
             [
              0.3333333333333333,
              "#9c179e"
             ],
             [
              0.4444444444444444,
              "#bd3786"
             ],
             [
              0.5555555555555556,
              "#d8576b"
             ],
             [
              0.6666666666666666,
              "#ed7953"
             ],
             [
              0.7777777777777778,
              "#fb9f3a"
             ],
             [
              0.8888888888888888,
              "#fdca26"
             ],
             [
              1,
              "#f0f921"
             ]
            ],
            "type": "histogram2dcontour"
           }
          ],
          "mesh3d": [
           {
            "colorbar": {
             "outlinewidth": 0,
             "ticks": ""
            },
            "type": "mesh3d"
           }
          ],
          "parcoords": [
           {
            "line": {
             "colorbar": {
              "outlinewidth": 0,
              "ticks": ""
             }
            },
            "type": "parcoords"
           }
          ],
          "pie": [
           {
            "automargin": true,
            "type": "pie"
           }
          ],
          "scatter": [
           {
            "fillpattern": {
             "fillmode": "overlay",
             "size": 10,
             "solidity": 0.2
            },
            "type": "scatter"
           }
          ],
          "scatter3d": [
           {
            "line": {
             "colorbar": {
              "outlinewidth": 0,
              "ticks": ""
             }
            },
            "marker": {
             "colorbar": {
              "outlinewidth": 0,
              "ticks": ""
             }
            },
            "type": "scatter3d"
           }
          ],
          "scattercarpet": [
           {
            "marker": {
             "colorbar": {
              "outlinewidth": 0,
              "ticks": ""
             }
            },
            "type": "scattercarpet"
           }
          ],
          "scattergeo": [
           {
            "marker": {
             "colorbar": {
              "outlinewidth": 0,
              "ticks": ""
             }
            },
            "type": "scattergeo"
           }
          ],
          "scattergl": [
           {
            "marker": {
             "colorbar": {
              "outlinewidth": 0,
              "ticks": ""
             }
            },
            "type": "scattergl"
           }
          ],
          "scattermapbox": [
           {
            "marker": {
             "colorbar": {
              "outlinewidth": 0,
              "ticks": ""
             }
            },
            "type": "scattermapbox"
           }
          ],
          "scatterpolar": [
           {
            "marker": {
             "colorbar": {
              "outlinewidth": 0,
              "ticks": ""
             }
            },
            "type": "scatterpolar"
           }
          ],
          "scatterpolargl": [
           {
            "marker": {
             "colorbar": {
              "outlinewidth": 0,
              "ticks": ""
             }
            },
            "type": "scatterpolargl"
           }
          ],
          "scatterternary": [
           {
            "marker": {
             "colorbar": {
              "outlinewidth": 0,
              "ticks": ""
             }
            },
            "type": "scatterternary"
           }
          ],
          "surface": [
           {
            "colorbar": {
             "outlinewidth": 0,
             "ticks": ""
            },
            "colorscale": [
             [
              0,
              "#0d0887"
             ],
             [
              0.1111111111111111,
              "#46039f"
             ],
             [
              0.2222222222222222,
              "#7201a8"
             ],
             [
              0.3333333333333333,
              "#9c179e"
             ],
             [
              0.4444444444444444,
              "#bd3786"
             ],
             [
              0.5555555555555556,
              "#d8576b"
             ],
             [
              0.6666666666666666,
              "#ed7953"
             ],
             [
              0.7777777777777778,
              "#fb9f3a"
             ],
             [
              0.8888888888888888,
              "#fdca26"
             ],
             [
              1,
              "#f0f921"
             ]
            ],
            "type": "surface"
           }
          ],
          "table": [
           {
            "cells": {
             "fill": {
              "color": "#EBF0F8"
             },
             "line": {
              "color": "white"
             }
            },
            "header": {
             "fill": {
              "color": "#C8D4E3"
             },
             "line": {
              "color": "white"
             }
            },
            "type": "table"
           }
          ]
         },
         "layout": {
          "annotationdefaults": {
           "arrowcolor": "#2a3f5f",
           "arrowhead": 0,
           "arrowwidth": 1
          },
          "autotypenumbers": "strict",
          "coloraxis": {
           "colorbar": {
            "outlinewidth": 0,
            "ticks": ""
           }
          },
          "colorscale": {
           "diverging": [
            [
             0,
             "#8e0152"
            ],
            [
             0.1,
             "#c51b7d"
            ],
            [
             0.2,
             "#de77ae"
            ],
            [
             0.3,
             "#f1b6da"
            ],
            [
             0.4,
             "#fde0ef"
            ],
            [
             0.5,
             "#f7f7f7"
            ],
            [
             0.6,
             "#e6f5d0"
            ],
            [
             0.7,
             "#b8e186"
            ],
            [
             0.8,
             "#7fbc41"
            ],
            [
             0.9,
             "#4d9221"
            ],
            [
             1,
             "#276419"
            ]
           ],
           "sequential": [
            [
             0,
             "#0d0887"
            ],
            [
             0.1111111111111111,
             "#46039f"
            ],
            [
             0.2222222222222222,
             "#7201a8"
            ],
            [
             0.3333333333333333,
             "#9c179e"
            ],
            [
             0.4444444444444444,
             "#bd3786"
            ],
            [
             0.5555555555555556,
             "#d8576b"
            ],
            [
             0.6666666666666666,
             "#ed7953"
            ],
            [
             0.7777777777777778,
             "#fb9f3a"
            ],
            [
             0.8888888888888888,
             "#fdca26"
            ],
            [
             1,
             "#f0f921"
            ]
           ],
           "sequentialminus": [
            [
             0,
             "#0d0887"
            ],
            [
             0.1111111111111111,
             "#46039f"
            ],
            [
             0.2222222222222222,
             "#7201a8"
            ],
            [
             0.3333333333333333,
             "#9c179e"
            ],
            [
             0.4444444444444444,
             "#bd3786"
            ],
            [
             0.5555555555555556,
             "#d8576b"
            ],
            [
             0.6666666666666666,
             "#ed7953"
            ],
            [
             0.7777777777777778,
             "#fb9f3a"
            ],
            [
             0.8888888888888888,
             "#fdca26"
            ],
            [
             1,
             "#f0f921"
            ]
           ]
          },
          "colorway": [
           "#636efa",
           "#EF553B",
           "#00cc96",
           "#ab63fa",
           "#FFA15A",
           "#19d3f3",
           "#FF6692",
           "#B6E880",
           "#FF97FF",
           "#FECB52"
          ],
          "font": {
           "color": "#2a3f5f"
          },
          "geo": {
           "bgcolor": "white",
           "lakecolor": "white",
           "landcolor": "#E5ECF6",
           "showlakes": true,
           "showland": true,
           "subunitcolor": "white"
          },
          "hoverlabel": {
           "align": "left"
          },
          "hovermode": "closest",
          "mapbox": {
           "style": "light"
          },
          "paper_bgcolor": "white",
          "plot_bgcolor": "#E5ECF6",
          "polar": {
           "angularaxis": {
            "gridcolor": "white",
            "linecolor": "white",
            "ticks": ""
           },
           "bgcolor": "#E5ECF6",
           "radialaxis": {
            "gridcolor": "white",
            "linecolor": "white",
            "ticks": ""
           }
          },
          "scene": {
           "xaxis": {
            "backgroundcolor": "#E5ECF6",
            "gridcolor": "white",
            "gridwidth": 2,
            "linecolor": "white",
            "showbackground": true,
            "ticks": "",
            "zerolinecolor": "white"
           },
           "yaxis": {
            "backgroundcolor": "#E5ECF6",
            "gridcolor": "white",
            "gridwidth": 2,
            "linecolor": "white",
            "showbackground": true,
            "ticks": "",
            "zerolinecolor": "white"
           },
           "zaxis": {
            "backgroundcolor": "#E5ECF6",
            "gridcolor": "white",
            "gridwidth": 2,
            "linecolor": "white",
            "showbackground": true,
            "ticks": "",
            "zerolinecolor": "white"
           }
          },
          "shapedefaults": {
           "line": {
            "color": "#2a3f5f"
           }
          },
          "ternary": {
           "aaxis": {
            "gridcolor": "white",
            "linecolor": "white",
            "ticks": ""
           },
           "baxis": {
            "gridcolor": "white",
            "linecolor": "white",
            "ticks": ""
           },
           "bgcolor": "#E5ECF6",
           "caxis": {
            "gridcolor": "white",
            "linecolor": "white",
            "ticks": ""
           }
          },
          "title": {
           "x": 0.05
          },
          "xaxis": {
           "automargin": true,
           "gridcolor": "white",
           "linecolor": "white",
           "ticks": "",
           "title": {
            "standoff": 15
           },
           "zerolinecolor": "white",
           "zerolinewidth": 2
          },
          "yaxis": {
           "automargin": true,
           "gridcolor": "white",
           "linecolor": "white",
           "ticks": "",
           "title": {
            "standoff": 15
           },
           "zerolinecolor": "white",
           "zerolinewidth": 2
          }
         }
        },
        "title": {
         "text": "Weighted Average Carbon Intensity (WACI) Comparison"
        },
        "xaxis": {
         "showgrid": false,
         "showticklabels": false,
         "zeroline": false
        },
        "yaxis": {
         "range": [
          0,
          300
         ],
         "title": {
          "text": "Carbon Intensity (Tonnes of CO2 per $1M Revenue)"
         }
        }
       }
      }
     },
     "metadata": {},
     "output_type": "display_data"
    }
   ],
   "source": [
    "# Define the WACI thresholds for different levels (example values)\n",
    "thresholds = {\n",
    "    \"Portfolio\": waci_result,  # Current WACI result\n",
    "    \"Net Zero Emission Portfolio\": 0\n",
    "}\n",
    "\n",
    "# Define colors and levels for the background\n",
    "colors = ['darkgreen', '#7FFF00', '#FFFF00', '#FFBF00', '#FF8000', '#FF4000']\n",
    "levels = [0, 50, 100, 150, 200, 250, 300]  # Adjusted levels to match the number of colors\n",
    "\n",
    "# Create the figure\n",
    "fig = go.Figure()\n",
    "\n",
    "# Add background color segments\n",
    "for i in range(len(colors)):\n",
    "    fig.add_shape(\n",
    "        type=\"rect\",\n",
    "        x0=0, x1=1,\n",
    "        y0=levels[i], y1=levels[i+1],\n",
    "        fillcolor=colors[i],\n",
    "        opacity=0.6,\n",
    "        layer=\"below\",\n",
    "        line_width=0\n",
    "    )\n",
    "\n",
    "# Plot the WACI result\n",
    "fig.add_trace(go.Scatter(\n",
    "    x=[0.5],\n",
    "    y=[waci_result],\n",
    "    mode='markers',\n",
    "    marker=dict(size=15, color='grey'),\n",
    "    name='Portfolio',\n",
    "    hovertemplate=f'WACI: {waci_result}<extra></extra>'\n",
    "))\n",
    "\n",
    "# Add arrows and text labels\n",
    "for label, level in thresholds.items():\n",
    "    if level >= 0:  # Only add labels for non-negative levels\n",
    "        fig.add_annotation(\n",
    "            x=0.5,\n",
    "            y=level,\n",
    "            xref=\"paper\",\n",
    "            yref=\"y\",\n",
    "            text=label,\n",
    "            showarrow=True,\n",
    "            arrowhead=2,\n",
    "            arrowsize=1,\n",
    "            arrowwidth=1,\n",
    "            arrowcolor='black',\n",
    "            ax=100,\n",
    "            ay=10,\n",
    "            font=dict(size=20, color='black')  # Increased font size\n",
    "        )\n",
    "\n",
    "# Add a horizontal dotted line at 37\n",
    "fig.add_shape(\n",
    "    type=\"line\",\n",
    "    x0=0, x1=1,\n",
    "    y0=37, y1=37,\n",
    "    line=dict(\n",
    "        color=\"red\",\n",
    "        width=2,\n",
    "        dash=\"dot\",\n",
    "    )\n",
    ")\n",
    "\n",
    "# Add annotation for the dotted line\n",
    "fig.add_annotation(\n",
    "    x=0.5,\n",
    "    y=45,\n",
    "    xref=\"paper\",\n",
    "    yref=\"y\",\n",
    "    text=\"Paris Agreement Benchmark\",\n",
    "    showarrow=False,\n",
    "    font=dict(size=20, color='black')  # Increased font size\n",
    ")\n",
    "\n",
    "# Update layout\n",
    "fig.update_layout(\n",
    "    title='Weighted Average Carbon Intensity (WACI) Comparison',\n",
    "    xaxis=dict(showticklabels=False, showgrid=False, zeroline=False),\n",
    "    yaxis=dict(title='Carbon Intensity (Tonnes of CO2 per $1M Revenue)', range=[0, 300]),\n",
    "    showlegend=False,\n",
    "    plot_bgcolor='white',\n",
    "    height=800,\n",
    "  # Adjust height for better visibility\n",
    ")\n",
    "\n",
    "# Display the plot\n",
    "fig.show()"
   ]
  },
  {
   "cell_type": "markdown",
   "metadata": {},
   "source": [
    "## Mathematical Optimization \n",
    "\n",
    "#### Optimization Steps:\n",
    "1. **Bounds and Constraints**: Define bounds for weights (between 0 and 1) and constraints (weights sum to 1 and WACI constraint).\n",
    "2. **Optimization**: Use the `minimize` function to optimize the negative Sharpe ratio, subject to the defined constraints and bounds.\n",
    "3. **Result Evaluation**: Extract the optimized weights, calculate the portfolio return, volatility, Sharpe ratio, and WACI to ensure they meet the desired criteria.\n",
    "\n",
    "#### Function: `optimize_portfolio`\n",
    "This function performs the portfolio optimization using the Scipy `minimize` function with Sequential Least Squares Programming (SLSQP). It aims to find the optimal set of weights that maximizes the Sharpe ratio while adhering to the constraints on the sum of weights and the target WACI. The constraints and bounds are defined to ensure a feasible and efficient solution.\n",
    "\n",
    "#### 1. `calculate_waci(weights, ghg_emissions, revenue)`\n",
    "This function calculates the Weighted Average Carbon Intensity (WACI) of the portfolio. WACI is an important metric for assessing the environmental impact of the portfolio based on the carbon emissions of the companies and their revenues. Carbon intensity is the ratio of greenhouse gas emissions to revenue.\n",
    "\n",
    "#### 2. `negative_sharpe_ratio(weights, mean_returns, cov_matrix, risk_free_rate)`\n",
    "This function calculates the negative Sharpe ratio for the given portfolio weights. The Sharpe ratio measures the performance of the portfolio compared to a risk-free asset, after adjusting for its risk (volatility). Since the optimization function in Scipy minimizes the objective function, we use the negative Sharpe ratio to maximize the actual Sharpe ratio. \n",
    "\n",
    "#### 3. `check_sum(weights)`\n",
    "This function ensures that the sum of the portfolio weights equals 1, which is a necessary constraint for a valid portfolio. It serves as a constraint in the optimization process to make sure that the total allocation is 100%.\n",
    "\n",
    "#### 4. `waci_constraint(weights, ghg_emissions, revenue, target_waci)`\n",
    "This function enforces a constraint on the WACI of the portfolio. It ensures that the WACI does not exceed a specified target value. This is crucial for aligning the portfolio with sustainability goals by limiting its carbon footprint.\n",
    "\n",
    "These functions collectively ensure that the optimized portfolio is not only high-performing in terms of returns but also aligned with environmental sustainability goals. The use of the negative Sharpe ratio maximizes the return-to-risk ratio, while the constraints ensure realistic and responsible investment decisions."
   ]
  },
  {
   "cell_type": "code",
   "execution_count": 54,
   "metadata": {},
   "outputs": [
    {
     "data": {
      "text/html": [
       "<div>\n",
       "<style scoped>\n",
       "    .dataframe tbody tr th:only-of-type {\n",
       "        vertical-align: middle;\n",
       "    }\n",
       "\n",
       "    .dataframe tbody tr th {\n",
       "        vertical-align: top;\n",
       "    }\n",
       "\n",
       "    .dataframe thead th {\n",
       "        text-align: right;\n",
       "    }\n",
       "</style>\n",
       "<table border=\"1\" class=\"dataframe\">\n",
       "  <thead>\n",
       "    <tr style=\"text-align: right;\">\n",
       "      <th></th>\n",
       "      <th>Returns</th>\n",
       "      <th>Volatility</th>\n",
       "      <th>Sharpe Ratio</th>\n",
       "      <th>WACI</th>\n",
       "      <th>MKS.L</th>\n",
       "      <th>AZN.L</th>\n",
       "      <th>STAN.L</th>\n",
       "      <th>SHEL.L</th>\n",
       "      <th>RKT.L</th>\n",
       "      <th>BATS.L</th>\n",
       "      <th>HSBA.L</th>\n",
       "      <th>HWDN.L</th>\n",
       "      <th>UTG.L</th>\n",
       "      <th>ANTO.L</th>\n",
       "    </tr>\n",
       "  </thead>\n",
       "  <tbody>\n",
       "    <tr>\n",
       "      <th>0</th>\n",
       "      <td>0.096282</td>\n",
       "      <td>0.194011</td>\n",
       "      <td>0.274632</td>\n",
       "      <td>37.0</td>\n",
       "      <td>0.0</td>\n",
       "      <td>0.037499</td>\n",
       "      <td>0.0</td>\n",
       "      <td>1.170141e-16</td>\n",
       "      <td>0.384114</td>\n",
       "      <td>0.227159</td>\n",
       "      <td>0.0</td>\n",
       "      <td>0.308647</td>\n",
       "      <td>2.614082e-18</td>\n",
       "      <td>0.04258</td>\n",
       "    </tr>\n",
       "  </tbody>\n",
       "</table>\n",
       "</div>"
      ],
      "text/plain": [
       "    Returns  Volatility  Sharpe Ratio  WACI  MKS.L     AZN.L  STAN.L  \\\n",
       "0  0.096282    0.194011      0.274632  37.0    0.0  0.037499     0.0   \n",
       "\n",
       "         SHEL.L     RKT.L    BATS.L  HSBA.L    HWDN.L         UTG.L   ANTO.L  \n",
       "0  1.170141e-16  0.384114  0.227159     0.0  0.308647  2.614082e-18  0.04258  "
      ]
     },
     "execution_count": 54,
     "metadata": {},
     "output_type": "execute_result"
    }
   ],
   "source": [
    "# Transform the DataFrame into the required dictionary format\n",
    "company_data = {}\n",
    "for symbol in latest_data.index:\n",
    "    company_data[symbol] = {\n",
    "        'GHG_Emissions': latest_data.loc[symbol, 'CO2 Equivalent Emissions Total'],\n",
    "        'Revenue': latest_data.loc[symbol, 'Revenue from Business Activities - Total']\n",
    "    }\n",
    "\n",
    "# Function to calculate WACI\n",
    "def calculate_waci(weights, ghg_emissions, revenue):\n",
    "    ci = ghg_emissions / (revenue / 1_000_000)  # Carbon intensity per 1M USD\n",
    "    weighted_ci = weights * ci\n",
    "    waci = np.sum(weighted_ci)\n",
    "    return waci\n",
    "\n",
    "# Define the optimization function\n",
    "def negative_sharpe_ratio(weights, mean_returns, cov_matrix, risk_free_rate):\n",
    "    returns = np.sum(mean_returns * weights) * 252\n",
    "    volatility = np.sqrt(np.dot(weights.T, np.dot(cov_matrix * 252, weights)))\n",
    "    sharpe_ratio = (returns - risk_free_rate) / volatility\n",
    "    return -sharpe_ratio\n",
    "\n",
    "def check_sum(weights):\n",
    "    return np.sum(weights) - 1\n",
    "\n",
    "def waci_constraint(weights, ghg_emissions, revenue, target_waci):\n",
    "    return target_waci - calculate_waci(weights, ghg_emissions, revenue)\n",
    "\n",
    "# Function to perform optimization on given portfolios\n",
    "def optimize_portfolio(initial_weights, mean_returns, cov_matrix, ghg_emissions, revenue, risk_free_rate, target_waci):\n",
    "    bounds = tuple((0, 1) for _ in range(len(initial_weights)))\n",
    "    constraints = (\n",
    "        {'type': 'eq', 'fun': check_sum},\n",
    "        {'type': 'ineq', 'fun': lambda weights: waci_constraint(weights, ghg_emissions, revenue, target_waci)}\n",
    "    )\n",
    "    result = minimize(\n",
    "        negative_sharpe_ratio,\n",
    "        initial_weights,\n",
    "        args=(mean_returns, cov_matrix, risk_free_rate),\n",
    "        method='SLSQP',\n",
    "        bounds=bounds,\n",
    "        constraints=constraints\n",
    "    )\n",
    "    return result\n",
    "\n",
    "# Assuming mean_returns, cov_matrix, and log_return are defined\n",
    "# Define risk-free rate and target WACI\n",
    "risk_free_rate = 0.043  # Example risk-free rate\n",
    "target_waci = 37  # Target WACI\n",
    "\n",
    "optimized_results = []\n",
    "\n",
    "for idx, row in optimal_portfolio_df.iterrows():\n",
    "    # Extract symbols and weights from the row\n",
    "    selected_symbols = row.index[4:-1]  # Symbols start from the 5th column onward\n",
    "    initial_weights = row[selected_symbols].values\n",
    "    ghg_emissions = np.array([company_data[symbol]['GHG_Emissions'] for symbol in selected_symbols])\n",
    "    revenue = np.array([company_data[symbol]['Revenue'] for symbol in selected_symbols])\n",
    "\n",
    "    # Assume mean_returns and cov_matrix are previously calculated for these symbols\n",
    "    selected_log_return = log_return[selected_symbols]\n",
    "    \n",
    "    result = optimize_portfolio(initial_weights, selected_log_return.mean(), selected_log_return.cov(), ghg_emissions, revenue, risk_free_rate, target_waci)\n",
    "\n",
    "    optimized_weights = result.x\n",
    "    optimized_return = np.sum(selected_log_return.mean() * optimized_weights) * 252\n",
    "    optimized_volatility = np.sqrt(np.dot(optimized_weights.T, np.dot(selected_log_return.cov() * 252, optimized_weights)))\n",
    "    optimized_sharpe = (optimized_return - risk_free_rate) / optimized_volatility\n",
    "    optimized_waci = calculate_waci(optimized_weights, ghg_emissions, revenue)\n",
    "    \n",
    "    # Ensure weights sum to one\n",
    "    weight_sum = np.sum(optimized_weights)\n",
    "    assert np.isclose(weight_sum, 1), f\"Weights do not sum to 1, sum = {weight_sum}\"\n",
    "\n",
    "    optimized_results.append({\n",
    "        'Returns': optimized_return,\n",
    "        'Volatility': optimized_volatility,\n",
    "        'Sharpe Ratio': optimized_sharpe,\n",
    "        'WACI': optimized_waci,\n",
    "        **{symbol: weight for symbol, weight in zip(selected_symbols, optimized_weights)}\n",
    "    })\n",
    "\n",
    "# Convert the optimized results to a DataFrame\n",
    "optimized_df = pd.DataFrame(optimized_results)\n",
    "\n",
    "# Display the optimized portfolio metrics\n",
    "optimized_df"
   ]
  },
  {
   "cell_type": "code",
   "execution_count": 55,
   "metadata": {},
   "outputs": [
    {
     "data": {
      "application/vnd.plotly.v1+json": {
       "config": {
        "plotlyServerURL": "https://plot.ly"
       },
       "data": [
        {
         "hovertemplate": "WACI: 36.99999999914648<extra></extra>",
         "marker": {
          "color": "grey",
          "size": 15
         },
         "mode": "markers",
         "name": "Optimised Portfolio",
         "type": "scatter",
         "x": [
          0.5
         ],
         "y": [
          36.99999999914648
         ]
        }
       ],
       "layout": {
        "annotations": [
         {
          "arrowcolor": "black",
          "arrowhead": 2,
          "arrowsize": 1,
          "arrowwidth": 1,
          "ax": 100,
          "ay": 20,
          "font": {
           "color": "black",
           "size": 20
          },
          "showarrow": true,
          "text": "Optimised Portfolio",
          "x": 0.5,
          "xref": "paper",
          "y": 36.99999999914648,
          "yref": "y"
         },
         {
          "arrowcolor": "black",
          "arrowhead": 2,
          "arrowsize": 1,
          "arrowwidth": 1,
          "ax": 100,
          "ay": 20,
          "font": {
           "color": "black",
           "size": 20
          },
          "showarrow": true,
          "text": "Net Zero Emission Portfolio",
          "x": 0.5,
          "xref": "paper",
          "y": 0,
          "yref": "y"
         },
         {
          "font": {
           "color": "black",
           "size": 20
          },
          "showarrow": false,
          "text": "Paris Agreement Benchmark",
          "x": 0.5,
          "xref": "paper",
          "y": 45,
          "yref": "y"
         }
        ],
        "height": 800,
        "plot_bgcolor": "white",
        "shapes": [
         {
          "fillcolor": "darkgreen",
          "layer": "below",
          "line": {
           "width": 0
          },
          "opacity": 0.6,
          "type": "rect",
          "x0": 0,
          "x1": 1,
          "y0": 0,
          "y1": 50
         },
         {
          "fillcolor": "#7FFF00",
          "layer": "below",
          "line": {
           "width": 0
          },
          "opacity": 0.6,
          "type": "rect",
          "x0": 0,
          "x1": 1,
          "y0": 50,
          "y1": 100
         },
         {
          "fillcolor": "#FFFF00",
          "layer": "below",
          "line": {
           "width": 0
          },
          "opacity": 0.6,
          "type": "rect",
          "x0": 0,
          "x1": 1,
          "y0": 100,
          "y1": 150
         },
         {
          "fillcolor": "#FFBF00",
          "layer": "below",
          "line": {
           "width": 0
          },
          "opacity": 0.6,
          "type": "rect",
          "x0": 0,
          "x1": 1,
          "y0": 150,
          "y1": 200
         },
         {
          "fillcolor": "#FF8000",
          "layer": "below",
          "line": {
           "width": 0
          },
          "opacity": 0.6,
          "type": "rect",
          "x0": 0,
          "x1": 1,
          "y0": 200,
          "y1": 250
         },
         {
          "fillcolor": "#FF4000",
          "layer": "below",
          "line": {
           "width": 0
          },
          "opacity": 0.6,
          "type": "rect",
          "x0": 0,
          "x1": 1,
          "y0": 250,
          "y1": 300
         },
         {
          "line": {
           "color": "red",
           "dash": "dot",
           "width": 2
          },
          "type": "line",
          "x0": 0,
          "x1": 1,
          "y0": 37,
          "y1": 37
         }
        ],
        "showlegend": false,
        "template": {
         "data": {
          "bar": [
           {
            "error_x": {
             "color": "#2a3f5f"
            },
            "error_y": {
             "color": "#2a3f5f"
            },
            "marker": {
             "line": {
              "color": "#E5ECF6",
              "width": 0.5
             },
             "pattern": {
              "fillmode": "overlay",
              "size": 10,
              "solidity": 0.2
             }
            },
            "type": "bar"
           }
          ],
          "barpolar": [
           {
            "marker": {
             "line": {
              "color": "#E5ECF6",
              "width": 0.5
             },
             "pattern": {
              "fillmode": "overlay",
              "size": 10,
              "solidity": 0.2
             }
            },
            "type": "barpolar"
           }
          ],
          "carpet": [
           {
            "aaxis": {
             "endlinecolor": "#2a3f5f",
             "gridcolor": "white",
             "linecolor": "white",
             "minorgridcolor": "white",
             "startlinecolor": "#2a3f5f"
            },
            "baxis": {
             "endlinecolor": "#2a3f5f",
             "gridcolor": "white",
             "linecolor": "white",
             "minorgridcolor": "white",
             "startlinecolor": "#2a3f5f"
            },
            "type": "carpet"
           }
          ],
          "choropleth": [
           {
            "colorbar": {
             "outlinewidth": 0,
             "ticks": ""
            },
            "type": "choropleth"
           }
          ],
          "contour": [
           {
            "colorbar": {
             "outlinewidth": 0,
             "ticks": ""
            },
            "colorscale": [
             [
              0,
              "#0d0887"
             ],
             [
              0.1111111111111111,
              "#46039f"
             ],
             [
              0.2222222222222222,
              "#7201a8"
             ],
             [
              0.3333333333333333,
              "#9c179e"
             ],
             [
              0.4444444444444444,
              "#bd3786"
             ],
             [
              0.5555555555555556,
              "#d8576b"
             ],
             [
              0.6666666666666666,
              "#ed7953"
             ],
             [
              0.7777777777777778,
              "#fb9f3a"
             ],
             [
              0.8888888888888888,
              "#fdca26"
             ],
             [
              1,
              "#f0f921"
             ]
            ],
            "type": "contour"
           }
          ],
          "contourcarpet": [
           {
            "colorbar": {
             "outlinewidth": 0,
             "ticks": ""
            },
            "type": "contourcarpet"
           }
          ],
          "heatmap": [
           {
            "colorbar": {
             "outlinewidth": 0,
             "ticks": ""
            },
            "colorscale": [
             [
              0,
              "#0d0887"
             ],
             [
              0.1111111111111111,
              "#46039f"
             ],
             [
              0.2222222222222222,
              "#7201a8"
             ],
             [
              0.3333333333333333,
              "#9c179e"
             ],
             [
              0.4444444444444444,
              "#bd3786"
             ],
             [
              0.5555555555555556,
              "#d8576b"
             ],
             [
              0.6666666666666666,
              "#ed7953"
             ],
             [
              0.7777777777777778,
              "#fb9f3a"
             ],
             [
              0.8888888888888888,
              "#fdca26"
             ],
             [
              1,
              "#f0f921"
             ]
            ],
            "type": "heatmap"
           }
          ],
          "heatmapgl": [
           {
            "colorbar": {
             "outlinewidth": 0,
             "ticks": ""
            },
            "colorscale": [
             [
              0,
              "#0d0887"
             ],
             [
              0.1111111111111111,
              "#46039f"
             ],
             [
              0.2222222222222222,
              "#7201a8"
             ],
             [
              0.3333333333333333,
              "#9c179e"
             ],
             [
              0.4444444444444444,
              "#bd3786"
             ],
             [
              0.5555555555555556,
              "#d8576b"
             ],
             [
              0.6666666666666666,
              "#ed7953"
             ],
             [
              0.7777777777777778,
              "#fb9f3a"
             ],
             [
              0.8888888888888888,
              "#fdca26"
             ],
             [
              1,
              "#f0f921"
             ]
            ],
            "type": "heatmapgl"
           }
          ],
          "histogram": [
           {
            "marker": {
             "pattern": {
              "fillmode": "overlay",
              "size": 10,
              "solidity": 0.2
             }
            },
            "type": "histogram"
           }
          ],
          "histogram2d": [
           {
            "colorbar": {
             "outlinewidth": 0,
             "ticks": ""
            },
            "colorscale": [
             [
              0,
              "#0d0887"
             ],
             [
              0.1111111111111111,
              "#46039f"
             ],
             [
              0.2222222222222222,
              "#7201a8"
             ],
             [
              0.3333333333333333,
              "#9c179e"
             ],
             [
              0.4444444444444444,
              "#bd3786"
             ],
             [
              0.5555555555555556,
              "#d8576b"
             ],
             [
              0.6666666666666666,
              "#ed7953"
             ],
             [
              0.7777777777777778,
              "#fb9f3a"
             ],
             [
              0.8888888888888888,
              "#fdca26"
             ],
             [
              1,
              "#f0f921"
             ]
            ],
            "type": "histogram2d"
           }
          ],
          "histogram2dcontour": [
           {
            "colorbar": {
             "outlinewidth": 0,
             "ticks": ""
            },
            "colorscale": [
             [
              0,
              "#0d0887"
             ],
             [
              0.1111111111111111,
              "#46039f"
             ],
             [
              0.2222222222222222,
              "#7201a8"
             ],
             [
              0.3333333333333333,
              "#9c179e"
             ],
             [
              0.4444444444444444,
              "#bd3786"
             ],
             [
              0.5555555555555556,
              "#d8576b"
             ],
             [
              0.6666666666666666,
              "#ed7953"
             ],
             [
              0.7777777777777778,
              "#fb9f3a"
             ],
             [
              0.8888888888888888,
              "#fdca26"
             ],
             [
              1,
              "#f0f921"
             ]
            ],
            "type": "histogram2dcontour"
           }
          ],
          "mesh3d": [
           {
            "colorbar": {
             "outlinewidth": 0,
             "ticks": ""
            },
            "type": "mesh3d"
           }
          ],
          "parcoords": [
           {
            "line": {
             "colorbar": {
              "outlinewidth": 0,
              "ticks": ""
             }
            },
            "type": "parcoords"
           }
          ],
          "pie": [
           {
            "automargin": true,
            "type": "pie"
           }
          ],
          "scatter": [
           {
            "fillpattern": {
             "fillmode": "overlay",
             "size": 10,
             "solidity": 0.2
            },
            "type": "scatter"
           }
          ],
          "scatter3d": [
           {
            "line": {
             "colorbar": {
              "outlinewidth": 0,
              "ticks": ""
             }
            },
            "marker": {
             "colorbar": {
              "outlinewidth": 0,
              "ticks": ""
             }
            },
            "type": "scatter3d"
           }
          ],
          "scattercarpet": [
           {
            "marker": {
             "colorbar": {
              "outlinewidth": 0,
              "ticks": ""
             }
            },
            "type": "scattercarpet"
           }
          ],
          "scattergeo": [
           {
            "marker": {
             "colorbar": {
              "outlinewidth": 0,
              "ticks": ""
             }
            },
            "type": "scattergeo"
           }
          ],
          "scattergl": [
           {
            "marker": {
             "colorbar": {
              "outlinewidth": 0,
              "ticks": ""
             }
            },
            "type": "scattergl"
           }
          ],
          "scattermapbox": [
           {
            "marker": {
             "colorbar": {
              "outlinewidth": 0,
              "ticks": ""
             }
            },
            "type": "scattermapbox"
           }
          ],
          "scatterpolar": [
           {
            "marker": {
             "colorbar": {
              "outlinewidth": 0,
              "ticks": ""
             }
            },
            "type": "scatterpolar"
           }
          ],
          "scatterpolargl": [
           {
            "marker": {
             "colorbar": {
              "outlinewidth": 0,
              "ticks": ""
             }
            },
            "type": "scatterpolargl"
           }
          ],
          "scatterternary": [
           {
            "marker": {
             "colorbar": {
              "outlinewidth": 0,
              "ticks": ""
             }
            },
            "type": "scatterternary"
           }
          ],
          "surface": [
           {
            "colorbar": {
             "outlinewidth": 0,
             "ticks": ""
            },
            "colorscale": [
             [
              0,
              "#0d0887"
             ],
             [
              0.1111111111111111,
              "#46039f"
             ],
             [
              0.2222222222222222,
              "#7201a8"
             ],
             [
              0.3333333333333333,
              "#9c179e"
             ],
             [
              0.4444444444444444,
              "#bd3786"
             ],
             [
              0.5555555555555556,
              "#d8576b"
             ],
             [
              0.6666666666666666,
              "#ed7953"
             ],
             [
              0.7777777777777778,
              "#fb9f3a"
             ],
             [
              0.8888888888888888,
              "#fdca26"
             ],
             [
              1,
              "#f0f921"
             ]
            ],
            "type": "surface"
           }
          ],
          "table": [
           {
            "cells": {
             "fill": {
              "color": "#EBF0F8"
             },
             "line": {
              "color": "white"
             }
            },
            "header": {
             "fill": {
              "color": "#C8D4E3"
             },
             "line": {
              "color": "white"
             }
            },
            "type": "table"
           }
          ]
         },
         "layout": {
          "annotationdefaults": {
           "arrowcolor": "#2a3f5f",
           "arrowhead": 0,
           "arrowwidth": 1
          },
          "autotypenumbers": "strict",
          "coloraxis": {
           "colorbar": {
            "outlinewidth": 0,
            "ticks": ""
           }
          },
          "colorscale": {
           "diverging": [
            [
             0,
             "#8e0152"
            ],
            [
             0.1,
             "#c51b7d"
            ],
            [
             0.2,
             "#de77ae"
            ],
            [
             0.3,
             "#f1b6da"
            ],
            [
             0.4,
             "#fde0ef"
            ],
            [
             0.5,
             "#f7f7f7"
            ],
            [
             0.6,
             "#e6f5d0"
            ],
            [
             0.7,
             "#b8e186"
            ],
            [
             0.8,
             "#7fbc41"
            ],
            [
             0.9,
             "#4d9221"
            ],
            [
             1,
             "#276419"
            ]
           ],
           "sequential": [
            [
             0,
             "#0d0887"
            ],
            [
             0.1111111111111111,
             "#46039f"
            ],
            [
             0.2222222222222222,
             "#7201a8"
            ],
            [
             0.3333333333333333,
             "#9c179e"
            ],
            [
             0.4444444444444444,
             "#bd3786"
            ],
            [
             0.5555555555555556,
             "#d8576b"
            ],
            [
             0.6666666666666666,
             "#ed7953"
            ],
            [
             0.7777777777777778,
             "#fb9f3a"
            ],
            [
             0.8888888888888888,
             "#fdca26"
            ],
            [
             1,
             "#f0f921"
            ]
           ],
           "sequentialminus": [
            [
             0,
             "#0d0887"
            ],
            [
             0.1111111111111111,
             "#46039f"
            ],
            [
             0.2222222222222222,
             "#7201a8"
            ],
            [
             0.3333333333333333,
             "#9c179e"
            ],
            [
             0.4444444444444444,
             "#bd3786"
            ],
            [
             0.5555555555555556,
             "#d8576b"
            ],
            [
             0.6666666666666666,
             "#ed7953"
            ],
            [
             0.7777777777777778,
             "#fb9f3a"
            ],
            [
             0.8888888888888888,
             "#fdca26"
            ],
            [
             1,
             "#f0f921"
            ]
           ]
          },
          "colorway": [
           "#636efa",
           "#EF553B",
           "#00cc96",
           "#ab63fa",
           "#FFA15A",
           "#19d3f3",
           "#FF6692",
           "#B6E880",
           "#FF97FF",
           "#FECB52"
          ],
          "font": {
           "color": "#2a3f5f"
          },
          "geo": {
           "bgcolor": "white",
           "lakecolor": "white",
           "landcolor": "#E5ECF6",
           "showlakes": true,
           "showland": true,
           "subunitcolor": "white"
          },
          "hoverlabel": {
           "align": "left"
          },
          "hovermode": "closest",
          "mapbox": {
           "style": "light"
          },
          "paper_bgcolor": "white",
          "plot_bgcolor": "#E5ECF6",
          "polar": {
           "angularaxis": {
            "gridcolor": "white",
            "linecolor": "white",
            "ticks": ""
           },
           "bgcolor": "#E5ECF6",
           "radialaxis": {
            "gridcolor": "white",
            "linecolor": "white",
            "ticks": ""
           }
          },
          "scene": {
           "xaxis": {
            "backgroundcolor": "#E5ECF6",
            "gridcolor": "white",
            "gridwidth": 2,
            "linecolor": "white",
            "showbackground": true,
            "ticks": "",
            "zerolinecolor": "white"
           },
           "yaxis": {
            "backgroundcolor": "#E5ECF6",
            "gridcolor": "white",
            "gridwidth": 2,
            "linecolor": "white",
            "showbackground": true,
            "ticks": "",
            "zerolinecolor": "white"
           },
           "zaxis": {
            "backgroundcolor": "#E5ECF6",
            "gridcolor": "white",
            "gridwidth": 2,
            "linecolor": "white",
            "showbackground": true,
            "ticks": "",
            "zerolinecolor": "white"
           }
          },
          "shapedefaults": {
           "line": {
            "color": "#2a3f5f"
           }
          },
          "ternary": {
           "aaxis": {
            "gridcolor": "white",
            "linecolor": "white",
            "ticks": ""
           },
           "baxis": {
            "gridcolor": "white",
            "linecolor": "white",
            "ticks": ""
           },
           "bgcolor": "#E5ECF6",
           "caxis": {
            "gridcolor": "white",
            "linecolor": "white",
            "ticks": ""
           }
          },
          "title": {
           "x": 0.05
          },
          "xaxis": {
           "automargin": true,
           "gridcolor": "white",
           "linecolor": "white",
           "ticks": "",
           "title": {
            "standoff": 15
           },
           "zerolinecolor": "white",
           "zerolinewidth": 2
          },
          "yaxis": {
           "automargin": true,
           "gridcolor": "white",
           "linecolor": "white",
           "ticks": "",
           "title": {
            "standoff": 15
           },
           "zerolinecolor": "white",
           "zerolinewidth": 2
          }
         }
        },
        "title": {
         "text": "Weighted Average Carbon Intensity (WACI) Comparison"
        },
        "xaxis": {
         "showgrid": false,
         "showticklabels": false,
         "zeroline": false
        },
        "yaxis": {
         "range": [
          0,
          300
         ],
         "title": {
          "text": "Carbon Intensity (Tonnes of CO2 per $1M Revenue)"
         }
        }
       }
      }
     },
     "metadata": {},
     "output_type": "display_data"
    }
   ],
   "source": [
    "optimised_waci = optimized_df['WACI'].values[0]\n",
    "\n",
    "# Define the WACI thresholds for different levels (example values)\n",
    "thresholds = {\n",
    "    \"Optimised Portfolio\": optimised_waci,  # Current WACI result\n",
    "    \"Net Zero Emission Portfolio\": 0\n",
    "}\n",
    "\n",
    "# Define colors and levels for the background\n",
    "colors = ['darkgreen', '#7FFF00', '#FFFF00', '#FFBF00', '#FF8000', '#FF4000']\n",
    "levels = [0, 50, 100, 150, 200, 250, 300]  # Adjusted levels to match the number of colors\n",
    "\n",
    "# Create the figure\n",
    "fig = go.Figure()\n",
    "\n",
    "# Add background color segments\n",
    "for i in range(len(colors)):\n",
    "    fig.add_shape(\n",
    "        type=\"rect\",\n",
    "        x0=0, x1=1,\n",
    "        y0=levels[i], y1=levels[i+1],\n",
    "        fillcolor=colors[i],\n",
    "        opacity=0.6,\n",
    "        layer=\"below\",\n",
    "        line_width=0\n",
    "    )\n",
    "\n",
    "# Plot the WACI result\n",
    "fig.add_trace(go.Scatter(\n",
    "    x=[0.5],\n",
    "    y=[optimised_waci],\n",
    "    mode='markers',\n",
    "    marker=dict(size=15, color='grey'),\n",
    "    name='Optimised Portfolio',\n",
    "    hovertemplate=f'WACI: {optimised_waci}<extra></extra>'\n",
    "))\n",
    "\n",
    "# Add arrows and text labels\n",
    "for label, level in thresholds.items():\n",
    "    if level >= 0:  # Only add labels for non-negative levels\n",
    "        fig.add_annotation(\n",
    "            x=0.5,\n",
    "            y=level,\n",
    "            xref=\"paper\",\n",
    "            yref=\"y\",\n",
    "            text=label,\n",
    "            showarrow=True,\n",
    "            arrowhead=2,\n",
    "            arrowsize=1,\n",
    "            arrowwidth=1,\n",
    "            arrowcolor='black',\n",
    "            ax=100,\n",
    "            ay=20,\n",
    "            font=dict(size=20, color='black')  # Increased font size\n",
    "        )\n",
    "\n",
    "# Add a horizontal dotted line at 37\n",
    "fig.add_shape(\n",
    "    type=\"line\",\n",
    "    x0=0, x1=1,\n",
    "    y0=37, y1=37,\n",
    "    line=dict(\n",
    "        color=\"red\",\n",
    "        width=2,\n",
    "        dash=\"dot\",\n",
    "    )\n",
    ")\n",
    "\n",
    "# Add annotation for the dotted line\n",
    "fig.add_annotation(\n",
    "    x=0.5,\n",
    "    y=45,\n",
    "    xref=\"paper\",\n",
    "    yref=\"y\",\n",
    "    text=\"Paris Agreement Benchmark\",\n",
    "    showarrow=False,\n",
    "    font=dict(size=20, color='black')  # Increased font size\n",
    ")\n",
    "\n",
    "# Update layout\n",
    "fig.update_layout(\n",
    "    title='Weighted Average Carbon Intensity (WACI) Comparison',\n",
    "    xaxis=dict(showticklabels=False, showgrid=False, zeroline=False),\n",
    "    yaxis=dict(title='Carbon Intensity (Tonnes of CO2 per $1M Revenue)', range=[0, 300]),\n",
    "    showlegend=False,\n",
    "    plot_bgcolor='white',\n",
    "    height=800,\n",
    "  # Adjust height for better visibility\n",
    ")\n",
    "\n",
    "# Display the plot\n",
    "fig.show()"
   ]
  },
  {
   "cell_type": "code",
   "execution_count": 56,
   "metadata": {},
   "outputs": [
    {
     "data": {
      "application/vnd.plotly.v1+json": {
       "config": {
        "plotlyServerURL": "https://plot.ly"
       },
       "data": [
        {
         "direction": "clockwise",
         "domain": {
          "x": [
           0,
           0.63
          ],
          "y": [
           0,
           1
          ]
         },
         "hoverinfo": "label+percent+value",
         "labels": [
          "AZN.L",
          "SHEL.L",
          "RKT.L",
          "BATS.L",
          "HWDN.L",
          "UTG.L",
          "ANTO.L"
         ],
         "marker": {
          "line": {
           "color": "#000000",
           "width": 2
          }
         },
         "pull": [
          0.1,
          0,
          0,
          0,
          0
         ],
         "rotation": 45,
         "showlegend": true,
         "textfont": {
          "size": 12
         },
         "textinfo": "label+percent",
         "type": "pie",
         "values": [
          0.03749942835567509,
          1.1701409027825131e-16,
          0.3841142605294743,
          0.22715907524581505,
          0.3086469583929662,
          2.614081734913377e-18,
          0.04258027747606952
         ]
        },
        {
         "cells": {
          "align": "center",
          "fill": {
           "color": "lavender"
          },
          "font": {
           "size": 13
          },
          "height": 50,
          "values": [
           [
            "Returns",
            "Volatility",
            "Sharpe Ratio",
            "WACI"
           ],
           [
            "9.63%",
            "19.40%",
            "0.2746",
            "37.0000"
           ]
          ]
         },
         "domain": {
          "x": [
           0.73,
           1
          ],
          "y": [
           0,
           1
          ]
         },
         "header": {
          "align": "center",
          "fill": {
           "color": "paleturquoise"
          },
          "font": {
           "size": 16
          },
          "values": [
           "Metric",
           "Value"
          ]
         },
         "type": "table"
        }
       ],
       "layout": {
        "legend": {
         "x": -0.3,
         "y": 0.5
        },
        "template": {
         "data": {
          "bar": [
           {
            "error_x": {
             "color": "#2a3f5f"
            },
            "error_y": {
             "color": "#2a3f5f"
            },
            "marker": {
             "line": {
              "color": "white",
              "width": 0.5
             },
             "pattern": {
              "fillmode": "overlay",
              "size": 10,
              "solidity": 0.2
             }
            },
            "type": "bar"
           }
          ],
          "barpolar": [
           {
            "marker": {
             "line": {
              "color": "white",
              "width": 0.5
             },
             "pattern": {
              "fillmode": "overlay",
              "size": 10,
              "solidity": 0.2
             }
            },
            "type": "barpolar"
           }
          ],
          "carpet": [
           {
            "aaxis": {
             "endlinecolor": "#2a3f5f",
             "gridcolor": "#C8D4E3",
             "linecolor": "#C8D4E3",
             "minorgridcolor": "#C8D4E3",
             "startlinecolor": "#2a3f5f"
            },
            "baxis": {
             "endlinecolor": "#2a3f5f",
             "gridcolor": "#C8D4E3",
             "linecolor": "#C8D4E3",
             "minorgridcolor": "#C8D4E3",
             "startlinecolor": "#2a3f5f"
            },
            "type": "carpet"
           }
          ],
          "choropleth": [
           {
            "colorbar": {
             "outlinewidth": 0,
             "ticks": ""
            },
            "type": "choropleth"
           }
          ],
          "contour": [
           {
            "colorbar": {
             "outlinewidth": 0,
             "ticks": ""
            },
            "colorscale": [
             [
              0,
              "#0d0887"
             ],
             [
              0.1111111111111111,
              "#46039f"
             ],
             [
              0.2222222222222222,
              "#7201a8"
             ],
             [
              0.3333333333333333,
              "#9c179e"
             ],
             [
              0.4444444444444444,
              "#bd3786"
             ],
             [
              0.5555555555555556,
              "#d8576b"
             ],
             [
              0.6666666666666666,
              "#ed7953"
             ],
             [
              0.7777777777777778,
              "#fb9f3a"
             ],
             [
              0.8888888888888888,
              "#fdca26"
             ],
             [
              1,
              "#f0f921"
             ]
            ],
            "type": "contour"
           }
          ],
          "contourcarpet": [
           {
            "colorbar": {
             "outlinewidth": 0,
             "ticks": ""
            },
            "type": "contourcarpet"
           }
          ],
          "heatmap": [
           {
            "colorbar": {
             "outlinewidth": 0,
             "ticks": ""
            },
            "colorscale": [
             [
              0,
              "#0d0887"
             ],
             [
              0.1111111111111111,
              "#46039f"
             ],
             [
              0.2222222222222222,
              "#7201a8"
             ],
             [
              0.3333333333333333,
              "#9c179e"
             ],
             [
              0.4444444444444444,
              "#bd3786"
             ],
             [
              0.5555555555555556,
              "#d8576b"
             ],
             [
              0.6666666666666666,
              "#ed7953"
             ],
             [
              0.7777777777777778,
              "#fb9f3a"
             ],
             [
              0.8888888888888888,
              "#fdca26"
             ],
             [
              1,
              "#f0f921"
             ]
            ],
            "type": "heatmap"
           }
          ],
          "heatmapgl": [
           {
            "colorbar": {
             "outlinewidth": 0,
             "ticks": ""
            },
            "colorscale": [
             [
              0,
              "#0d0887"
             ],
             [
              0.1111111111111111,
              "#46039f"
             ],
             [
              0.2222222222222222,
              "#7201a8"
             ],
             [
              0.3333333333333333,
              "#9c179e"
             ],
             [
              0.4444444444444444,
              "#bd3786"
             ],
             [
              0.5555555555555556,
              "#d8576b"
             ],
             [
              0.6666666666666666,
              "#ed7953"
             ],
             [
              0.7777777777777778,
              "#fb9f3a"
             ],
             [
              0.8888888888888888,
              "#fdca26"
             ],
             [
              1,
              "#f0f921"
             ]
            ],
            "type": "heatmapgl"
           }
          ],
          "histogram": [
           {
            "marker": {
             "pattern": {
              "fillmode": "overlay",
              "size": 10,
              "solidity": 0.2
             }
            },
            "type": "histogram"
           }
          ],
          "histogram2d": [
           {
            "colorbar": {
             "outlinewidth": 0,
             "ticks": ""
            },
            "colorscale": [
             [
              0,
              "#0d0887"
             ],
             [
              0.1111111111111111,
              "#46039f"
             ],
             [
              0.2222222222222222,
              "#7201a8"
             ],
             [
              0.3333333333333333,
              "#9c179e"
             ],
             [
              0.4444444444444444,
              "#bd3786"
             ],
             [
              0.5555555555555556,
              "#d8576b"
             ],
             [
              0.6666666666666666,
              "#ed7953"
             ],
             [
              0.7777777777777778,
              "#fb9f3a"
             ],
             [
              0.8888888888888888,
              "#fdca26"
             ],
             [
              1,
              "#f0f921"
             ]
            ],
            "type": "histogram2d"
           }
          ],
          "histogram2dcontour": [
           {
            "colorbar": {
             "outlinewidth": 0,
             "ticks": ""
            },
            "colorscale": [
             [
              0,
              "#0d0887"
             ],
             [
              0.1111111111111111,
              "#46039f"
             ],
             [
              0.2222222222222222,
              "#7201a8"
             ],
             [
              0.3333333333333333,
              "#9c179e"
             ],
             [
              0.4444444444444444,
              "#bd3786"
             ],
             [
              0.5555555555555556,
              "#d8576b"
             ],
             [
              0.6666666666666666,
              "#ed7953"
             ],
             [
              0.7777777777777778,
              "#fb9f3a"
             ],
             [
              0.8888888888888888,
              "#fdca26"
             ],
             [
              1,
              "#f0f921"
             ]
            ],
            "type": "histogram2dcontour"
           }
          ],
          "mesh3d": [
           {
            "colorbar": {
             "outlinewidth": 0,
             "ticks": ""
            },
            "type": "mesh3d"
           }
          ],
          "parcoords": [
           {
            "line": {
             "colorbar": {
              "outlinewidth": 0,
              "ticks": ""
             }
            },
            "type": "parcoords"
           }
          ],
          "pie": [
           {
            "automargin": true,
            "type": "pie"
           }
          ],
          "scatter": [
           {
            "fillpattern": {
             "fillmode": "overlay",
             "size": 10,
             "solidity": 0.2
            },
            "type": "scatter"
           }
          ],
          "scatter3d": [
           {
            "line": {
             "colorbar": {
              "outlinewidth": 0,
              "ticks": ""
             }
            },
            "marker": {
             "colorbar": {
              "outlinewidth": 0,
              "ticks": ""
             }
            },
            "type": "scatter3d"
           }
          ],
          "scattercarpet": [
           {
            "marker": {
             "colorbar": {
              "outlinewidth": 0,
              "ticks": ""
             }
            },
            "type": "scattercarpet"
           }
          ],
          "scattergeo": [
           {
            "marker": {
             "colorbar": {
              "outlinewidth": 0,
              "ticks": ""
             }
            },
            "type": "scattergeo"
           }
          ],
          "scattergl": [
           {
            "marker": {
             "colorbar": {
              "outlinewidth": 0,
              "ticks": ""
             }
            },
            "type": "scattergl"
           }
          ],
          "scattermapbox": [
           {
            "marker": {
             "colorbar": {
              "outlinewidth": 0,
              "ticks": ""
             }
            },
            "type": "scattermapbox"
           }
          ],
          "scatterpolar": [
           {
            "marker": {
             "colorbar": {
              "outlinewidth": 0,
              "ticks": ""
             }
            },
            "type": "scatterpolar"
           }
          ],
          "scatterpolargl": [
           {
            "marker": {
             "colorbar": {
              "outlinewidth": 0,
              "ticks": ""
             }
            },
            "type": "scatterpolargl"
           }
          ],
          "scatterternary": [
           {
            "marker": {
             "colorbar": {
              "outlinewidth": 0,
              "ticks": ""
             }
            },
            "type": "scatterternary"
           }
          ],
          "surface": [
           {
            "colorbar": {
             "outlinewidth": 0,
             "ticks": ""
            },
            "colorscale": [
             [
              0,
              "#0d0887"
             ],
             [
              0.1111111111111111,
              "#46039f"
             ],
             [
              0.2222222222222222,
              "#7201a8"
             ],
             [
              0.3333333333333333,
              "#9c179e"
             ],
             [
              0.4444444444444444,
              "#bd3786"
             ],
             [
              0.5555555555555556,
              "#d8576b"
             ],
             [
              0.6666666666666666,
              "#ed7953"
             ],
             [
              0.7777777777777778,
              "#fb9f3a"
             ],
             [
              0.8888888888888888,
              "#fdca26"
             ],
             [
              1,
              "#f0f921"
             ]
            ],
            "type": "surface"
           }
          ],
          "table": [
           {
            "cells": {
             "fill": {
              "color": "#EBF0F8"
             },
             "line": {
              "color": "white"
             }
            },
            "header": {
             "fill": {
              "color": "#C8D4E3"
             },
             "line": {
              "color": "white"
             }
            },
            "type": "table"
           }
          ]
         },
         "layout": {
          "annotationdefaults": {
           "arrowcolor": "#2a3f5f",
           "arrowhead": 0,
           "arrowwidth": 1
          },
          "autotypenumbers": "strict",
          "coloraxis": {
           "colorbar": {
            "outlinewidth": 0,
            "ticks": ""
           }
          },
          "colorscale": {
           "diverging": [
            [
             0,
             "#8e0152"
            ],
            [
             0.1,
             "#c51b7d"
            ],
            [
             0.2,
             "#de77ae"
            ],
            [
             0.3,
             "#f1b6da"
            ],
            [
             0.4,
             "#fde0ef"
            ],
            [
             0.5,
             "#f7f7f7"
            ],
            [
             0.6,
             "#e6f5d0"
            ],
            [
             0.7,
             "#b8e186"
            ],
            [
             0.8,
             "#7fbc41"
            ],
            [
             0.9,
             "#4d9221"
            ],
            [
             1,
             "#276419"
            ]
           ],
           "sequential": [
            [
             0,
             "#0d0887"
            ],
            [
             0.1111111111111111,
             "#46039f"
            ],
            [
             0.2222222222222222,
             "#7201a8"
            ],
            [
             0.3333333333333333,
             "#9c179e"
            ],
            [
             0.4444444444444444,
             "#bd3786"
            ],
            [
             0.5555555555555556,
             "#d8576b"
            ],
            [
             0.6666666666666666,
             "#ed7953"
            ],
            [
             0.7777777777777778,
             "#fb9f3a"
            ],
            [
             0.8888888888888888,
             "#fdca26"
            ],
            [
             1,
             "#f0f921"
            ]
           ],
           "sequentialminus": [
            [
             0,
             "#0d0887"
            ],
            [
             0.1111111111111111,
             "#46039f"
            ],
            [
             0.2222222222222222,
             "#7201a8"
            ],
            [
             0.3333333333333333,
             "#9c179e"
            ],
            [
             0.4444444444444444,
             "#bd3786"
            ],
            [
             0.5555555555555556,
             "#d8576b"
            ],
            [
             0.6666666666666666,
             "#ed7953"
            ],
            [
             0.7777777777777778,
             "#fb9f3a"
            ],
            [
             0.8888888888888888,
             "#fdca26"
            ],
            [
             1,
             "#f0f921"
            ]
           ]
          },
          "colorway": [
           "#636efa",
           "#EF553B",
           "#00cc96",
           "#ab63fa",
           "#FFA15A",
           "#19d3f3",
           "#FF6692",
           "#B6E880",
           "#FF97FF",
           "#FECB52"
          ],
          "font": {
           "color": "#2a3f5f"
          },
          "geo": {
           "bgcolor": "white",
           "lakecolor": "white",
           "landcolor": "white",
           "showlakes": true,
           "showland": true,
           "subunitcolor": "#C8D4E3"
          },
          "hoverlabel": {
           "align": "left"
          },
          "hovermode": "closest",
          "mapbox": {
           "style": "light"
          },
          "paper_bgcolor": "white",
          "plot_bgcolor": "white",
          "polar": {
           "angularaxis": {
            "gridcolor": "#EBF0F8",
            "linecolor": "#EBF0F8",
            "ticks": ""
           },
           "bgcolor": "white",
           "radialaxis": {
            "gridcolor": "#EBF0F8",
            "linecolor": "#EBF0F8",
            "ticks": ""
           }
          },
          "scene": {
           "xaxis": {
            "backgroundcolor": "white",
            "gridcolor": "#DFE8F3",
            "gridwidth": 2,
            "linecolor": "#EBF0F8",
            "showbackground": true,
            "ticks": "",
            "zerolinecolor": "#EBF0F8"
           },
           "yaxis": {
            "backgroundcolor": "white",
            "gridcolor": "#DFE8F3",
            "gridwidth": 2,
            "linecolor": "#EBF0F8",
            "showbackground": true,
            "ticks": "",
            "zerolinecolor": "#EBF0F8"
           },
           "zaxis": {
            "backgroundcolor": "white",
            "gridcolor": "#DFE8F3",
            "gridwidth": 2,
            "linecolor": "#EBF0F8",
            "showbackground": true,
            "ticks": "",
            "zerolinecolor": "#EBF0F8"
           }
          },
          "shapedefaults": {
           "line": {
            "color": "#2a3f5f"
           }
          },
          "ternary": {
           "aaxis": {
            "gridcolor": "#DFE8F3",
            "linecolor": "#A2B1C6",
            "ticks": ""
           },
           "baxis": {
            "gridcolor": "#DFE8F3",
            "linecolor": "#A2B1C6",
            "ticks": ""
           },
           "bgcolor": "white",
           "caxis": {
            "gridcolor": "#DFE8F3",
            "linecolor": "#A2B1C6",
            "ticks": ""
           }
          },
          "title": {
           "x": 0.05
          },
          "xaxis": {
           "automargin": true,
           "gridcolor": "#EBF0F8",
           "linecolor": "#EBF0F8",
           "ticks": "",
           "title": {
            "standoff": 15
           },
           "zerolinecolor": "#EBF0F8",
           "zerolinewidth": 2
          },
          "yaxis": {
           "automargin": true,
           "gridcolor": "#EBF0F8",
           "linecolor": "#EBF0F8",
           "ticks": "",
           "title": {
            "standoff": 15
           },
           "zerolinecolor": "#EBF0F8",
           "zerolinewidth": 2
          }
         }
        },
        "title": {
         "text": "Optimized Portfolio Analysis"
        }
       }
      }
     },
     "metadata": {},
     "output_type": "display_data"
    }
   ],
   "source": [
    "# Extract the asset names and their weights\n",
    "assets = optimized_df.columns[4:]\n",
    "weights = optimized_df.iloc[0, 4:].values\n",
    "\n",
    "# Filter out assets with zero weights\n",
    "non_zero_weights = [(asset, weight) for asset, weight in zip(assets, weights) if weight > 0]\n",
    "non_zero_assets, non_zero_weights = zip(*non_zero_weights)\n",
    "\n",
    "# Extract portfolio metrics\n",
    "metrics = {\n",
    "    'Returns': optimized_df['Returns'].values[0],\n",
    "    'Volatility': optimized_df['Volatility'].values[0],\n",
    "    'Sharpe Ratio': optimized_df['Sharpe Ratio'].values[0],\n",
    "    'WACI': optimized_df['WACI'].values[0]\n",
    "}\n",
    "\n",
    "# Create subplots: 1 row, 2 columns\n",
    "fig = make_subplots(\n",
    "    rows=1, cols=2,\n",
    "    column_widths=[0.7, 0.3],\n",
    "    specs=[[{\"type\": \"pie\"}, {\"type\": \"table\"}]]\n",
    ")\n",
    "\n",
    "# Add pie chart for asset weights\n",
    "fig.add_trace(go.Pie(\n",
    "    labels=non_zero_assets,\n",
    "    values=non_zero_weights,\n",
    "    textinfo='label+percent',\n",
    "    hoverinfo='label+percent+value'\n",
    "), row=1, col=1)\n",
    "\n",
    "# Move the legend to the left\n",
    "fig.update_traces(marker=dict(line=dict(color='#000000', width=2)), \n",
    "                  textfont_size=12, pull=[0.1, 0, 0, 0, 0], \n",
    "                  rotation=45, direction='clockwise', \n",
    "                  showlegend=True)\n",
    "fig.update_layout(\n",
    "    title_text='Optimized Portfolio Analysis',\n",
    "    template='plotly_white',\n",
    "    legend=dict(x=-0.3, y=0.5)  # Move legend to the left\n",
    ")\n",
    "\n",
    "# Add table for portfolio metrics\n",
    "fig.add_trace(go.Table(\n",
    "    header=dict(values=['Metric', 'Value'],\n",
    "                fill_color='paleturquoise',\n",
    "                align='center',\n",
    "                font=dict(size=16)),\n",
    "    cells=dict(values=[list(metrics.keys()), \n",
    "                       [f'{v:.2%}' if i in [0, 1] else f'{v:.4f}' for i, v in enumerate(metrics.values())]],\n",
    "               fill_color='lavender',\n",
    "               align='center',\n",
    "               font=dict(size=13),\n",
    "               height=50))\n",
    ", row=1, col=2)\n",
    "\n",
    "# Update layout\n",
    "fig.update_layout(\n",
    "    title_text='Optimized Portfolio Analysis',\n",
    "    template='plotly_white'\n",
    ")\n",
    "\n",
    "# Show the plot\n",
    "fig.show()"
   ]
  },
  {
   "cell_type": "markdown",
   "metadata": {},
   "source": [
    "# Fetching FTSE 100 Details"
   ]
  },
  {
   "cell_type": "code",
   "execution_count": 57,
   "metadata": {},
   "outputs": [],
   "source": [
    "ftse_df = pd.read_csv('FTSE_100.csv')\n",
    "ftse_df.dropna(inplace=True)"
   ]
  },
  {
   "cell_type": "code",
   "execution_count": 58,
   "metadata": {},
   "outputs": [],
   "source": [
    "# Retrieve data for the list of tickers\n",
    "ftse_waci_df = rd.get_history(\n",
    "    universe=ftse_df['RIC'].tolist(),\n",
    "    fields=[\n",
    "        'TR.CO2EmissionTotal',\n",
    "        'TR.F.TOTREVENUE'\n",
    "    ],\n",
    ")"
   ]
  },
  {
   "cell_type": "code",
   "execution_count": 59,
   "metadata": {},
   "outputs": [],
   "source": [
    "# Using the CO2 emissions and total revenue data to calculate the WACI for the optimised portfolio\n",
    "# Extract the latest non-null values for CO2 emissions and revenue for each ticker\n",
    "latest_data = ftse_waci_df.apply(lambda col: col.dropna().iloc[-1] if col.dropna().size > 0 else np.nan, axis=0)\n",
    "\n",
    "# Convert the Series to a DataFrame\n",
    "latest_data = latest_data.unstack()\n",
    "\n",
    "#reset the index and name the new column as RIC\n",
    "latest_data = latest_data.reset_index()\n",
    "latest_data.columns = ['RIC', 'CO2 Equivalent Emissions Total', 'Revenue from Business Activities - Total']"
   ]
  },
  {
   "cell_type": "code",
   "execution_count": 60,
   "metadata": {},
   "outputs": [],
   "source": [
    "ftse_final_df = pd.merge(ftse_df, latest_data, on='RIC', how='left')"
   ]
  },
  {
   "cell_type": "code",
   "execution_count": 61,
   "metadata": {},
   "outputs": [
    {
     "name": "stdout",
     "output_type": "stream",
     "text": [
      "The Weighted Average Carbon Intensity (WACI) is: 84.49\n"
     ]
    }
   ],
   "source": [
    "# Normalize the weights to sum to 1\n",
    "ftse_final_df['Weight'] = ftse_final_df['Weight %'] / ftse_final_df['Weight %'].sum()\n",
    "\n",
    "# Set the index to RIC for easier access\n",
    "latest_data.set_index('RIC', inplace=True)\n",
    "\n",
    "# Combine the latest data with the weights from the ftse_final_df\n",
    "portfolio_data = []\n",
    "for _, row in ftse_final_df.iterrows():\n",
    "    ticker = row['RIC']\n",
    "    weight = row['Weight']\n",
    "    ghg_emissions = latest_data.loc[ticker, 'CO2 Equivalent Emissions Total']\n",
    "    revenue = latest_data.loc[ticker, 'Revenue from Business Activities - Total']\n",
    "    portfolio_data.append({\n",
    "        \"weight\": weight,\n",
    "        \"GHG_Emissions\": ghg_emissions,\n",
    "        \"Revenue\": revenue\n",
    "    })\n",
    "\n",
    "# Function to calculate WACI\n",
    "def calculate_waci(portfolio):\n",
    "    numerator = 0\n",
    "    denominator = 0\n",
    "\n",
    "    for entity in portfolio:\n",
    "        if entity['GHG_Emissions'] and entity['Revenue']:\n",
    "            ci = entity['GHG_Emissions'] / (entity['Revenue']/1000000)  # per 1M USD\n",
    "            weighted_ci = entity['weight'] * ci\n",
    "            numerator += weighted_ci\n",
    "            denominator += entity['weight']\n",
    "\n",
    "    if denominator != 0:\n",
    "        waci = numerator / denominator\n",
    "        return waci\n",
    "    else:\n",
    "        return \"Error: Denominator is zero, cannot divide by zero\"\n",
    "\n",
    "# Calculate WACI\n",
    "ftse_waci_result = calculate_waci(portfolio_data).round(2)\n",
    "print(f\"The Weighted Average Carbon Intensity (WACI) is: {ftse_waci_result}\")"
   ]
  },
  {
   "cell_type": "code",
   "execution_count": 62,
   "metadata": {},
   "outputs": [],
   "source": [
    "ftse_sharpe = ek.get_data(instruments=\".FTSE\", fields=[\"TR.SharpeRatioWkly3Y\"])[0]\n",
    "\n",
    "ftse_returns = ek.get_data(instruments=\".FTSE\", fields=[\"TR.IndexTotalReturnYTD\", \"TR.Volatility260D\"])[0]\n",
    "\n",
    "#rename the column Index Total Return YTD to Returns\n",
    "ftse_returns.rename(columns={'Index Total Return YTD': 'Returns'}, inplace=True)\n",
    "ftse_returns['Returns'] = ftse_returns['Returns'] / 100  # Convert percentage to decimal\n",
    "\n",
    "#rename the column Volatility - 260 days to Volatility\n",
    "ftse_returns.rename(columns={'Volatility - 260 days': 'Volatility'}, inplace=True)\n",
    "ftse_returns['Volatility'] = ftse_returns['Volatility'] / 100\n",
    "\n",
    "# add ftse_sharpe to the ftse_returns\n",
    "ftse_returns['Sharpe Ratio'] = ftse_sharpe['Weekly Sharpe Ratio - 3 Year']\n",
    "ftse_returns['WACI'] = ftse_waci_result"
   ]
  },
  {
   "cell_type": "markdown",
   "metadata": {},
   "source": [
    "# FTSE100 VS Optimised Portfolio"
   ]
  },
  {
   "cell_type": "code",
   "execution_count": 63,
   "metadata": {},
   "outputs": [
    {
     "data": {
      "application/vnd.plotly.v1+json": {
       "config": {
        "plotlyServerURL": "https://plot.ly"
       },
       "data": [
        {
         "cells": {
          "align": "center",
          "fill": {
           "color": "lavender"
          },
          "font": {
           "size": 13
          },
          "height": 50,
          "values": [
           [
            "Returns",
            "Volatility",
            "Sharpe Ratio",
            "WACI"
           ],
           [
            "9.63%",
            "19.40%",
            "0.2746",
            "37.0000"
           ]
          ]
         },
         "domain": {
          "x": [
           0,
           0.45
          ],
          "y": [
           0,
           1
          ]
         },
         "header": {
          "align": "center",
          "fill": {
           "color": "paleturquoise"
          },
          "font": {
           "size": 16
          },
          "values": [
           "Metric",
           "Optimized Portfolio Value"
          ]
         },
         "type": "table"
        },
        {
         "cells": {
          "align": "center",
          "fill": {
           "color": "lavender"
          },
          "font": {
           "size": 13
          },
          "height": 50,
          "values": [
           [
            "Returns",
            "Volatility",
            "Sharpe Ratio",
            "WACI"
           ],
           [
            "8.46%",
            "9.87%",
            "0.1055",
            "84.4900"
           ]
          ]
         },
         "domain": {
          "x": [
           0.55,
           1
          ],
          "y": [
           0,
           1
          ]
         },
         "header": {
          "align": "center",
          "fill": {
           "color": "paleturquoise"
          },
          "font": {
           "size": 16
          },
          "values": [
           "Metric",
           "FTSE Index Value"
          ]
         },
         "type": "table"
        }
       ],
       "layout": {
        "template": {
         "data": {
          "bar": [
           {
            "error_x": {
             "color": "#2a3f5f"
            },
            "error_y": {
             "color": "#2a3f5f"
            },
            "marker": {
             "line": {
              "color": "white",
              "width": 0.5
             },
             "pattern": {
              "fillmode": "overlay",
              "size": 10,
              "solidity": 0.2
             }
            },
            "type": "bar"
           }
          ],
          "barpolar": [
           {
            "marker": {
             "line": {
              "color": "white",
              "width": 0.5
             },
             "pattern": {
              "fillmode": "overlay",
              "size": 10,
              "solidity": 0.2
             }
            },
            "type": "barpolar"
           }
          ],
          "carpet": [
           {
            "aaxis": {
             "endlinecolor": "#2a3f5f",
             "gridcolor": "#C8D4E3",
             "linecolor": "#C8D4E3",
             "minorgridcolor": "#C8D4E3",
             "startlinecolor": "#2a3f5f"
            },
            "baxis": {
             "endlinecolor": "#2a3f5f",
             "gridcolor": "#C8D4E3",
             "linecolor": "#C8D4E3",
             "minorgridcolor": "#C8D4E3",
             "startlinecolor": "#2a3f5f"
            },
            "type": "carpet"
           }
          ],
          "choropleth": [
           {
            "colorbar": {
             "outlinewidth": 0,
             "ticks": ""
            },
            "type": "choropleth"
           }
          ],
          "contour": [
           {
            "colorbar": {
             "outlinewidth": 0,
             "ticks": ""
            },
            "colorscale": [
             [
              0,
              "#0d0887"
             ],
             [
              0.1111111111111111,
              "#46039f"
             ],
             [
              0.2222222222222222,
              "#7201a8"
             ],
             [
              0.3333333333333333,
              "#9c179e"
             ],
             [
              0.4444444444444444,
              "#bd3786"
             ],
             [
              0.5555555555555556,
              "#d8576b"
             ],
             [
              0.6666666666666666,
              "#ed7953"
             ],
             [
              0.7777777777777778,
              "#fb9f3a"
             ],
             [
              0.8888888888888888,
              "#fdca26"
             ],
             [
              1,
              "#f0f921"
             ]
            ],
            "type": "contour"
           }
          ],
          "contourcarpet": [
           {
            "colorbar": {
             "outlinewidth": 0,
             "ticks": ""
            },
            "type": "contourcarpet"
           }
          ],
          "heatmap": [
           {
            "colorbar": {
             "outlinewidth": 0,
             "ticks": ""
            },
            "colorscale": [
             [
              0,
              "#0d0887"
             ],
             [
              0.1111111111111111,
              "#46039f"
             ],
             [
              0.2222222222222222,
              "#7201a8"
             ],
             [
              0.3333333333333333,
              "#9c179e"
             ],
             [
              0.4444444444444444,
              "#bd3786"
             ],
             [
              0.5555555555555556,
              "#d8576b"
             ],
             [
              0.6666666666666666,
              "#ed7953"
             ],
             [
              0.7777777777777778,
              "#fb9f3a"
             ],
             [
              0.8888888888888888,
              "#fdca26"
             ],
             [
              1,
              "#f0f921"
             ]
            ],
            "type": "heatmap"
           }
          ],
          "heatmapgl": [
           {
            "colorbar": {
             "outlinewidth": 0,
             "ticks": ""
            },
            "colorscale": [
             [
              0,
              "#0d0887"
             ],
             [
              0.1111111111111111,
              "#46039f"
             ],
             [
              0.2222222222222222,
              "#7201a8"
             ],
             [
              0.3333333333333333,
              "#9c179e"
             ],
             [
              0.4444444444444444,
              "#bd3786"
             ],
             [
              0.5555555555555556,
              "#d8576b"
             ],
             [
              0.6666666666666666,
              "#ed7953"
             ],
             [
              0.7777777777777778,
              "#fb9f3a"
             ],
             [
              0.8888888888888888,
              "#fdca26"
             ],
             [
              1,
              "#f0f921"
             ]
            ],
            "type": "heatmapgl"
           }
          ],
          "histogram": [
           {
            "marker": {
             "pattern": {
              "fillmode": "overlay",
              "size": 10,
              "solidity": 0.2
             }
            },
            "type": "histogram"
           }
          ],
          "histogram2d": [
           {
            "colorbar": {
             "outlinewidth": 0,
             "ticks": ""
            },
            "colorscale": [
             [
              0,
              "#0d0887"
             ],
             [
              0.1111111111111111,
              "#46039f"
             ],
             [
              0.2222222222222222,
              "#7201a8"
             ],
             [
              0.3333333333333333,
              "#9c179e"
             ],
             [
              0.4444444444444444,
              "#bd3786"
             ],
             [
              0.5555555555555556,
              "#d8576b"
             ],
             [
              0.6666666666666666,
              "#ed7953"
             ],
             [
              0.7777777777777778,
              "#fb9f3a"
             ],
             [
              0.8888888888888888,
              "#fdca26"
             ],
             [
              1,
              "#f0f921"
             ]
            ],
            "type": "histogram2d"
           }
          ],
          "histogram2dcontour": [
           {
            "colorbar": {
             "outlinewidth": 0,
             "ticks": ""
            },
            "colorscale": [
             [
              0,
              "#0d0887"
             ],
             [
              0.1111111111111111,
              "#46039f"
             ],
             [
              0.2222222222222222,
              "#7201a8"
             ],
             [
              0.3333333333333333,
              "#9c179e"
             ],
             [
              0.4444444444444444,
              "#bd3786"
             ],
             [
              0.5555555555555556,
              "#d8576b"
             ],
             [
              0.6666666666666666,
              "#ed7953"
             ],
             [
              0.7777777777777778,
              "#fb9f3a"
             ],
             [
              0.8888888888888888,
              "#fdca26"
             ],
             [
              1,
              "#f0f921"
             ]
            ],
            "type": "histogram2dcontour"
           }
          ],
          "mesh3d": [
           {
            "colorbar": {
             "outlinewidth": 0,
             "ticks": ""
            },
            "type": "mesh3d"
           }
          ],
          "parcoords": [
           {
            "line": {
             "colorbar": {
              "outlinewidth": 0,
              "ticks": ""
             }
            },
            "type": "parcoords"
           }
          ],
          "pie": [
           {
            "automargin": true,
            "type": "pie"
           }
          ],
          "scatter": [
           {
            "fillpattern": {
             "fillmode": "overlay",
             "size": 10,
             "solidity": 0.2
            },
            "type": "scatter"
           }
          ],
          "scatter3d": [
           {
            "line": {
             "colorbar": {
              "outlinewidth": 0,
              "ticks": ""
             }
            },
            "marker": {
             "colorbar": {
              "outlinewidth": 0,
              "ticks": ""
             }
            },
            "type": "scatter3d"
           }
          ],
          "scattercarpet": [
           {
            "marker": {
             "colorbar": {
              "outlinewidth": 0,
              "ticks": ""
             }
            },
            "type": "scattercarpet"
           }
          ],
          "scattergeo": [
           {
            "marker": {
             "colorbar": {
              "outlinewidth": 0,
              "ticks": ""
             }
            },
            "type": "scattergeo"
           }
          ],
          "scattergl": [
           {
            "marker": {
             "colorbar": {
              "outlinewidth": 0,
              "ticks": ""
             }
            },
            "type": "scattergl"
           }
          ],
          "scattermapbox": [
           {
            "marker": {
             "colorbar": {
              "outlinewidth": 0,
              "ticks": ""
             }
            },
            "type": "scattermapbox"
           }
          ],
          "scatterpolar": [
           {
            "marker": {
             "colorbar": {
              "outlinewidth": 0,
              "ticks": ""
             }
            },
            "type": "scatterpolar"
           }
          ],
          "scatterpolargl": [
           {
            "marker": {
             "colorbar": {
              "outlinewidth": 0,
              "ticks": ""
             }
            },
            "type": "scatterpolargl"
           }
          ],
          "scatterternary": [
           {
            "marker": {
             "colorbar": {
              "outlinewidth": 0,
              "ticks": ""
             }
            },
            "type": "scatterternary"
           }
          ],
          "surface": [
           {
            "colorbar": {
             "outlinewidth": 0,
             "ticks": ""
            },
            "colorscale": [
             [
              0,
              "#0d0887"
             ],
             [
              0.1111111111111111,
              "#46039f"
             ],
             [
              0.2222222222222222,
              "#7201a8"
             ],
             [
              0.3333333333333333,
              "#9c179e"
             ],
             [
              0.4444444444444444,
              "#bd3786"
             ],
             [
              0.5555555555555556,
              "#d8576b"
             ],
             [
              0.6666666666666666,
              "#ed7953"
             ],
             [
              0.7777777777777778,
              "#fb9f3a"
             ],
             [
              0.8888888888888888,
              "#fdca26"
             ],
             [
              1,
              "#f0f921"
             ]
            ],
            "type": "surface"
           }
          ],
          "table": [
           {
            "cells": {
             "fill": {
              "color": "#EBF0F8"
             },
             "line": {
              "color": "white"
             }
            },
            "header": {
             "fill": {
              "color": "#C8D4E3"
             },
             "line": {
              "color": "white"
             }
            },
            "type": "table"
           }
          ]
         },
         "layout": {
          "annotationdefaults": {
           "arrowcolor": "#2a3f5f",
           "arrowhead": 0,
           "arrowwidth": 1
          },
          "autotypenumbers": "strict",
          "coloraxis": {
           "colorbar": {
            "outlinewidth": 0,
            "ticks": ""
           }
          },
          "colorscale": {
           "diverging": [
            [
             0,
             "#8e0152"
            ],
            [
             0.1,
             "#c51b7d"
            ],
            [
             0.2,
             "#de77ae"
            ],
            [
             0.3,
             "#f1b6da"
            ],
            [
             0.4,
             "#fde0ef"
            ],
            [
             0.5,
             "#f7f7f7"
            ],
            [
             0.6,
             "#e6f5d0"
            ],
            [
             0.7,
             "#b8e186"
            ],
            [
             0.8,
             "#7fbc41"
            ],
            [
             0.9,
             "#4d9221"
            ],
            [
             1,
             "#276419"
            ]
           ],
           "sequential": [
            [
             0,
             "#0d0887"
            ],
            [
             0.1111111111111111,
             "#46039f"
            ],
            [
             0.2222222222222222,
             "#7201a8"
            ],
            [
             0.3333333333333333,
             "#9c179e"
            ],
            [
             0.4444444444444444,
             "#bd3786"
            ],
            [
             0.5555555555555556,
             "#d8576b"
            ],
            [
             0.6666666666666666,
             "#ed7953"
            ],
            [
             0.7777777777777778,
             "#fb9f3a"
            ],
            [
             0.8888888888888888,
             "#fdca26"
            ],
            [
             1,
             "#f0f921"
            ]
           ],
           "sequentialminus": [
            [
             0,
             "#0d0887"
            ],
            [
             0.1111111111111111,
             "#46039f"
            ],
            [
             0.2222222222222222,
             "#7201a8"
            ],
            [
             0.3333333333333333,
             "#9c179e"
            ],
            [
             0.4444444444444444,
             "#bd3786"
            ],
            [
             0.5555555555555556,
             "#d8576b"
            ],
            [
             0.6666666666666666,
             "#ed7953"
            ],
            [
             0.7777777777777778,
             "#fb9f3a"
            ],
            [
             0.8888888888888888,
             "#fdca26"
            ],
            [
             1,
             "#f0f921"
            ]
           ]
          },
          "colorway": [
           "#636efa",
           "#EF553B",
           "#00cc96",
           "#ab63fa",
           "#FFA15A",
           "#19d3f3",
           "#FF6692",
           "#B6E880",
           "#FF97FF",
           "#FECB52"
          ],
          "font": {
           "color": "#2a3f5f"
          },
          "geo": {
           "bgcolor": "white",
           "lakecolor": "white",
           "landcolor": "white",
           "showlakes": true,
           "showland": true,
           "subunitcolor": "#C8D4E3"
          },
          "hoverlabel": {
           "align": "left"
          },
          "hovermode": "closest",
          "mapbox": {
           "style": "light"
          },
          "paper_bgcolor": "white",
          "plot_bgcolor": "white",
          "polar": {
           "angularaxis": {
            "gridcolor": "#EBF0F8",
            "linecolor": "#EBF0F8",
            "ticks": ""
           },
           "bgcolor": "white",
           "radialaxis": {
            "gridcolor": "#EBF0F8",
            "linecolor": "#EBF0F8",
            "ticks": ""
           }
          },
          "scene": {
           "xaxis": {
            "backgroundcolor": "white",
            "gridcolor": "#DFE8F3",
            "gridwidth": 2,
            "linecolor": "#EBF0F8",
            "showbackground": true,
            "ticks": "",
            "zerolinecolor": "#EBF0F8"
           },
           "yaxis": {
            "backgroundcolor": "white",
            "gridcolor": "#DFE8F3",
            "gridwidth": 2,
            "linecolor": "#EBF0F8",
            "showbackground": true,
            "ticks": "",
            "zerolinecolor": "#EBF0F8"
           },
           "zaxis": {
            "backgroundcolor": "white",
            "gridcolor": "#DFE8F3",
            "gridwidth": 2,
            "linecolor": "#EBF0F8",
            "showbackground": true,
            "ticks": "",
            "zerolinecolor": "#EBF0F8"
           }
          },
          "shapedefaults": {
           "line": {
            "color": "#2a3f5f"
           }
          },
          "ternary": {
           "aaxis": {
            "gridcolor": "#DFE8F3",
            "linecolor": "#A2B1C6",
            "ticks": ""
           },
           "baxis": {
            "gridcolor": "#DFE8F3",
            "linecolor": "#A2B1C6",
            "ticks": ""
           },
           "bgcolor": "white",
           "caxis": {
            "gridcolor": "#DFE8F3",
            "linecolor": "#A2B1C6",
            "ticks": ""
           }
          },
          "title": {
           "x": 0.05
          },
          "xaxis": {
           "automargin": true,
           "gridcolor": "#EBF0F8",
           "linecolor": "#EBF0F8",
           "ticks": "",
           "title": {
            "standoff": 15
           },
           "zerolinecolor": "#EBF0F8",
           "zerolinewidth": 2
          },
          "yaxis": {
           "automargin": true,
           "gridcolor": "#EBF0F8",
           "linecolor": "#EBF0F8",
           "ticks": "",
           "title": {
            "standoff": 15
           },
           "zerolinecolor": "#EBF0F8",
           "zerolinewidth": 2
          }
         }
        },
        "title": {
         "text": "Portfolio and FTSE Index Metrics Comparison"
        }
       }
      }
     },
     "metadata": {},
     "output_type": "display_data"
    }
   ],
   "source": [
    "# Extract portfolio metrics\n",
    "optimized_metrics = {\n",
    "    'Returns': optimized_df['Returns'].values[0],\n",
    "    'Volatility': optimized_df['Volatility'].values[0],\n",
    "    'Sharpe Ratio': optimized_df['Sharpe Ratio'].values[0],\n",
    "    'WACI': optimized_df['WACI'].values[0]\n",
    "}\n",
    "\n",
    "# Extract FTSE index metrics\n",
    "ftse_metrics = {\n",
    "    'Returns': ftse_returns['Returns'].values[0],\n",
    "    'Volatility': ftse_returns['Volatility'].values[0],\n",
    "    'Sharpe Ratio': ftse_returns['Sharpe Ratio'].values[0],\n",
    "    'WACI': ftse_returns['WACI'].values[0]\n",
    "}\n",
    "\n",
    "# Create subplots: 1 row, 2 columns\n",
    "fig = make_subplots(\n",
    "    rows=1, cols=2,\n",
    "    column_widths=[0.5, 0.5],\n",
    "    specs=[[{\"type\": \"table\"}, {\"type\": \"table\"}]]\n",
    ")\n",
    "\n",
    "# Add table for optimized portfolio metrics\n",
    "fig.add_trace(go.Table(\n",
    "    header=dict(values=['Metric', 'Optimized Portfolio Value'],\n",
    "                fill_color='paleturquoise',\n",
    "                align='center',\n",
    "                font=dict(size=16)),\n",
    "    cells=dict(values=[list(optimized_metrics.keys()), \n",
    "                       [f'{v:.2%}' if i in [0, 1] else f'{v:.4f}' for i, v in enumerate(optimized_metrics.values())]],\n",
    "               fill_color='lavender',\n",
    "               align='center',\n",
    "               font=dict(size=13),\n",
    "               height=50))\n",
    ", row=1, col=1)\n",
    "\n",
    "# Add table for FTSE index metrics\n",
    "fig.add_trace(go.Table(\n",
    "    header=dict(values=['Metric', 'FTSE Index Value'],\n",
    "                fill_color='paleturquoise',\n",
    "                align='center',\n",
    "                font=dict(size=16)),\n",
    "    cells=dict(values=[list(ftse_metrics.keys()), \n",
    "                       [f'{v:.2%}' if i in [0, 1] else f'{v:.4f}' for i, v in enumerate(ftse_metrics.values())]],\n",
    "               fill_color='lavender',\n",
    "               align='center',\n",
    "               font=dict(size=13),\n",
    "               height=50))\n",
    ", row=1, col=2)\n",
    "\n",
    "# Update layout\n",
    "fig.update_layout(\n",
    "    title_text='Portfolio and FTSE Index Metrics Comparison',\n",
    "    template='plotly_white'\n",
    ")\n",
    "\n",
    "# Show the plot\n",
    "fig.show()"
   ]
  }
 ],
 "metadata": {
  "kernelspec": {
   "display_name": "Python 3",
   "language": "python",
   "name": "python3"
  },
  "language_info": {
   "codemirror_mode": {
    "name": "ipython",
    "version": 3
   },
   "file_extension": ".py",
   "mimetype": "text/x-python",
   "name": "python",
   "nbconvert_exporter": "python",
   "pygments_lexer": "ipython3",
   "version": "3.11.9"
  }
 },
 "nbformat": 4,
 "nbformat_minor": 2
}
